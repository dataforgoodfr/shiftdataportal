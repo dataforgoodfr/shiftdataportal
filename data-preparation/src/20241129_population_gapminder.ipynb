{
 "cells": [
  {
   "cell_type": "code",
   "execution_count": 12,
   "id": "9b6ae3b1",
   "metadata": {},
   "outputs": [
    {
     "name": "stdout",
     "output_type": "stream",
     "text": [
      "Requirement already satisfied: openpyxl in c:\\users\\utilisateur\\documents\\github\\shiftdataportal\\.venv\\lib\\site-packages (3.1.5)\n",
      "Requirement already satisfied: et-xmlfile in c:\\users\\utilisateur\\documents\\github\\shiftdataportal\\.venv\\lib\\site-packages (from openpyxl) (2.0.0)\n",
      "Note: you may need to restart the kernel to use updated packages.\n",
      "Collecting missingno\n",
      "  Using cached missingno-0.5.2-py3-none-any.whl.metadata (639 bytes)\n",
      "Requirement already satisfied: numpy in c:\\users\\utilisateur\\documents\\github\\shiftdataportal\\.venv\\lib\\site-packages (from missingno) (1.26.0)\n",
      "Requirement already satisfied: matplotlib in c:\\users\\utilisateur\\documents\\github\\shiftdataportal\\.venv\\lib\\site-packages (from missingno) (3.7.1)\n",
      "Collecting scipy (from missingno)\n",
      "  Using cached scipy-1.14.1-cp311-cp311-win_amd64.whl.metadata (60 kB)\n",
      "Collecting seaborn (from missingno)\n",
      "  Using cached seaborn-0.13.2-py3-none-any.whl.metadata (5.4 kB)\n",
      "Requirement already satisfied: contourpy>=1.0.1 in c:\\users\\utilisateur\\documents\\github\\shiftdataportal\\.venv\\lib\\site-packages (from matplotlib->missingno) (1.0.7)\n",
      "Requirement already satisfied: cycler>=0.10 in c:\\users\\utilisateur\\documents\\github\\shiftdataportal\\.venv\\lib\\site-packages (from matplotlib->missingno) (0.11.0)\n",
      "Requirement already satisfied: fonttools>=4.22.0 in c:\\users\\utilisateur\\documents\\github\\shiftdataportal\\.venv\\lib\\site-packages (from matplotlib->missingno) (4.39.3)\n",
      "Requirement already satisfied: kiwisolver>=1.0.1 in c:\\users\\utilisateur\\documents\\github\\shiftdataportal\\.venv\\lib\\site-packages (from matplotlib->missingno) (1.4.4)\n",
      "Requirement already satisfied: packaging>=20.0 in c:\\users\\utilisateur\\documents\\github\\shiftdataportal\\.venv\\lib\\site-packages (from matplotlib->missingno) (23.1)\n",
      "Requirement already satisfied: pillow>=6.2.0 in c:\\users\\utilisateur\\documents\\github\\shiftdataportal\\.venv\\lib\\site-packages (from matplotlib->missingno) (9.5.0)\n",
      "Requirement already satisfied: pyparsing>=2.3.1 in c:\\users\\utilisateur\\documents\\github\\shiftdataportal\\.venv\\lib\\site-packages (from matplotlib->missingno) (3.0.9)\n",
      "Requirement already satisfied: python-dateutil>=2.7 in c:\\users\\utilisateur\\documents\\github\\shiftdataportal\\.venv\\lib\\site-packages (from matplotlib->missingno) (2.8.2)\n",
      "Requirement already satisfied: pandas>=1.2 in c:\\users\\utilisateur\\documents\\github\\shiftdataportal\\.venv\\lib\\site-packages (from seaborn->missingno) (2.2.1)\n",
      "Requirement already satisfied: pytz>=2020.1 in c:\\users\\utilisateur\\documents\\github\\shiftdataportal\\.venv\\lib\\site-packages (from pandas>=1.2->seaborn->missingno) (2023.3)\n",
      "Requirement already satisfied: tzdata>=2022.7 in c:\\users\\utilisateur\\documents\\github\\shiftdataportal\\.venv\\lib\\site-packages (from pandas>=1.2->seaborn->missingno) (2023.3)\n",
      "Requirement already satisfied: six>=1.5 in c:\\users\\utilisateur\\documents\\github\\shiftdataportal\\.venv\\lib\\site-packages (from python-dateutil>=2.7->matplotlib->missingno) (1.16.0)\n",
      "Using cached missingno-0.5.2-py3-none-any.whl (8.7 kB)\n",
      "Using cached scipy-1.14.1-cp311-cp311-win_amd64.whl (44.8 MB)\n",
      "Using cached seaborn-0.13.2-py3-none-any.whl (294 kB)\n",
      "Installing collected packages: scipy, seaborn, missingno\n",
      "Successfully installed missingno-0.5.2 scipy-1.14.1 seaborn-0.13.2\n",
      "Note: you may need to restart the kernel to use updated packages.\n"
     ]
    }
   ],
   "source": [
    "%pip install openpyxl\n",
    "%pip install missingno"
   ]
  },
  {
   "cell_type": "code",
   "execution_count": null,
   "id": "c0040e63",
   "metadata": {},
   "outputs": [],
   "source": [
    "from main_transformation import TransformationPipeline\n",
    "import pandas as pd\n",
    "import numpy as np\n",
    "import matplotlib.pyplot as plt\n",
    "import pycountry\n",
    "from gapminder import gapminder\n",
    "import missingno as msno\n",
    "import seaborn as sns"
   ]
  },
  {
   "attachments": {},
   "cell_type": "markdown",
   "id": "a320b097",
   "metadata": {},
   "source": [
    "# Get data from Gapminder"
   ]
  },
  {
   "cell_type": "code",
   "execution_count": 4,
   "id": "bdb7f800",
   "metadata": {},
   "outputs": [
    {
     "name": "stdout",
     "output_type": "stream",
     "text": [
      "      country_code_a3  year                 country_name   population\n",
      "0                 AFE  2023  Africa Eastern and Southern  739108306.0\n",
      "1                 AFE  2022  Africa Eastern and Southern  720859132.0\n",
      "2                 AFE  2021  Africa Eastern and Southern  702977106.0\n",
      "3                 AFE  2020  Africa Eastern and Southern  685112979.0\n",
      "4                 AFE  2019  Africa Eastern and Southern  667242986.0\n",
      "...               ...   ...                          ...          ...\n",
      "17019             ZWE  1964                     Zimbabwe    4310332.0\n",
      "17020             ZWE  1963                     Zimbabwe    4177931.0\n",
      "17021             ZWE  1962                     Zimbabwe    4049778.0\n",
      "17022             ZWE  1961                     Zimbabwe    3925952.0\n",
      "17023             ZWE  1960                     Zimbabwe    3806310.0\n",
      "\n",
      "[17024 rows x 4 columns]\n",
      "\n",
      "----- compute Population for each country and each zone\n",
      "WARNING : no translating found for 53 countries\n",
      "Please, check the following list :\n",
      "['Middle East & North Africa (excluding high income)', 'East Asia & Pacific (IDA & IBRD countries)', 'Sub-Saharan Africa (excluding high income)', 'Latin America & Caribbean (excluding high income)', 'Sint Maarten (Dutch part)', 'Euro area', 'Europe & Central Asia (excluding high income)', 'Middle income', 'Europe & Central Asia (IDA & IBRD countries)', 'St. Martin (French part)', 'IDA blend', 'Lower middle income', 'Central Europe and the Baltics', 'Middle East & North Africa (IDA & IBRD countries)', 'Africa Western and Central', 'Isle of Man', 'Caribbean small states', 'Small states', 'South Asia (IDA & IBRD)', 'European Union', 'East Asia & Pacific', 'Europe & Central Asia', 'Arab World', 'High income', 'West Bank and Gaza', 'Least developed countries: UN classification', 'IBRD only', 'Post-demographic dividend', 'Sub-Saharan Africa', 'Fragile and conflict affected situations', 'Low & middle income', 'IDA total', 'Sub-Saharan Africa (IDA & IBRD countries)', 'IDA only', 'Pacific island small states', 'OECD members', 'Latin America & Caribbean', 'Curacao', 'Africa Eastern and Southern', 'East Asia & Pacific (excluding high income)', 'IDA & IBRD total', 'Late-demographic dividend', 'Other small states', 'South Asia', 'Early-demographic dividend', 'Channel Islands', 'Upper middle income', 'Middle East & North Africa', 'Low income', 'Pre-demographic dividend', 'Heavily indebted poor countries (HIPC)', \"Korea, Dem. People's Rep.\", 'Latin America & the Caribbean (IDA & IBRD countries)']\n",
      "\n",
      "WARNING: 4 countries are missing in the statistics dataset for zone : Africa\n",
      "['Reunion', 'Saint Helena', 'Swaziland', 'Western Sahara']\n",
      "\n",
      "WARNING: 6 countries are missing in the statistics dataset for zone : Asia and Oceania\n",
      "['Cook Islands', 'Niue', 'North Korea', 'Taiwan', 'US Pacific Islands', 'Wake Island']\n",
      "\n",
      "WARNING: 6 countries are missing in the statistics dataset for zone : Central and South America\n",
      "['Falkland Islands (Malvinas)', 'French Guiana', 'Guadeloupe', 'Martinique', 'Montserrat', 'Netherlands Antilles']\n",
      "\n",
      "WARNING: 2 countries are missing in the statistics dataset for zone : Europe\n",
      "['Czechoslovakia', 'Yugoslavia']\n",
      "\n",
      "WARNING: 1 countries are missing in the statistics dataset for zone : Middle East\n",
      "['Palestine']\n",
      "\n",
      "WARNING: 1 countries are missing in the statistics dataset for zone : North America\n",
      "['Saint Pierre and Miquelon']\n",
      "\n",
      "WARNING: 20 countries are missing in the statistics dataset for zone : World\n",
      "['Cook Islands', 'Czechoslovakia', 'Falkland Islands (Malvinas)', 'French Guiana', 'Guadeloupe', 'Martinique', 'Montserrat', 'Netherlands Antilles', 'Niue', 'North Korea', 'Palestine', 'Reunion', 'Saint Helena', 'Saint Pierre and Miquelon', 'Swaziland', 'Taiwan', 'US Pacific Islands', 'Wake Island', 'Western Sahara', 'Yugoslavia']\n",
      "\n",
      "WARNING: 6 countries are in the statistics dataset but not in the countries referential\n",
      "Please check the following list:\n",
      "{'Tuvalu', 'Micronesia', 'Kosovo', 'World', 'Marshall Islands', 'Northern Mariana Islands'}\n",
      "\n",
      "----- compute GapMinder for each country and each zone\n",
      "\n",
      "WARNING: 4 countries are missing in the statistics dataset for zone : Africa\n",
      "['Reunion', 'Saint Helena', 'Swaziland', 'Western Sahara']\n",
      "\n",
      "WARNING: 9 countries are missing in the statistics dataset for zone : Asia and Oceania\n",
      "['American Samoa', 'Cook Islands', 'French Polynesia', 'Guam', 'Macao Special Administrative Region (China)', 'New Caledonia', 'Niue', 'US Pacific Islands', 'Wake Island']\n",
      "\n",
      "WARNING: 12 countries are missing in the statistics dataset for zone : Central and South America\n",
      "['Aruba', 'British Virgin Islands', 'Cayman Islands', 'Falkland Islands (Malvinas)', 'French Guiana', 'Guadeloupe', 'Martinique', 'Montserrat', 'Netherlands Antilles', 'Puerto Rico', 'Turks and Caicos Islands', 'United States Virgin Islands']\n",
      "\n",
      "WARNING: 4 countries are missing in the statistics dataset for zone : Europe\n",
      "['Czechoslovakia', 'Faeroe Islands', 'Gibraltar', 'Yugoslavia']\n",
      "\n",
      "WARNING: 3 countries are missing in the statistics dataset for zone : North America\n",
      "['Bermuda', 'Greenland', 'Saint Pierre and Miquelon']\n",
      "\n",
      "WARNING: 32 countries are missing in the statistics dataset for zone : World\n",
      "['American Samoa', 'Aruba', 'Bermuda', 'British Virgin Islands', 'Cayman Islands', 'Cook Islands', 'Czechoslovakia', 'Faeroe Islands', 'Falkland Islands (Malvinas)', 'French Guiana', 'French Polynesia', 'Gibraltar', 'Greenland', 'Guadeloupe', 'Guam', 'Macao Special Administrative Region (China)', 'Martinique', 'Montserrat', 'Netherlands Antilles', 'New Caledonia', 'Niue', 'Puerto Rico', 'Reunion', 'Saint Helena', 'Saint Pierre and Miquelon', 'Swaziland', 'Turks and Caicos Islands', 'US Pacific Islands', 'United States Virgin Islands', 'Wake Island', 'Western Sahara', 'Yugoslavia']\n",
      "\n",
      "WARNING: 4 countries are in the statistics dataset but not in the countries referential\n",
      "Please check the following list:\n",
      "{'Micronesia', 'Vatican', 'Marshall Islands', 'Tuvalu'}\n"
     ]
    },
    {
     "name": "stderr",
     "output_type": "stream",
     "text": [
      "c:\\Users\\Utilisateur\\Documents\\GitHub\\shiftdataportal\\data-preparation\\src\\transformation\\demographic\\population.py:60: FutureWarning: DataFrame.applymap has been deprecated. Use DataFrame.map instead.\n",
      "  df_gapminder = df_gapminder.applymap(lambda element: self.dirty_string_to_int(element))\n"
     ]
    }
   ],
   "source": [
    "df_population, df_gapminder = TransformationPipeline().run()"
   ]
  },
  {
   "cell_type": "code",
   "execution_count": 7,
   "id": "53abcc4b",
   "metadata": {},
   "outputs": [],
   "source": [
    "def display_unique_values(s:pd.Series, df:pd.DataFrame):\n",
    "    n_unique_values = df.loc[s.name, \"nbr_unique_values\"]\n",
    "    if n_unique_values == 0:\n",
    "        return \"no value\"\n",
    "    if n_unique_values < 6:\n",
    "        return \", \".join(f\"{s.value_counts().index[i]} ({v} occurrences)\" for i, v in enumerate(s.value_counts()))\n",
    "    \n",
    "    return \"too many to display\"\n",
    "\n",
    "\n",
    "def add_additional_comment(s:pd.Series, df:pd.DataFrame, sensitivity:float):   \n",
    "    value_counts = s.value_counts()\n",
    "\n",
    "    if len(value_counts) > 0:\n",
    "        # Calculate top common values based on sensitivity\n",
    "        n_top_common_values = int(len(value_counts) * sensitivity)\n",
    "        top_common_values = value_counts.values[:n_top_common_values]\n",
    "        \n",
    "        # Check if the top common values represent a significant proportion of the data\n",
    "        if value_counts.quantile(1 - sensitivity) / value_counts.max() < 0.25 and n_top_common_values <= 10:\n",
    "            sum_top_common_values = top_common_values.sum()\n",
    "            top_common_values_prop = round(sum_top_common_values / df.loc[s.name, \"nbr_non_null_values\"], 2)\n",
    "            top_common_values_info = [f\"{value_counts.index[i]} ({value})\" for i, value in enumerate(top_common_values)]\n",
    "            \n",
    "            # Print additional comments on common values\n",
    "            return f\"\"\"First {n_top_common_values} unique values represent {top_common_values_prop * 100}% of total values : {', '.join(top_common_values_info)}\"\"\"\n",
    "        \n",
    "        return\n",
    "    \n",
    "    else:\n",
    "        return \"This column only contains null values.\"\n",
    "\n",
    "\n",
    "def compute_modes(s:pd.Series):\n",
    "    value_counts = s.value_counts()\n",
    "    modes = s.mode()\n",
    "    n_modes = len(modes)\n",
    "\n",
    "    if n_modes > 0:\n",
    "        return \", \".join(str(v) if i < 3 else f\"... ({n_modes} elements)\" for i, v in enumerate(modes[:min(n_modes, 4)])) + f\" ({value_counts.values[0]} occurrence(s))\"\n",
    "    \n",
    "    return\n",
    "\n",
    "\n",
    "def get_df_variables_info(df:pd.DataFrame) -> pd.DataFrame:\n",
    "\n",
    "    (n_rows, n_columns) = df.shape\n",
    "    print(f\"This DataFrame has {n_rows} rows and {n_columns} columns.\")\n",
    "    \n",
    "    top_common_values_sensitivity = 0.15\n",
    "\n",
    "    n_unique_values = df.nunique()\n",
    "    n_values = df.count()\n",
    "\n",
    "    df_info = pd.DataFrame({\n",
    "        'column_type':df.dtypes,\n",
    "        'missing_value_percentage': (df.isnull().mean()*100).round(3),\n",
    "        'nbr_unique_values': n_unique_values,\n",
    "        'nbr_null_values': df.isnull().sum(),\n",
    "        'nbr_non_null_values': n_values,\n",
    "        'duplicates_percentage':round(100-n_unique_values/(n_values.where(n_values != 0, np.nan))*100, 2),\n",
    "        'mode': df.apply(compute_modes),\n",
    "        'min': df.min(numeric_only=True),\n",
    "        'max': df.max(numeric_only=True),\n",
    "        'mean': df.mean(numeric_only=True),\n",
    "        'median': df.median(numeric_only=True),\n",
    "        'std': df.std(numeric_only=True)\n",
    "        })\n",
    "\n",
    "    df_info[\"unique_values\"] = df.apply(display_unique_values, df=df_info)\n",
    "    df_info[\"additional_comment\"] = df.apply(add_additional_comment, df=df_info, sensitivity=top_common_values_sensitivity)\n",
    "\n",
    "    return df_info\n"
   ]
  },
  {
   "cell_type": "code",
   "execution_count": 10,
   "id": "f8e8ecbc",
   "metadata": {},
   "outputs": [
    {
     "name": "stdout",
     "output_type": "stream",
     "text": [
      "This DataFrame has 14272 rows and 4 columns.\n"
     ]
    }
   ],
   "source": [
    "df_population_info = get_df_variables_info(df_population)"
   ]
  },
  {
   "cell_type": "code",
   "execution_count": 11,
   "id": "7121633f",
   "metadata": {},
   "outputs": [
    {
     "name": "stdout",
     "output_type": "stream",
     "text": [
      "This DataFrame has 46398 rows and 4 columns.\n"
     ]
    }
   ],
   "source": [
    "df_gapminder_info = get_df_variables_info(df_gapminder)"
   ]
  },
  {
   "cell_type": "code",
   "execution_count": 14,
   "id": "3702559e",
   "metadata": {},
   "outputs": [],
   "source": [
    "df_gapminder[\"year\"] = df_gapminder[\"year\"].astype(int)"
   ]
  },
  {
   "cell_type": "code",
   "execution_count": 15,
   "id": "4e03c3e1",
   "metadata": {},
   "outputs": [],
   "source": [
    "df_population[\"year\"] = df_population[\"year\"].astype(int)"
   ]
  },
  {
   "cell_type": "code",
   "execution_count": 16,
   "id": "d4c5fd36",
   "metadata": {},
   "outputs": [
    {
     "name": "stdout",
     "output_type": "stream",
     "text": [
      "This DataFrame has 14272 rows and 4 columns.\n",
      "This DataFrame has 46398 rows and 4 columns.\n"
     ]
    }
   ],
   "source": [
    "df_population_info = get_df_variables_info(df_population)\n",
    "df_gapminder_info = get_df_variables_info(df_gapminder)"
   ]
  },
  {
   "cell_type": "markdown",
   "id": "f728e810",
   "metadata": {},
   "source": [
    "What countries are present in one source but not the other ?"
   ]
  },
  {
   "cell_type": "code",
   "execution_count": 27,
   "id": "2c55fa20",
   "metadata": {},
   "outputs": [
    {
     "name": "stdout",
     "output_type": "stream",
     "text": [
      "Here are the countries present in source 'GapMinder' but not in source 'WBD' :\n",
      "Taiwan\n",
      "North Korea\n",
      "Vatican\n",
      "Palestine\n"
     ]
    }
   ],
   "source": [
    "additional_countries_GM = list(set(df_gapminder[\"group_name\"]) - set(df_population[\"group_name\"]))\n",
    "print(f\"Here are the countries present in source 'GapMinder' but not in source 'WBD' :\")\n",
    "print('\\n'.join(additional_countries_GM))"
   ]
  },
  {
   "cell_type": "code",
   "execution_count": 26,
   "id": "41aa3976",
   "metadata": {},
   "outputs": [
    {
     "name": "stdout",
     "output_type": "stream",
     "text": [
      "Here are the countries present in source 'WBD' but not in source 'GapMinder' :\n",
      "Gibraltar\n",
      "Turks and Caicos Islands\n",
      "Aruba\n",
      "New Caledonia\n",
      "Bermuda\n",
      "Guam\n",
      "Kosovo\n",
      "Greenland\n",
      "American Samoa\n",
      "Macao Special Administrative Region (China)\n",
      "British Virgin Islands\n",
      "Puerto Rico\n",
      "Northern Mariana Islands\n",
      "United States Virgin Islands\n",
      "French Polynesia\n",
      "Cayman Islands\n",
      "Faeroe Islands\n"
     ]
    }
   ],
   "source": [
    "additional_countries_GM = list(set(df_population[\"group_name\"]) - set(df_gapminder[\"group_name\"]))\n",
    "print(\"Here are the countries present in source 'WBD' but not in source 'GapMinder' :\")\n",
    "print('\\n'.join(additional_countries_GM))"
   ]
  },
  {
   "cell_type": "code",
   "execution_count": null,
   "id": "6d40d80a",
   "metadata": {},
   "outputs": [],
   "source": [
    "sns.lineplot()"
   ]
  },
  {
   "attachments": {},
   "cell_type": "markdown",
   "id": "2c3053ea",
   "metadata": {},
   "source": [
    "# Add country codes"
   ]
  },
  {
   "attachments": {},
   "cell_type": "markdown",
   "id": "7fdd0f00",
   "metadata": {},
   "source": [
    "## Helper function to get country codes"
   ]
  },
  {
   "cell_type": "code",
   "execution_count": 4,
   "id": "0195eb56",
   "metadata": {},
   "outputs": [],
   "source": [
    "def get_country_code(country_name):\n",
    "    try:\n",
    "        country = pycountry.countries.search_fuzzy(country_name)\n",
    "        return country[0].alpha_3\n",
    "    except:\n",
    "        return None"
   ]
  },
  {
   "cell_type": "code",
   "execution_count": 5,
   "id": "f9ebb031",
   "metadata": {},
   "outputs": [
    {
     "data": {
      "text/plain": [
       "'FRA'"
      ]
     },
     "execution_count": 5,
     "metadata": {},
     "output_type": "execute_result"
    }
   ],
   "source": [
    "get_country_code(\"France\")"
   ]
  },
  {
   "attachments": {},
   "cell_type": "markdown",
   "id": "d18e22e8",
   "metadata": {},
   "source": [
    "## Create mapping table"
   ]
  },
  {
   "cell_type": "code",
   "execution_count": 1,
   "id": "b04ad26f",
   "metadata": {},
   "outputs": [
    {
     "ename": "NameError",
     "evalue": "name 'gapminder' is not defined",
     "output_type": "error",
     "traceback": [
      "\u001b[0;31m---------------------------------------------------------------------------\u001b[0m",
      "\u001b[0;31mNameError\u001b[0m                                 Traceback (most recent call last)",
      "Cell \u001b[0;32mIn[1], line 1\u001b[0m\n\u001b[0;32m----> 1\u001b[0m all_countries \u001b[39m=\u001b[39m \u001b[39mlist\u001b[39m(gapminder[\u001b[39m\"\u001b[39m\u001b[39mcountry\u001b[39m\u001b[39m\"\u001b[39m]\u001b[39m.\u001b[39munique())\n\u001b[1;32m      2\u001b[0m \u001b[39mlen\u001b[39m(all_countries)\n",
      "\u001b[0;31mNameError\u001b[0m: name 'gapminder' is not defined"
     ]
    }
   ],
   "source": [
    "all_countries = list(gapminder[\"country\"].unique())\n",
    "len(all_countries)"
   ]
  },
  {
   "cell_type": "code",
   "execution_count": 10,
   "id": "e726ef80",
   "metadata": {},
   "outputs": [
    {
     "data": {
      "text/html": [
       "<div>\n",
       "<style scoped>\n",
       "    .dataframe tbody tr th:only-of-type {\n",
       "        vertical-align: middle;\n",
       "    }\n",
       "\n",
       "    .dataframe tbody tr th {\n",
       "        vertical-align: top;\n",
       "    }\n",
       "\n",
       "    .dataframe thead th {\n",
       "        text-align: right;\n",
       "    }\n",
       "</style>\n",
       "<table border=\"1\" class=\"dataframe\">\n",
       "  <thead>\n",
       "    <tr style=\"text-align: right;\">\n",
       "      <th></th>\n",
       "      <th>country</th>\n",
       "      <th>country_code</th>\n",
       "    </tr>\n",
       "  </thead>\n",
       "  <tbody>\n",
       "    <tr>\n",
       "      <th>0</th>\n",
       "      <td>Afghanistan</td>\n",
       "      <td>AFG</td>\n",
       "    </tr>\n",
       "    <tr>\n",
       "      <th>1</th>\n",
       "      <td>Albania</td>\n",
       "      <td>ALB</td>\n",
       "    </tr>\n",
       "    <tr>\n",
       "      <th>2</th>\n",
       "      <td>Algeria</td>\n",
       "      <td>DZA</td>\n",
       "    </tr>\n",
       "    <tr>\n",
       "      <th>3</th>\n",
       "      <td>Angola</td>\n",
       "      <td>AGO</td>\n",
       "    </tr>\n",
       "    <tr>\n",
       "      <th>4</th>\n",
       "      <td>Argentina</td>\n",
       "      <td>ARG</td>\n",
       "    </tr>\n",
       "  </tbody>\n",
       "</table>\n",
       "</div>"
      ],
      "text/plain": [
       "       country country_code\n",
       "0  Afghanistan          AFG\n",
       "1      Albania          ALB\n",
       "2      Algeria          DZA\n",
       "3       Angola          AGO\n",
       "4    Argentina          ARG"
      ]
     },
     "execution_count": 10,
     "metadata": {},
     "output_type": "execute_result"
    }
   ],
   "source": [
    "country_mapping = []\n",
    "for country in all_countries:\n",
    "    country_mapping.append({\"country\":country,\"country_code\":get_country_code(country)})\n",
    "country_mapping = pd.DataFrame(country_mapping)\n",
    "country_mapping.head()"
   ]
  },
  {
   "attachments": {},
   "cell_type": "markdown",
   "id": "14553526",
   "metadata": {},
   "source": [
    "## Merge with gapminder dataset"
   ]
  },
  {
   "cell_type": "code",
   "execution_count": 11,
   "id": "49eb7cac",
   "metadata": {},
   "outputs": [
    {
     "data": {
      "text/html": [
       "<div>\n",
       "<style scoped>\n",
       "    .dataframe tbody tr th:only-of-type {\n",
       "        vertical-align: middle;\n",
       "    }\n",
       "\n",
       "    .dataframe tbody tr th {\n",
       "        vertical-align: top;\n",
       "    }\n",
       "\n",
       "    .dataframe thead th {\n",
       "        text-align: right;\n",
       "    }\n",
       "</style>\n",
       "<table border=\"1\" class=\"dataframe\">\n",
       "  <thead>\n",
       "    <tr style=\"text-align: right;\">\n",
       "      <th></th>\n",
       "      <th>year</th>\n",
       "      <th>country</th>\n",
       "      <th>pop</th>\n",
       "      <th>country_code</th>\n",
       "    </tr>\n",
       "  </thead>\n",
       "  <tbody>\n",
       "    <tr>\n",
       "      <th>0</th>\n",
       "      <td>1952</td>\n",
       "      <td>Afghanistan</td>\n",
       "      <td>8425333</td>\n",
       "      <td>AFG</td>\n",
       "    </tr>\n",
       "    <tr>\n",
       "      <th>1</th>\n",
       "      <td>1957</td>\n",
       "      <td>Afghanistan</td>\n",
       "      <td>9240934</td>\n",
       "      <td>AFG</td>\n",
       "    </tr>\n",
       "    <tr>\n",
       "      <th>2</th>\n",
       "      <td>1962</td>\n",
       "      <td>Afghanistan</td>\n",
       "      <td>10267083</td>\n",
       "      <td>AFG</td>\n",
       "    </tr>\n",
       "    <tr>\n",
       "      <th>3</th>\n",
       "      <td>1967</td>\n",
       "      <td>Afghanistan</td>\n",
       "      <td>11537966</td>\n",
       "      <td>AFG</td>\n",
       "    </tr>\n",
       "    <tr>\n",
       "      <th>4</th>\n",
       "      <td>1972</td>\n",
       "      <td>Afghanistan</td>\n",
       "      <td>13079460</td>\n",
       "      <td>AFG</td>\n",
       "    </tr>\n",
       "  </tbody>\n",
       "</table>\n",
       "</div>"
      ],
      "text/plain": [
       "   year      country       pop country_code\n",
       "0  1952  Afghanistan   8425333          AFG\n",
       "1  1957  Afghanistan   9240934          AFG\n",
       "2  1962  Afghanistan  10267083          AFG\n",
       "3  1967  Afghanistan  11537966          AFG\n",
       "4  1972  Afghanistan  13079460          AFG"
      ]
     },
     "execution_count": 11,
     "metadata": {},
     "output_type": "execute_result"
    }
   ],
   "source": [
    "population_data = population_data.merge(country_mapping,on = \"country\")\n",
    "population_data.head()"
   ]
  },
  {
   "attachments": {},
   "cell_type": "markdown",
   "id": "cba9eb7c",
   "metadata": {},
   "source": [
    "# CSV Export"
   ]
  },
  {
   "cell_type": "code",
   "execution_count": 17,
   "id": "66cada53",
   "metadata": {},
   "outputs": [],
   "source": [
    "population_data.to_csv(\"../../processed/population_gapminder.csv\",index = False)"
   ]
  },
  {
   "attachments": {},
   "cell_type": "markdown",
   "id": "49f8e011",
   "metadata": {},
   "source": [
    "# Visualisation"
   ]
  },
  {
   "cell_type": "code",
   "execution_count": 23,
   "id": "c7c7946c",
   "metadata": {},
   "outputs": [
    {
     "data": {
      "image/png": "[encoded data removed]",
      "text/plain": [
       "<Figure size 1000x300 with 1 Axes>"
      ]
     },
     "metadata": {},
     "output_type": "display_data"
    }
   ],
   "source": [
    "population_data.query(\"country_code=='FRA'\").set_index(\"year\")[\"pop\"].plot(kind = \"bar\",figsize = (10,3))\n",
    "plt.show()"
   ]
  },
  {
   "attachments": {},
   "cell_type": "markdown",
   "id": "55f5acb0",
   "metadata": {},
   "source": [
    "# Note"
   ]
  },
  {
   "attachments": {},
   "cell_type": "markdown",
   "id": "e9279f37",
   "metadata": {},
   "source": [
    "## Gapminder does not have all the year included"
   ]
  },
  {
   "attachments": {},
   "cell_type": "markdown",
   "id": "d81af136",
   "metadata": {},
   "source": [
    "## Gapminder includes GDP data as well"
   ]
  },
  {
   "cell_type": "code",
   "execution_count": 4,
   "id": "1d8623fa",
   "metadata": {},
   "outputs": [
    {
     "data": {
      "text/html": [
       "<div>\n",
       "<style scoped>\n",
       "    .dataframe tbody tr th:only-of-type {\n",
       "        vertical-align: middle;\n",
       "    }\n",
       "\n",
       "    .dataframe tbody tr th {\n",
       "        vertical-align: top;\n",
       "    }\n",
       "\n",
       "    .dataframe thead th {\n",
       "        text-align: right;\n",
       "    }\n",
       "</style>\n",
       "<table border=\"1\" class=\"dataframe\">\n",
       "  <thead>\n",
       "    <tr style=\"text-align: right;\">\n",
       "      <th></th>\n",
       "      <th>country</th>\n",
       "      <th>continent</th>\n",
       "      <th>year</th>\n",
       "      <th>lifeExp</th>\n",
       "      <th>pop</th>\n",
       "      <th>gdpPercap</th>\n",
       "    </tr>\n",
       "  </thead>\n",
       "  <tbody>\n",
       "    <tr>\n",
       "      <th>0</th>\n",
       "      <td>Afghanistan</td>\n",
       "      <td>Asia</td>\n",
       "      <td>1952</td>\n",
       "      <td>28.801</td>\n",
       "      <td>8425333</td>\n",
       "      <td>779.445314</td>\n",
       "    </tr>\n",
       "    <tr>\n",
       "      <th>1</th>\n",
       "      <td>Afghanistan</td>\n",
       "      <td>Asia</td>\n",
       "      <td>1957</td>\n",
       "      <td>30.332</td>\n",
       "      <td>9240934</td>\n",
       "      <td>820.853030</td>\n",
       "    </tr>\n",
       "    <tr>\n",
       "      <th>2</th>\n",
       "      <td>Afghanistan</td>\n",
       "      <td>Asia</td>\n",
       "      <td>1962</td>\n",
       "      <td>31.997</td>\n",
       "      <td>10267083</td>\n",
       "      <td>853.100710</td>\n",
       "    </tr>\n",
       "    <tr>\n",
       "      <th>3</th>\n",
       "      <td>Afghanistan</td>\n",
       "      <td>Asia</td>\n",
       "      <td>1967</td>\n",
       "      <td>34.020</td>\n",
       "      <td>11537966</td>\n",
       "      <td>836.197138</td>\n",
       "    </tr>\n",
       "    <tr>\n",
       "      <th>4</th>\n",
       "      <td>Afghanistan</td>\n",
       "      <td>Asia</td>\n",
       "      <td>1972</td>\n",
       "      <td>36.088</td>\n",
       "      <td>13079460</td>\n",
       "      <td>739.981106</td>\n",
       "    </tr>\n",
       "  </tbody>\n",
       "</table>\n",
       "</div>"
      ],
      "text/plain": [
       "       country continent  year  lifeExp       pop   gdpPercap\n",
       "0  Afghanistan      Asia  1952   28.801   8425333  779.445314\n",
       "1  Afghanistan      Asia  1957   30.332   9240934  820.853030\n",
       "2  Afghanistan      Asia  1962   31.997  10267083  853.100710\n",
       "3  Afghanistan      Asia  1967   34.020  11537966  836.197138\n",
       "4  Afghanistan      Asia  1972   36.088  13079460  739.981106"
      ]
     },
     "execution_count": 4,
     "metadata": {},
     "output_type": "execute_result"
    }
   ],
   "source": [
    "gapminder.head()"
   ]
  },
  {
   "attachments": {},
   "cell_type": "markdown",
   "id": "b9088859",
   "metadata": {},
   "source": [
    "## All the countries are not in Gapminder, total are not correct"
   ]
  },
  {
   "attachments": {},
   "cell_type": "markdown",
   "id": "76f3cf3c",
   "metadata": {},
   "source": [
    "> Gapminder dataset might not cover all countries, and the total population calculated using this dataset might not be equal to the actual world population."
   ]
  },
  {
   "cell_type": "code",
   "execution_count": null,
   "id": "46fe900f",
   "metadata": {},
   "outputs": [],
   "source": []
  }
 ],
 "metadata": {
  "kernelspec": {
   "display_name": ".venv",
   "language": "python",
   "name": "python3"
  },
  "language_info": {
   "codemirror_mode": {
    "name": "ipython",
    "version": 3
   },
   "file_extension": ".py",
   "mimetype": "text/x-python",
   "name": "python",
   "nbconvert_exporter": "python",
   "pygments_lexer": "ipython3",
   "version": "3.11.0"
  }
 },
 "nbformat": 4,
 "nbformat_minor": 5
}
