{
 "cells": [
  {
   "cell_type": "code",
   "execution_count": 12,
   "id": "9b6ae3b1",
   "metadata": {},
   "outputs": [
    {
     "name": "stdout",
     "output_type": "stream",
     "text": [
      "Requirement already satisfied: openpyxl in c:\\users\\utilisateur\\documents\\github\\shiftdataportal\\.venv\\lib\\site-packages (3.1.5)\n",
      "Requirement already satisfied: et-xmlfile in c:\\users\\utilisateur\\documents\\github\\shiftdataportal\\.venv\\lib\\site-packages (from openpyxl) (2.0.0)\n",
      "Note: you may need to restart the kernel to use updated packages.\n",
      "Collecting missingno\n",
      "  Using cached missingno-0.5.2-py3-none-any.whl.metadata (639 bytes)\n",
      "Requirement already satisfied: numpy in c:\\users\\utilisateur\\documents\\github\\shiftdataportal\\.venv\\lib\\site-packages (from missingno) (1.26.0)\n",
      "Requirement already satisfied: matplotlib in c:\\users\\utilisateur\\documents\\github\\shiftdataportal\\.venv\\lib\\site-packages (from missingno) (3.7.1)\n",
      "Collecting scipy (from missingno)\n",
      "  Using cached scipy-1.14.1-cp311-cp311-win_amd64.whl.metadata (60 kB)\n",
      "Collecting seaborn (from missingno)\n",
      "  Using cached seaborn-0.13.2-py3-none-any.whl.metadata (5.4 kB)\n",
      "Requirement already satisfied: contourpy>=1.0.1 in c:\\users\\utilisateur\\documents\\github\\shiftdataportal\\.venv\\lib\\site-packages (from matplotlib->missingno) (1.0.7)\n",
      "Requirement already satisfied: cycler>=0.10 in c:\\users\\utilisateur\\documents\\github\\shiftdataportal\\.venv\\lib\\site-packages (from matplotlib->missingno) (0.11.0)\n",
      "Requirement already satisfied: fonttools>=4.22.0 in c:\\users\\utilisateur\\documents\\github\\shiftdataportal\\.venv\\lib\\site-packages (from matplotlib->missingno) (4.39.3)\n",
      "Requirement already satisfied: kiwisolver>=1.0.1 in c:\\users\\utilisateur\\documents\\github\\shiftdataportal\\.venv\\lib\\site-packages (from matplotlib->missingno) (1.4.4)\n",
      "Requirement already satisfied: packaging>=20.0 in c:\\users\\utilisateur\\documents\\github\\shiftdataportal\\.venv\\lib\\site-packages (from matplotlib->missingno) (23.1)\n",
      "Requirement already satisfied: pillow>=6.2.0 in c:\\users\\utilisateur\\documents\\github\\shiftdataportal\\.venv\\lib\\site-packages (from matplotlib->missingno) (9.5.0)\n",
      "Requirement already satisfied: pyparsing>=2.3.1 in c:\\users\\utilisateur\\documents\\github\\shiftdataportal\\.venv\\lib\\site-packages (from matplotlib->missingno) (3.0.9)\n",
      "Requirement already satisfied: python-dateutil>=2.7 in c:\\users\\utilisateur\\documents\\github\\shiftdataportal\\.venv\\lib\\site-packages (from matplotlib->missingno) (2.8.2)\n",
      "Requirement already satisfied: pandas>=1.2 in c:\\users\\utilisateur\\documents\\github\\shiftdataportal\\.venv\\lib\\site-packages (from seaborn->missingno) (2.2.1)\n",
      "Requirement already satisfied: pytz>=2020.1 in c:\\users\\utilisateur\\documents\\github\\shiftdataportal\\.venv\\lib\\site-packages (from pandas>=1.2->seaborn->missingno) (2023.3)\n",
      "Requirement already satisfied: tzdata>=2022.7 in c:\\users\\utilisateur\\documents\\github\\shiftdataportal\\.venv\\lib\\site-packages (from pandas>=1.2->seaborn->missingno) (2023.3)\n",
      "Requirement already satisfied: six>=1.5 in c:\\users\\utilisateur\\documents\\github\\shiftdataportal\\.venv\\lib\\site-packages (from python-dateutil>=2.7->matplotlib->missingno) (1.16.0)\n",
      "Using cached missingno-0.5.2-py3-none-any.whl (8.7 kB)\n",
      "Using cached scipy-1.14.1-cp311-cp311-win_amd64.whl (44.8 MB)\n",
      "Using cached seaborn-0.13.2-py3-none-any.whl (294 kB)\n",
      "Installing collected packages: scipy, seaborn, missingno\n",
      "Successfully installed missingno-0.5.2 scipy-1.14.1 seaborn-0.13.2\n",
      "Note: you may need to restart the kernel to use updated packages.\n"
     ]
    }
   ],
   "source": [
    "%pip install openpyxl\n",
    "%pip install missingno"
   ]
  },
  {
   "cell_type": "code",
   "execution_count": 10,
   "id": "bb531a2d",
   "metadata": {},
   "outputs": [
    {
     "name": "stdout",
     "output_type": "stream",
     "text": [
      "Requirement already satisfied: pycountry in c:\\users\\utilisateur\\documents\\github\\shiftdataportal\\.venv\\lib\\site-packages (22.3.5)\n",
      "Requirement already satisfied: setuptools in c:\\users\\utilisateur\\documents\\github\\shiftdataportal\\.venv\\lib\\site-packages (from pycountry) (65.5.0)\n",
      "Note: you may need to restart the kernel to use updated packages.\n"
     ]
    }
   ],
   "source": [
    "%pip install pycountry"
   ]
  },
  {
   "cell_type": "code",
   "execution_count": 59,
   "id": "c0040e63",
   "metadata": {},
   "outputs": [],
   "source": [
    "from main_transformation import TransformationPipeline\n",
    "import pandas as pd\n",
    "import numpy as np\n",
    "import matplotlib.pyplot as plt\n",
    "import pycountry\n",
    "from gapminder import gapminder\n",
    "import missingno as msno\n",
    "import seaborn as sns\n",
    "import pycountry\n",
    "import requests"
   ]
  },
  {
   "attachments": {},
   "cell_type": "markdown",
   "id": "a320b097",
   "metadata": {},
   "source": [
    "# Get data from Gapminder"
   ]
  },
  {
   "cell_type": "code",
   "execution_count": 18,
   "id": "20813909",
   "metadata": {},
   "outputs": [
    {
     "data": {
      "text/plain": [
       "{Subdivision(code='FR-01', country_code='FR', name='Ain', parent='ARA', parent_code='FR-ARA', type='Metropolitan department'),\n",
       " Subdivision(code='FR-02', country_code='FR', name='Aisne', parent='HDF', parent_code='FR-HDF', type='Metropolitan department'),\n",
       " Subdivision(code='FR-03', country_code='FR', name='Allier', parent='ARA', parent_code='FR-ARA', type='Metropolitan department'),\n",
       " Subdivision(code='FR-04', country_code='FR', name='Alpes-de-Haute-Provence', parent='PAC', parent_code='FR-PAC', type='Metropolitan department'),\n",
       " Subdivision(code='FR-05', country_code='FR', name='Hautes-Alpes', parent='PAC', parent_code='FR-PAC', type='Metropolitan department'),\n",
       " Subdivision(code='FR-06', country_code='FR', name='Alpes-Maritimes', parent='PAC', parent_code='FR-PAC', type='Metropolitan department'),\n",
       " Subdivision(code='FR-07', country_code='FR', name='Ardèche', parent='ARA', parent_code='FR-ARA', type='Metropolitan department'),\n",
       " Subdivision(code='FR-08', country_code='FR', name='Ardennes', parent='GES', parent_code='FR-GES', type='Metropolitan department'),\n",
       " Subdivision(code='FR-09', country_code='FR', name='Ariège', parent='OCC', parent_code='FR-OCC', type='Metropolitan department'),\n",
       " Subdivision(code='FR-10', country_code='FR', name='Aube', parent='GES', parent_code='FR-GES', type='Metropolitan department'),\n",
       " Subdivision(code='FR-11', country_code='FR', name='Aude', parent='OCC', parent_code='FR-OCC', type='Metropolitan department'),\n",
       " Subdivision(code='FR-12', country_code='FR', name='Aveyron', parent='OCC', parent_code='FR-OCC', type='Metropolitan department'),\n",
       " Subdivision(code='FR-13', country_code='FR', name='Bouches-du-Rhône', parent='PAC', parent_code='FR-PAC', type='Metropolitan department'),\n",
       " Subdivision(code='FR-14', country_code='FR', name='Calvados', parent='NOR', parent_code='FR-NOR', type='Metropolitan department'),\n",
       " Subdivision(code='FR-15', country_code='FR', name='Cantal', parent='ARA', parent_code='FR-ARA', type='Metropolitan department'),\n",
       " Subdivision(code='FR-16', country_code='FR', name='Charente', parent='NAQ', parent_code='FR-NAQ', type='Metropolitan department'),\n",
       " Subdivision(code='FR-17', country_code='FR', name='Charente-Maritime', parent='NAQ', parent_code='FR-NAQ', type='Metropolitan department'),\n",
       " Subdivision(code='FR-18', country_code='FR', name='Cher', parent='CVL', parent_code='FR-CVL', type='Metropolitan department'),\n",
       " Subdivision(code='FR-19', country_code='FR', name='Corrèze', parent='NAQ', parent_code='FR-NAQ', type='Metropolitan department'),\n",
       " Subdivision(code='FR-20R', country_code='FR', name='Corse', parent_code=None, type='Metropolitan collectivity with special status'),\n",
       " Subdivision(code='FR-21', country_code='FR', name=\"Côte-d'Or\", parent='BFC', parent_code='FR-BFC', type='Metropolitan department'),\n",
       " Subdivision(code='FR-22', country_code='FR', name=\"Côtes-d'Armor\", parent='BRE', parent_code='FR-BRE', type='Metropolitan department'),\n",
       " Subdivision(code='FR-23', country_code='FR', name='Creuse', parent='NAQ', parent_code='FR-NAQ', type='Metropolitan department'),\n",
       " Subdivision(code='FR-24', country_code='FR', name='Dordogne', parent='NAQ', parent_code='FR-NAQ', type='Metropolitan department'),\n",
       " Subdivision(code='FR-25', country_code='FR', name='Doubs', parent='BFC', parent_code='FR-BFC', type='Metropolitan department'),\n",
       " Subdivision(code='FR-26', country_code='FR', name='Drôme', parent='ARA', parent_code='FR-ARA', type='Metropolitan department'),\n",
       " Subdivision(code='FR-27', country_code='FR', name='Eure', parent='NOR', parent_code='FR-NOR', type='Metropolitan department'),\n",
       " Subdivision(code='FR-28', country_code='FR', name='Eure-et-Loir', parent='CVL', parent_code='FR-CVL', type='Metropolitan department'),\n",
       " Subdivision(code='FR-29', country_code='FR', name='Finistère', parent='BRE', parent_code='FR-BRE', type='Metropolitan department'),\n",
       " Subdivision(code='FR-2A', country_code='FR', name='Corse-du-Sud', parent='20R', parent_code='FR-20R', type='Metropolitan department'),\n",
       " Subdivision(code='FR-2B', country_code='FR', name='Haute-Corse', parent='20R', parent_code='FR-20R', type='Metropolitan department'),\n",
       " Subdivision(code='FR-30', country_code='FR', name='Gard', parent='OCC', parent_code='FR-OCC', type='Metropolitan department'),\n",
       " Subdivision(code='FR-31', country_code='FR', name='Haute-Garonne', parent='OCC', parent_code='FR-OCC', type='Metropolitan department'),\n",
       " Subdivision(code='FR-32', country_code='FR', name='Gers', parent='OCC', parent_code='FR-OCC', type='Metropolitan department'),\n",
       " Subdivision(code='FR-33', country_code='FR', name='Gironde', parent='NAQ', parent_code='FR-NAQ', type='Metropolitan department'),\n",
       " Subdivision(code='FR-34', country_code='FR', name='Hérault', parent='OCC', parent_code='FR-OCC', type='Metropolitan department'),\n",
       " Subdivision(code='FR-35', country_code='FR', name='Ille-et-Vilaine', parent='BRE', parent_code='FR-BRE', type='Metropolitan department'),\n",
       " Subdivision(code='FR-36', country_code='FR', name='Indre', parent='CVL', parent_code='FR-CVL', type='Metropolitan department'),\n",
       " Subdivision(code='FR-37', country_code='FR', name='Indre-et-Loire', parent='CVL', parent_code='FR-CVL', type='Metropolitan department'),\n",
       " Subdivision(code='FR-38', country_code='FR', name='Isère', parent='ARA', parent_code='FR-ARA', type='Metropolitan department'),\n",
       " Subdivision(code='FR-39', country_code='FR', name='Jura', parent='BFC', parent_code='FR-BFC', type='Metropolitan department'),\n",
       " Subdivision(code='FR-40', country_code='FR', name='Landes', parent='NAQ', parent_code='FR-NAQ', type='Metropolitan department'),\n",
       " Subdivision(code='FR-41', country_code='FR', name='Loir-et-Cher', parent='CVL', parent_code='FR-CVL', type='Metropolitan department'),\n",
       " Subdivision(code='FR-42', country_code='FR', name='Loire', parent='ARA', parent_code='FR-ARA', type='Metropolitan department'),\n",
       " Subdivision(code='FR-43', country_code='FR', name='Haute-Loire', parent='ARA', parent_code='FR-ARA', type='Metropolitan department'),\n",
       " Subdivision(code='FR-44', country_code='FR', name='Loire-Atlantique', parent='PDL', parent_code='FR-PDL', type='Metropolitan department'),\n",
       " Subdivision(code='FR-45', country_code='FR', name='Loiret', parent='CVL', parent_code='FR-CVL', type='Metropolitan department'),\n",
       " Subdivision(code='FR-46', country_code='FR', name='Lot', parent='OCC', parent_code='FR-OCC', type='Metropolitan department'),\n",
       " Subdivision(code='FR-47', country_code='FR', name='Lot-et-Garonne', parent='NAQ', parent_code='FR-NAQ', type='Metropolitan department'),\n",
       " Subdivision(code='FR-48', country_code='FR', name='Lozère', parent='OCC', parent_code='FR-OCC', type='Metropolitan department'),\n",
       " Subdivision(code='FR-49', country_code='FR', name='Maine-et-Loire', parent='PDL', parent_code='FR-PDL', type='Metropolitan department'),\n",
       " Subdivision(code='FR-50', country_code='FR', name='Manche', parent='NOR', parent_code='FR-NOR', type='Metropolitan department'),\n",
       " Subdivision(code='FR-51', country_code='FR', name='Marne', parent='GES', parent_code='FR-GES', type='Metropolitan department'),\n",
       " Subdivision(code='FR-52', country_code='FR', name='Haute-Marne', parent='GES', parent_code='FR-GES', type='Metropolitan department'),\n",
       " Subdivision(code='FR-53', country_code='FR', name='Mayenne', parent='PDL', parent_code='FR-PDL', type='Metropolitan department'),\n",
       " Subdivision(code='FR-54', country_code='FR', name='Meurthe-et-Moselle', parent='GES', parent_code='FR-GES', type='Metropolitan department'),\n",
       " Subdivision(code='FR-55', country_code='FR', name='Meuse', parent='GES', parent_code='FR-GES', type='Metropolitan department'),\n",
       " Subdivision(code='FR-56', country_code='FR', name='Morbihan', parent='BRE', parent_code='FR-BRE', type='Metropolitan department'),\n",
       " Subdivision(code='FR-57', country_code='FR', name='Moselle', parent='GES', parent_code='FR-GES', type='Metropolitan department'),\n",
       " Subdivision(code='FR-58', country_code='FR', name='Nièvre', parent='BFC', parent_code='FR-BFC', type='Metropolitan department'),\n",
       " Subdivision(code='FR-59', country_code='FR', name='Nord', parent='HDF', parent_code='FR-HDF', type='Metropolitan department'),\n",
       " Subdivision(code='FR-60', country_code='FR', name='Oise', parent='HDF', parent_code='FR-HDF', type='Metropolitan department'),\n",
       " Subdivision(code='FR-61', country_code='FR', name='Orne', parent='NOR', parent_code='FR-NOR', type='Metropolitan department'),\n",
       " Subdivision(code='FR-62', country_code='FR', name='Pas-de-Calais', parent='HDF', parent_code='FR-HDF', type='Metropolitan department'),\n",
       " Subdivision(code='FR-63', country_code='FR', name='Puy-de-Dôme', parent='ARA', parent_code='FR-ARA', type='Metropolitan department'),\n",
       " Subdivision(code='FR-64', country_code='FR', name='Pyrénées-Atlantiques', parent='NAQ', parent_code='FR-NAQ', type='Metropolitan department'),\n",
       " Subdivision(code='FR-65', country_code='FR', name='Hautes-Pyrénées', parent='OCC', parent_code='FR-OCC', type='Metropolitan department'),\n",
       " Subdivision(code='FR-66', country_code='FR', name='Pyrénées-Orientales', parent='OCC', parent_code='FR-OCC', type='Metropolitan department'),\n",
       " Subdivision(code='FR-67', country_code='FR', name='Bas-Rhin', parent='GES', parent_code='FR-GES', type='Metropolitan department'),\n",
       " Subdivision(code='FR-68', country_code='FR', name='Haut-Rhin', parent='GES', parent_code='FR-GES', type='Metropolitan department'),\n",
       " Subdivision(code='FR-69', country_code='FR', name='Rhône', parent='ARA', parent_code='FR-ARA', type='Metropolitan department'),\n",
       " Subdivision(code='FR-70', country_code='FR', name='Haute-Saône', parent='BFC', parent_code='FR-BFC', type='Metropolitan department'),\n",
       " Subdivision(code='FR-71', country_code='FR', name='Saône-et-Loire', parent='BFC', parent_code='FR-BFC', type='Metropolitan department'),\n",
       " Subdivision(code='FR-72', country_code='FR', name='Sarthe', parent='PDL', parent_code='FR-PDL', type='Metropolitan department'),\n",
       " Subdivision(code='FR-73', country_code='FR', name='Savoie', parent='ARA', parent_code='FR-ARA', type='Metropolitan department'),\n",
       " Subdivision(code='FR-74', country_code='FR', name='Haute-Savoie', parent='ARA', parent_code='FR-ARA', type='Metropolitan department'),\n",
       " Subdivision(code='FR-75', country_code='FR', name='Paris', parent='IDF', parent_code='FR-IDF', type='Metropolitan department'),\n",
       " Subdivision(code='FR-76', country_code='FR', name='Seine-Maritime', parent='NOR', parent_code='FR-NOR', type='Metropolitan department'),\n",
       " Subdivision(code='FR-77', country_code='FR', name='Seine-et-Marne', parent='IDF', parent_code='FR-IDF', type='Metropolitan department'),\n",
       " Subdivision(code='FR-78', country_code='FR', name='Yvelines', parent='IDF', parent_code='FR-IDF', type='Metropolitan department'),\n",
       " Subdivision(code='FR-79', country_code='FR', name='Deux-Sèvres', parent='NAQ', parent_code='FR-NAQ', type='Metropolitan department'),\n",
       " Subdivision(code='FR-80', country_code='FR', name='Somme', parent='HDF', parent_code='FR-HDF', type='Metropolitan department'),\n",
       " Subdivision(code='FR-81', country_code='FR', name='Tarn', parent='OCC', parent_code='FR-OCC', type='Metropolitan department'),\n",
       " Subdivision(code='FR-82', country_code='FR', name='Tarn-et-Garonne', parent='OCC', parent_code='FR-OCC', type='Metropolitan department'),\n",
       " Subdivision(code='FR-83', country_code='FR', name='Var', parent='PAC', parent_code='FR-PAC', type='Metropolitan department'),\n",
       " Subdivision(code='FR-84', country_code='FR', name='Vaucluse', parent='PAC', parent_code='FR-PAC', type='Metropolitan department'),\n",
       " Subdivision(code='FR-85', country_code='FR', name='Vendée', parent='PDL', parent_code='FR-PDL', type='Metropolitan department'),\n",
       " Subdivision(code='FR-86', country_code='FR', name='Vienne', parent='NAQ', parent_code='FR-NAQ', type='Metropolitan department'),\n",
       " Subdivision(code='FR-87', country_code='FR', name='Haute-Vienne', parent='NAQ', parent_code='FR-NAQ', type='Metropolitan department'),\n",
       " Subdivision(code='FR-88', country_code='FR', name='Vosges', parent='GES', parent_code='FR-GES', type='Metropolitan department'),\n",
       " Subdivision(code='FR-89', country_code='FR', name='Yonne', parent='BFC', parent_code='FR-BFC', type='Metropolitan department'),\n",
       " Subdivision(code='FR-90', country_code='FR', name='Territoire de Belfort', parent='BFC', parent_code='FR-BFC', type='Metropolitan department'),\n",
       " Subdivision(code='FR-91', country_code='FR', name='Essonne', parent='IDF', parent_code='FR-IDF', type='Metropolitan department'),\n",
       " Subdivision(code='FR-92', country_code='FR', name='Hauts-de-Seine', parent='IDF', parent_code='FR-IDF', type='Metropolitan department'),\n",
       " Subdivision(code='FR-93', country_code='FR', name='Seine-Saint-Denis', parent='IDF', parent_code='FR-IDF', type='Metropolitan department'),\n",
       " Subdivision(code='FR-94', country_code='FR', name='Val-de-Marne', parent='IDF', parent_code='FR-IDF', type='Metropolitan department'),\n",
       " Subdivision(code='FR-95', country_code='FR', name=\"Val-d'Oise\", parent='IDF', parent_code='FR-IDF', type='Metropolitan department'),\n",
       " Subdivision(code='FR-971', country_code='FR', name='Guadeloupe', parent='GP', parent_code='FR-GP', type='Overseas department'),\n",
       " Subdivision(code='FR-972', country_code='FR', name='Martinique', parent='MQ', parent_code='FR-MQ', type='Overseas department'),\n",
       " Subdivision(code='FR-973', country_code='FR', name='Guyane (française)', parent='GF', parent_code='FR-GF', type='Overseas department'),\n",
       " Subdivision(code='FR-974', country_code='FR', name='La Réunion', parent='RE', parent_code='FR-RE', type='Overseas department'),\n",
       " Subdivision(code='FR-976', country_code='FR', name='Mayotte', parent='YT', parent_code='FR-YT', type='Overseas department'),\n",
       " Subdivision(code='FR-ARA', country_code='FR', name='Auvergne-Rhône-Alpes', parent_code=None, type='Metropolitan region'),\n",
       " Subdivision(code='FR-BFC', country_code='FR', name='Bourgogne-Franche-Comté', parent_code=None, type='Metropolitan region'),\n",
       " Subdivision(code='FR-BL', country_code='FR', name='Saint-Barthélemy', parent_code=None, type='Overseas collectivity'),\n",
       " Subdivision(code='FR-BRE', country_code='FR', name='Bretagne', parent_code=None, type='Metropolitan region'),\n",
       " Subdivision(code='FR-CP', country_code='FR', name='Clipperton', parent_code=None, type='Dependency'),\n",
       " Subdivision(code='FR-CVL', country_code='FR', name='Centre-Val de Loire', parent_code=None, type='Metropolitan region'),\n",
       " Subdivision(code='FR-GES', country_code='FR', name='Grand-Est', parent_code=None, type='Metropolitan region'),\n",
       " Subdivision(code='FR-GF', country_code='FR', name='Guyane (française)', parent_code=None, type='Overseas region'),\n",
       " Subdivision(code='FR-GP', country_code='FR', name='Guadeloupe', parent_code=None, type='Overseas region'),\n",
       " Subdivision(code='FR-HDF', country_code='FR', name='Hauts-de-France', parent_code=None, type='Metropolitan region'),\n",
       " Subdivision(code='FR-IDF', country_code='FR', name='Île-de-France', parent_code=None, type='Metropolitan region'),\n",
       " Subdivision(code='FR-MF', country_code='FR', name='Saint-Martin', parent_code=None, type='Overseas collectivity'),\n",
       " Subdivision(code='FR-MQ', country_code='FR', name='Martinique', parent_code=None, type='Overseas region'),\n",
       " Subdivision(code='FR-NAQ', country_code='FR', name='Nouvelle-Aquitaine', parent_code=None, type='Metropolitan region'),\n",
       " Subdivision(code='FR-NC', country_code='FR', name='Nouvelle-Calédonie', parent_code=None, type='Overseas collectivity with special status'),\n",
       " Subdivision(code='FR-NOR', country_code='FR', name='Normandie', parent_code=None, type='Metropolitan region'),\n",
       " Subdivision(code='FR-OCC', country_code='FR', name='Occitanie', parent_code=None, type='Metropolitan region'),\n",
       " Subdivision(code='FR-PAC', country_code='FR', name='Provence-Alpes-Côte-d’Azur', parent_code=None, type='Metropolitan region'),\n",
       " Subdivision(code='FR-PDL', country_code='FR', name='Pays-de-la-Loire', parent_code=None, type='Metropolitan region'),\n",
       " Subdivision(code='FR-PF', country_code='FR', name='Polynésie française', parent_code=None, type='Overseas collectivity'),\n",
       " Subdivision(code='FR-PM', country_code='FR', name='Saint-Pierre-et-Miquelon', parent_code=None, type='Overseas collectivity'),\n",
       " Subdivision(code='FR-RE', country_code='FR', name='La Réunion', parent_code=None, type='Overseas region'),\n",
       " Subdivision(code='FR-TF', country_code='FR', name='Terres australes françaises', parent_code=None, type='Overseas territory'),\n",
       " Subdivision(code='FR-WF', country_code='FR', name='Wallis-et-Futuna', parent_code=None, type='Overseas collectivity'),\n",
       " Subdivision(code='FR-YT', country_code='FR', name='Mayotte', parent_code=None, type='Overseas region')}"
      ]
     },
     "execution_count": 18,
     "metadata": {},
     "output_type": "execute_result"
    }
   ],
   "source": [
    "pycountry.subdivisions.get(country_code=\"FR\")"
   ]
  },
  {
   "cell_type": "code",
   "execution_count": 20,
   "id": "73fc8187",
   "metadata": {},
   "outputs": [
    {
     "data": {
      "text/plain": [
       "Country(alpha_2='NL', alpha_3='NLD', flag='🇳🇱', name='Netherlands', numeric='528', official_name='Kingdom of the Netherlands')"
      ]
     },
     "execution_count": 20,
     "metadata": {},
     "output_type": "execute_result"
    }
   ],
   "source": [
    "pycountry.countries.get(name=\"Netherlands\")"
   ]
  },
  {
   "cell_type": "code",
   "execution_count": 21,
   "id": "405ce9bf",
   "metadata": {},
   "outputs": [
    {
     "data": {
      "text/plain": [
       "{Subdivision(code='NL-AW', country_code='NL', name='Aruba', parent_code=None, type='Country'),\n",
       " Subdivision(code='NL-BQ1', country_code='NL', name='Bonaire', parent_code=None, type='Special municipality'),\n",
       " Subdivision(code='NL-BQ2', country_code='NL', name='Saba', parent_code=None, type='Special municipality'),\n",
       " Subdivision(code='NL-BQ3', country_code='NL', name='Sint Eustatius', parent_code=None, type='Special municipality'),\n",
       " Subdivision(code='NL-CW', country_code='NL', name='Curaçao', parent_code=None, type='Country'),\n",
       " Subdivision(code='NL-DR', country_code='NL', name='Drenthe', parent_code=None, type='Province'),\n",
       " Subdivision(code='NL-FL', country_code='NL', name='Flevoland', parent_code=None, type='Province'),\n",
       " Subdivision(code='NL-FR', country_code='NL', name='Fryslân', parent_code=None, type='Province'),\n",
       " Subdivision(code='NL-GE', country_code='NL', name='Gelderland', parent_code=None, type='Province'),\n",
       " Subdivision(code='NL-GR', country_code='NL', name='Groningen', parent_code=None, type='Province'),\n",
       " Subdivision(code='NL-LI', country_code='NL', name='Limburg', parent_code=None, type='Province'),\n",
       " Subdivision(code='NL-NB', country_code='NL', name='Noord-Brabant', parent_code=None, type='Province'),\n",
       " Subdivision(code='NL-NH', country_code='NL', name='Noord-Holland', parent_code=None, type='Province'),\n",
       " Subdivision(code='NL-OV', country_code='NL', name='Overijssel', parent_code=None, type='Province'),\n",
       " Subdivision(code='NL-SX', country_code='NL', name='Sint Maarten', parent_code=None, type='Country'),\n",
       " Subdivision(code='NL-UT', country_code='NL', name='Utrecht', parent_code=None, type='Province'),\n",
       " Subdivision(code='NL-ZE', country_code='NL', name='Zeeland', parent_code=None, type='Province'),\n",
       " Subdivision(code='NL-ZH', country_code='NL', name='Zuid-Holland', parent_code=None, type='Province')}"
      ]
     },
     "execution_count": 21,
     "metadata": {},
     "output_type": "execute_result"
    }
   ],
   "source": [
    "pycountry.subdivisions.get(country_code=\"NL\")"
   ]
  },
  {
   "cell_type": "code",
   "execution_count": 58,
   "id": "d176f9f3",
   "metadata": {},
   "outputs": [
    {
     "data": {
      "text/plain": [
       "[Subdivision(code='AF-BAM', country_code='AF', name='Bāmyān', parent_code=None, type='Province'),\n",
       " Subdivision(code='AF-GHO', country_code='AF', name='Ghōr', parent_code=None, type='Province'),\n",
       " Subdivision(code='AF-GHA', country_code='AF', name='Ghaznī', parent_code=None, type='Province'),\n",
       " Subdivision(code='AF-KHO', country_code='AF', name='Khōst', parent_code=None, type='Province'),\n",
       " Subdivision(code='AF-PAR', country_code='AF', name='Parwān', parent_code=None, type='Province'),\n",
       " Subdivision(code='AF-ZAB', country_code='AF', name='Zābul', parent_code=None, type='Province'),\n",
       " Subdivision(code='AF-BDG', country_code='AF', name='Bādghīs', parent_code=None, type='Province'),\n",
       " Subdivision(code='AF-KNR', country_code='AF', name='Kunaṟ', parent_code=None, type='Province'),\n",
       " Subdivision(code='AF-HEL', country_code='AF', name='Helmand', parent_code=None, type='Province'),\n",
       " Subdivision(code='AF-PIA', country_code='AF', name='Paktiyā', parent_code=None, type='Province'),\n",
       " Subdivision(code='AF-BDS', country_code='AF', name='Badakhshān', parent_code=None, type='Province'),\n",
       " Subdivision(code='AF-PAN', country_code='AF', name='Panjshayr', parent_code=None, type='Province'),\n",
       " Subdivision(code='AF-HER', country_code='AF', name='Herāt', parent_code=None, type='Province'),\n",
       " Subdivision(code='AF-LAG', country_code='AF', name='Laghmān', parent_code=None, type='Province'),\n",
       " Subdivision(code='AF-PKA', country_code='AF', name='Paktīkā', parent_code=None, type='Province'),\n",
       " Subdivision(code='AF-WAR', country_code='AF', name='Wardak', parent_code=None, type='Province'),\n",
       " Subdivision(code='AF-BGL', country_code='AF', name='Baghlān', parent_code=None, type='Province'),\n",
       " Subdivision(code='AF-JOW', country_code='AF', name='Jowzjān', parent_code=None, type='Province'),\n",
       " Subdivision(code='AF-LOG', country_code='AF', name='Lōgar', parent_code=None, type='Province'),\n",
       " Subdivision(code='AF-SAM', country_code='AF', name='Samangān', parent_code=None, type='Province'),\n",
       " Subdivision(code='AF-DAY', country_code='AF', name='Dāykundī', parent_code=None, type='Province'),\n",
       " Subdivision(code='AF-KAB', country_code='AF', name='Kābul', parent_code=None, type='Province'),\n",
       " Subdivision(code='AF-NAN', country_code='AF', name='Nangarhār', parent_code=None, type='Province'),\n",
       " Subdivision(code='AF-SAR', country_code='AF', name='Sar-e Pul', parent_code=None, type='Province'),\n",
       " Subdivision(code='AF-FRA', country_code='AF', name='Farāh', parent_code=None, type='Province'),\n",
       " Subdivision(code='AF-KAN', country_code='AF', name='Kandahār', parent_code=None, type='Province'),\n",
       " Subdivision(code='AF-NIM', country_code='AF', name='Nīmrōz', parent_code=None, type='Province'),\n",
       " Subdivision(code='AF-TAK', country_code='AF', name='Takhār', parent_code=None, type='Province'),\n",
       " Subdivision(code='AF-FYB', country_code='AF', name='Fāryāb', parent_code=None, type='Province'),\n",
       " Subdivision(code='AF-KAP', country_code='AF', name='Kāpīsā', parent_code=None, type='Province'),\n",
       " Subdivision(code='AF-NUR', country_code='AF', name='Nūristān', parent_code=None, type='Province'),\n",
       " Subdivision(code='AF-URU', country_code='AF', name='Uruzgān', parent_code=None, type='Province'),\n",
       " Subdivision(code='AF-BAL', country_code='AF', name='Balkh', parent_code=None, type='Province'),\n",
       " Subdivision(code='AF-KDZ', country_code='AF', name='Kunduz', parent_code=None, type='Province')]"
      ]
     },
     "execution_count": 58,
     "metadata": {},
     "output_type": "execute_result"
    }
   ],
   "source": [
    "list(pycountry.subdivisions.get(country_code=\"AF\"))"
   ]
  },
  {
   "cell_type": "code",
   "execution_count": 44,
   "id": "267b2923",
   "metadata": {},
   "outputs": [
    {
     "data": {
      "text/plain": [
       "[Country(alpha_2='FM', alpha_3='FSM', flag='🇫🇲', name='Micronesia, Federated States of', numeric='583', official_name='Federated States of Micronesia')]"
      ]
     },
     "execution_count": 44,
     "metadata": {},
     "output_type": "execute_result"
    }
   ],
   "source": [
    "pycountry.countries.search_fuzzy(\"Micronesia\")"
   ]
  },
  {
   "cell_type": "code",
   "execution_count": 100,
   "id": "68461f55",
   "metadata": {},
   "outputs": [
    {
     "name": "stdout",
     "output_type": "stream",
     "text": [
      "{'pageNumber': 1, 'pageSize': 100, 'previousPage': None, 'nextPage': 'https://population.un.org/dataportalapi/api/v1/locations/?pageNumber=2&pageSize=100', 'pages': 3, 'total': 298, 'data': [{'id': 4, 'name': 'Afghanistan', 'iso3': 'AFG', 'iso2': 'AF', 'longitude': 67.70995330810547, 'latitude': 33.939109802246094}, {'id': 8, 'name': 'Albania', 'iso3': 'ALB', 'iso2': 'AL', 'longitude': 20.16833114624023, 'latitude': 41.1533317565918}, {'id': 12, 'name': 'Algeria', 'iso3': 'DZA', 'iso2': 'DZ', 'longitude': 1.659626007080078, 'latitude': 28.033885955810547}, {'id': 16, 'name': 'American Samoa', 'iso3': 'ASM', 'iso2': 'AS', 'longitude': -170.69618225097656, 'latitude': -14.306020736694336}, {'id': 20, 'name': 'Andorra', 'iso3': 'AND', 'iso2': 'AD', 'longitude': 1.5218009948730469, 'latitude': 42.50628662109375}, {'id': 24, 'name': 'Angola', 'iso3': 'AGO', 'iso2': 'AO', 'longitude': 17.873886108398438, 'latitude': -11.202692031860352}, {'id': 28, 'name': 'Antigua and Barbuda', 'iso3': 'ATG', 'iso2': 'AG', 'longitude': -61.78918, 'latitude': 17.07867}, {'id': 31, 'name': 'Azerbaijan', 'iso3': 'AZE', 'iso2': 'AZ', 'longitude': 47.576927185058594, 'latitude': 40.143104553222656}, {'id': 32, 'name': 'Argentina', 'iso3': 'ARG', 'iso2': 'AR', 'longitude': -63.61667251586914, 'latitude': -38.41609573364258}, {'id': 36, 'name': 'Australia', 'iso3': 'AUS', 'iso2': 'AU', 'longitude': 133.77513122558594, 'latitude': -25.274398803710938}, {'id': 40, 'name': 'Austria', 'iso3': 'AUT', 'iso2': 'AT', 'longitude': 14.550071716308594, 'latitude': 47.516231536865234}, {'id': 44, 'name': 'Bahamas', 'iso3': 'BHS', 'iso2': 'BS', 'longitude': -77.39627838134764, 'latitude': 25.03428077697754}, {'id': 48, 'name': 'Bahrain', 'iso3': 'BHR', 'iso2': 'BH', 'longitude': 50.55770111083984, 'latitude': 26.066699981689453}, {'id': 50, 'name': 'Bangladesh', 'iso3': 'BGD', 'iso2': 'BD', 'longitude': 90.35633087158203, 'latitude': 23.684993743896484}, {'id': 51, 'name': 'Armenia', 'iso3': 'ARM', 'iso2': 'AM', 'longitude': 45.03818893432618, 'latitude': 40.06909942626953}, {'id': 52, 'name': 'Barbados', 'iso3': 'BRB', 'iso2': 'BB', 'longitude': -59.55643, 'latitude': 13.16705}, {'id': 56, 'name': 'Belgium', 'iso3': 'BEL', 'iso2': 'BE', 'longitude': 4.469935894012451, 'latitude': 50.50388717651367}, {'id': 60, 'name': 'Bermuda', 'iso3': 'BMU', 'iso2': 'BM', 'longitude': -64.75050354003906, 'latitude': 32.30780029296875}, {'id': 64, 'name': 'Bhutan', 'iso3': 'BTN', 'iso2': 'BT', 'longitude': 90.43360137939453, 'latitude': 27.514162063598633}, {'id': 68, 'name': 'Bolivia (Plurinational State of)', 'iso3': 'BOL', 'iso2': 'BO', 'longitude': -63.588653564453125, 'latitude': -16.29015350341797}, {'id': 70, 'name': 'Bosnia and Herzegovina', 'iso3': 'BIH', 'iso2': 'BA', 'longitude': 17.679075241088867, 'latitude': 43.91588592529297}, {'id': 72, 'name': 'Botswana', 'iso3': 'BWA', 'iso2': 'BW', 'longitude': 24.68486595153809, 'latitude': -22.328474044799805}, {'id': 76, 'name': 'Brazil', 'iso3': 'BRA', 'iso2': 'BR', 'longitude': -51.9252815246582, 'latitude': -14.235004425048828}, {'id': 84, 'name': 'Belize', 'iso3': 'BLZ', 'iso2': 'BZ', 'longitude': -88.49765014648438, 'latitude': 17.189876556396484}, {'id': 90, 'name': 'Solomon Islands', 'iso3': 'SLB', 'iso2': 'SB', 'longitude': 160.15618896484375, 'latitude': -9.645709991455078}, {'id': 92, 'name': 'British Virgin Islands', 'iso3': 'VGB', 'iso2': 'VG', 'longitude': -64.63996887207031, 'latitude': 18.42069435119629}, {'id': 96, 'name': 'Brunei Darussalam', 'iso3': 'BRN', 'iso2': 'BN', 'longitude': 114.72766876220705, 'latitude': 4.535276889801025}, {'id': 100, 'name': 'Bulgaria', 'iso3': 'BGR', 'iso2': 'BG', 'longitude': 25.485830307006836, 'latitude': 42.733882904052734}, {'id': 104, 'name': 'Myanmar', 'iso3': 'MMR', 'iso2': 'MM', 'longitude': 95.95597076416016, 'latitude': 21.916221618652344}, {'id': 108, 'name': 'Burundi', 'iso3': 'BDI', 'iso2': 'BI', 'longitude': 29.918886184692383, 'latitude': -3.373055934906006}, {'id': 112, 'name': 'Belarus', 'iso3': 'BLR', 'iso2': 'BY', 'longitude': 27.953388214111328, 'latitude': 53.709808349609375}, {'id': 116, 'name': 'Cambodia', 'iso3': 'KHM', 'iso2': 'KH', 'longitude': 104.990966796875, 'latitude': 12.565678596496582}, {'id': 120, 'name': 'Cameroon', 'iso3': 'CMR', 'iso2': 'CM', 'longitude': 12.354722023010254, 'latitude': 7.36972188949585}, {'id': 124, 'name': 'Canada', 'iso3': 'CAN', 'iso2': 'CA', 'longitude': -106.34677124023438, 'latitude': 56.130367279052734}, {'id': 132, 'name': 'Cabo Verde', 'iso3': 'CPV', 'iso2': 'CV', 'longitude': -23.60517311096191, 'latitude': 15.120141983032228}, {'id': 136, 'name': 'Cayman Islands', 'iso3': 'CYM', 'iso2': 'KY', 'longitude': -81.25460052490233, 'latitude': 19.31329917907715}, {'id': 140, 'name': 'Central African Republic', 'iso3': 'CAF', 'iso2': 'CF', 'longitude': 20.939443588256836, 'latitude': 6.611111164093018}, {'id': 144, 'name': 'Sri Lanka', 'iso3': 'LKA', 'iso2': 'LK', 'longitude': 80.77179718017578, 'latitude': 7.873054027557373}, {'id': 148, 'name': 'Chad', 'iso3': 'TCD', 'iso2': 'TD', 'longitude': 18.732206344604492, 'latitude': 15.454166412353516}, {'id': 152, 'name': 'Chile', 'iso3': 'CHL', 'iso2': 'CL', 'longitude': -71.54296875, 'latitude': -35.675148010253906}, {'id': 156, 'name': 'China', 'iso3': 'CHN', 'iso2': 'CN', 'longitude': 104.19539642333984, 'latitude': 35.86166000366211}, {'id': 158, 'name': 'China, Taiwan Province of China', 'iso3': 'TWN', 'iso2': 'TW', 'longitude': 120.96051788330078, 'latitude': 23.69780921936035}, {'id': 170, 'name': 'Colombia', 'iso3': 'COL', 'iso2': 'CO', 'longitude': -74.29733276367188, 'latitude': 4.570868015289307}, {'id': 174, 'name': 'Comoros', 'iso3': 'COM', 'iso2': 'KM', 'longitude': 43.33330154418945, 'latitude': -11.645500183105469}, {'id': 175, 'name': 'Mayotte', 'iso3': 'MYT', 'iso2': 'YT', 'longitude': 45.16624450683594, 'latitude': -12.827500343322754}, {'id': 178, 'name': 'Congo', 'iso3': 'COG', 'iso2': 'CG', 'longitude': 15.827658653259276, 'latitude': -0.22802099585533145}, {'id': 180, 'name': 'Dem. Rep. of the Congo', 'iso3': 'COD', 'iso2': 'CD', 'longitude': 21.75866317749023, 'latitude': -4.038332939147949}, {'id': 184, 'name': 'Cook Islands', 'iso3': 'COK', 'iso2': 'CK', 'longitude': -159.7776641845703, 'latitude': -21.236736297607425}, {'id': 188, 'name': 'Costa Rica', 'iso3': 'CRI', 'iso2': 'CR', 'longitude': -83.75342559814453, 'latitude': 9.748916625976562}, {'id': 191, 'name': 'Croatia', 'iso3': 'HRV', 'iso2': 'HR', 'longitude': 15.199999809265137, 'latitude': 45.099998474121094}, {'id': 192, 'name': 'Cuba', 'iso3': 'CUB', 'iso2': 'CU', 'longitude': -77.78116607666016, 'latitude': 21.521757125854492}, {'id': 196, 'name': 'Cyprus', 'iso3': 'CYP', 'iso2': 'CY', 'longitude': 33.42985916137695, 'latitude': 35.12641143798828}, {'id': 203, 'name': 'Czechia', 'iso3': 'CZE', 'iso2': 'CZ', 'longitude': 15.472962379455566, 'latitude': 49.8174934387207}, {'id': 204, 'name': 'Benin', 'iso3': 'BEN', 'iso2': 'BJ', 'longitude': 2.315834045410156, 'latitude': 9.307689666748047}, {'id': 208, 'name': 'Denmark', 'iso3': 'DNK', 'iso2': 'DK', 'longitude': 9.501785278320312, 'latitude': 56.263919830322266}, {'id': 212, 'name': 'Dominica', 'iso3': 'DMA', 'iso2': 'DM', 'longitude': -61.370975494384766, 'latitude': 15.414999008178713}, {'id': 214, 'name': 'Dominican Republic', 'iso3': 'DOM', 'iso2': 'DO', 'longitude': -70.16265106201172, 'latitude': 18.735692977905273}, {'id': 218, 'name': 'Ecuador', 'iso3': 'ECU', 'iso2': 'EC', 'longitude': -78.18340301513672, 'latitude': -1.8312389850616455}, {'id': 222, 'name': 'El Salvador', 'iso3': 'SLV', 'iso2': 'SV', 'longitude': -88.89653015136719, 'latitude': 13.794184684753418}, {'id': 226, 'name': 'Equatorial Guinea', 'iso3': 'GNQ', 'iso2': 'GQ', 'longitude': 10.267894744873049, 'latitude': 1.6508009433746338}, {'id': 231, 'name': 'Ethiopia', 'iso3': 'ETH', 'iso2': 'ET', 'longitude': 40.48967361450195, 'latitude': 9.145000457763672}, {'id': 232, 'name': 'Eritrea', 'iso3': 'ERI', 'iso2': 'ER', 'longitude': 39.78233337402344, 'latitude': 15.179384231567385}, {'id': 233, 'name': 'Estonia', 'iso3': 'EST', 'iso2': 'EE', 'longitude': 25.013607025146484, 'latitude': 58.595272064208984}, {'id': 234, 'name': 'Faroe Islands', 'iso3': 'FRO', 'iso2': 'FO', 'longitude': -6.911806106567383, 'latitude': 61.892635345458984}, {'id': 238, 'name': 'Falkland Islands (Malvinas)', 'iso3': 'FLK', 'iso2': 'FK', 'longitude': -59.52361297607422, 'latitude': -51.7962532043457}, {'id': 242, 'name': 'Fiji', 'iso3': 'FJI', 'iso2': 'FJ', 'longitude': 178.06503295898438, 'latitude': -17.71337127685547}, {'id': 246, 'name': 'Finland', 'iso3': 'FIN', 'iso2': 'FI', 'longitude': 25.748151779174805, 'latitude': 61.924110412597656}, {'id': 250, 'name': 'France', 'iso3': 'FRA', 'iso2': 'FR', 'longitude': 2.2137489318847656, 'latitude': 46.227638244628906}, {'id': 254, 'name': 'French Guiana', 'iso3': 'GUF', 'iso2': 'GF', 'longitude': -53.12578201293945, 'latitude': 3.933888912200928}, {'id': 258, 'name': 'French Polynesia', 'iso3': 'PYF', 'iso2': 'PF', 'longitude': -149.40684509277344, 'latitude': -17.67974281311035}, {'id': 262, 'name': 'Djibouti', 'iso3': 'DJI', 'iso2': 'DJ', 'longitude': 42.590274810791016, 'latitude': 11.825138092041016}, {'id': 266, 'name': 'Gabon', 'iso3': 'GAB', 'iso2': 'GA', 'longitude': 11.60944366455078, 'latitude': -0.8036890029907228}, {'id': 268, 'name': 'Georgia', 'iso3': 'GEO', 'iso2': 'GE', 'longitude': 43.35689163208008, 'latitude': 42.315406799316406}, {'id': 270, 'name': 'Gambia', 'iso3': 'GMB', 'iso2': 'GM', 'longitude': -15.310138702392578, 'latitude': 13.443181991577148}, {'id': 275, 'name': 'State of Palestine', 'iso3': 'PSE', 'iso2': 'PS', 'longitude': 35.233154296875, 'latitude': 31.95216178894043}, {'id': 276, 'name': 'Germany', 'iso3': 'DEU', 'iso2': 'DE', 'longitude': 10.451525688171388, 'latitude': 51.16569137573242}, {'id': 288, 'name': 'Ghana', 'iso3': 'GHA', 'iso2': 'GH', 'longitude': -1.0231939554214478, 'latitude': 7.946527004241944}, {'id': 292, 'name': 'Gibraltar', 'iso3': 'GIB', 'iso2': 'GI', 'longitude': -5.3535847663879395, 'latitude': 36.140750885009766}, {'id': 296, 'name': 'Kiribati', 'iso3': 'KIR', 'iso2': 'KI', 'longitude': -157.36302185058594, 'latitude': 1.8708833456039429}, {'id': 300, 'name': 'Greece', 'iso3': 'GRC', 'iso2': 'GR', 'longitude': 21.824312210083008, 'latitude': 39.0742073059082}, {'id': 304, 'name': 'Greenland', 'iso3': 'GRL', 'iso2': 'GL', 'longitude': -42.60430145263672, 'latitude': 71.70693969726562}, {'id': 308, 'name': 'Grenada', 'iso3': 'GRD', 'iso2': 'GD', 'longitude': -61.68982, 'latitude': 12.09227}, {'id': 312, 'name': 'Guadeloupe', 'iso3': 'GLP', 'iso2': 'GP', 'longitude': -61.66461, 'latitude': 16.17588}, {'id': 316, 'name': 'Guam', 'iso3': 'GUM', 'iso2': 'GU', 'longitude': 144.79373168945312, 'latitude': 13.44430446624756}, {'id': 320, 'name': 'Guatemala', 'iso3': 'GTM', 'iso2': 'GT', 'longitude': -90.23075866699219, 'latitude': 15.78347110748291}, {'id': 324, 'name': 'Guinea', 'iso3': 'GIN', 'iso2': 'GN', 'longitude': -9.69664478302002, 'latitude': 9.945587158203123}, {'id': 328, 'name': 'Guyana', 'iso3': 'GUY', 'iso2': 'GY', 'longitude': -58.930179595947266, 'latitude': 4.860415935516357}, {'id': 332, 'name': 'Haiti', 'iso3': 'HTI', 'iso2': 'HT', 'longitude': -72.28521728515625, 'latitude': 18.971187591552734}, {'id': 336, 'name': 'Holy See', 'iso3': 'VAT', 'iso2': 'VA', 'longitude': 12.453389167785645, 'latitude': 41.90291595458984}, {'id': 340, 'name': 'Honduras', 'iso3': 'HND', 'iso2': 'HN', 'longitude': -86.24190521240233, 'latitude': 15.19999885559082}, {'id': 344, 'name': 'China, Hong Kong SAR', 'iso3': 'HKG', 'iso2': 'HK', 'longitude': 114.1094970703125, 'latitude': 22.396427154541016}, {'id': 348, 'name': 'Hungary', 'iso3': 'HUN', 'iso2': 'HU', 'longitude': 19.50330352783203, 'latitude': 47.16249465942382}, {'id': 352, 'name': 'Iceland', 'iso3': 'ISL', 'iso2': 'IS', 'longitude': -19.020835876464844, 'latitude': 64.96305084228516}, {'id': 356, 'name': 'India', 'iso3': 'IND', 'iso2': 'IN', 'longitude': 78.96288299560547, 'latitude': 20.59368324279785}, {'id': 360, 'name': 'Indonesia', 'iso3': 'IDN', 'iso2': 'ID', 'longitude': 113.92132568359376, 'latitude': -0.7892749905586243}, {'id': 364, 'name': 'Iran (Islamic Republic of)', 'iso3': 'IRN', 'iso2': 'IR', 'longitude': 53.688045501708984, 'latitude': 32.42790985107422}, {'id': 368, 'name': 'Iraq', 'iso3': 'IRQ', 'iso2': 'IQ', 'longitude': 43.679290771484375, 'latitude': 33.22319030761719}, {'id': 372, 'name': 'Ireland', 'iso3': 'IRL', 'iso2': 'IE', 'longitude': -8.243889808654785, 'latitude': 53.41291046142578}, {'id': 376, 'name': 'Israel', 'iso3': 'ISR', 'iso2': 'IL', 'longitude': 34.85161209106445, 'latitude': 31.046051025390625}, {'id': 380, 'name': 'Italy', 'iso3': 'ITA', 'iso2': 'IT', 'longitude': 12.567379951477053, 'latitude': 41.87194061279297}]}\n"
     ]
    }
   ],
   "source": [
    "base_url = \"https://population.un.org/dataportalapi/api/v1\"\n",
    "target = base_url + \"/locations/\"\n",
    "\n",
    "# Get the response, which includes the first page of data as well as information on pagination and number of records\n",
    "response = requests.get(target)\n",
    "j = response.json()\n",
    "print(j)\n",
    "\n",
    "df = pd.json_normalize(j['data']) \n",
    "\n",
    "# Loop until there are new pages with data\n",
    "while j['nextPage'] != None:\n",
    "    # Reset the target to the next page\n",
    "    target = j['nextPage']\n",
    "\n",
    "    #call the API for the next page\n",
    "    response = requests.get(target)\n",
    "\n",
    "    # Convert response to JSON format\n",
    "    j = response.json()\n",
    "\n",
    "    # Store the next page in a data frame\n",
    "    df_temp = pd.json_normalize(j['data'])\n",
    "\n",
    "    # Append next page to the data frame\n",
    "    df = pd.concat([df, df_temp])"
   ]
  },
  {
   "cell_type": "code",
   "execution_count": null,
   "id": "870c6549",
   "metadata": {},
   "outputs": [],
   "source": [
    "def callAPI(relative_path:str, topic_list:bool = False) -> pd.DataFrame:\n",
    "        base_url = \"https://population.un.org/dataportalapi/api/v1\" \n",
    "        target = base_url + relative_path # Query string parameters may be appended here or directly in the provided relative path\n",
    "        # Calls the API\n",
    "        response = requests.get(target)\n",
    "        # Reformats response into a JSON object\n",
    "        j = response.json()\n",
    "        # The block below will deal with paginated results.\n",
    "        # If results not paginated, this will be skipped.\n",
    "        try:\n",
    "          # If results are paginated, they are transformed into a python dictionary.\n",
    "          # The data may be accessed using the 'data' key of the dictionary.\n",
    "            df = pd.json_normalize(j['data'])\n",
    "            # As long as the nextPage key of the dictionary contains an address for the next API call, the function will continue to call the API and append the results to the dataframe.\n",
    "            while j['nextPage'] is not None:\n",
    "                response = requests.get(j['nextPage'])\n",
    "                j = response.json()\n",
    "                df_temp = pd.json_normalize(j['data'])\n",
    "                df = df.append(df_temp)\n",
    "        except:\n",
    "            if topic_list:\n",
    "                df = pd.json_normalize(j, 'indicators')\n",
    "            else:\n",
    "                df = pd.DataFrame(j)\n",
    "        return(df)"
   ]
  },
  {
   "cell_type": "code",
   "execution_count": null,
   "id": "34cd2fb9",
   "metadata": {},
   "outputs": [
    {
     "name": "stdout",
     "output_type": "stream",
     "text": [
      "<urllib3.response.HTTPResponse object at 0x000002464AB12200>\n",
      "[{'Id': 5544, 'Name': 'Group B – peaking (between 2025-2054)', 'Iso2': 'D9', 'Iso3': 'DA9', 'PopPeak': 'Group of countries by timing of population peak'}, {'Id': 5545, 'Name': 'Group B: Sub-Saharan Africa', 'Iso2': 'D10', 'Iso3': 'DA10', 'PopPeak': 'Group B – peaking (between 2025-2054)'}, {'Id': 5546, 'Name': 'Group B: Northern Africa and Western Asia', 'Iso2': 'D11', 'Iso3': 'DA11', 'PopPeak': 'Group B – peaking (between 2025-2054)'}, {'Id': 5547, 'Name': 'Group B: Central and Southern Asia', 'Iso2': 'D12', 'Iso3': 'DA12', 'PopPeak': 'Group B – peaking (between 2025-2054)'}, {'Id': 5548, 'Name': 'Group B: Eastern and South-Eastern Asia', 'Iso2': 'D13', 'Iso3': 'DA13', 'PopPeak': 'Group B – peaking (between 2025-2054)'}, {'Id': 5549, 'Name': 'Group B: Latin America and the Caribbean', 'Iso2': 'D14', 'Iso3': 'DA14', 'PopPeak': 'Group B – peaking (between 2025-2054)'}, {'Id': 5550, 'Name': 'Group B: Oceania (excluding Australia and New Zealand)', 'Iso2': 'D15', 'Iso3': 'DA15', 'PopPeak': 'Group B – peaking (between 2025-2054)'}, {'Id': 5551, 'Name': 'Group B: Europe, Northern America, Australia and New Zealand', 'Iso2': 'D16', 'Iso3': 'DA16', 'PopPeak': 'Group B – peaking (between 2025-2054)'}, {'Id': 5552, 'Name': 'Group C – growing (peak after 2055)', 'Iso2': 'D17', 'Iso3': 'DA17', 'PopPeak': 'Group of countries by timing of population peak'}, {'Id': 5553, 'Name': 'Group C: Sub-Saharan Africa', 'Iso2': 'D18', 'Iso3': 'DA18', 'PopPeak': 'Group C – growing (peak after 2055)'}, {'Id': 5554, 'Name': 'Group C: Northern Africa and Western Asia', 'Iso2': 'D19', 'Iso3': 'DA19', 'PopPeak': 'Group C – growing (peak after 2055)'}, {'Id': 5555, 'Name': 'Group C: Central and Southern Asia', 'Iso2': 'D20', 'Iso3': 'DA20', 'PopPeak': 'Group C – growing (peak after 2055)'}, {'Id': 5556, 'Name': 'Group C: Eastern and South-Eastern Asia', 'Iso2': 'D21', 'Iso3': 'DA21', 'PopPeak': 'Group C – growing (peak after 2055)'}, {'Id': 5557, 'Name': 'Group C: Latin America and the Caribbean', 'Iso2': 'D22', 'Iso3': 'DA22', 'PopPeak': 'Group C – growing (peak after 2055)'}, {'Id': 5558, 'Name': 'Group C: Oceania (excluding Australia and New Zealand)', 'Iso2': 'D23', 'Iso3': 'DA23', 'PopPeak': 'Group C – growing (peak after 2055)'}, {'Id': 5559, 'Name': 'Group C: Europe, Northern America, Australia and New Zealand', 'Iso2': 'D24', 'Iso3': 'DA24', 'PopPeak': 'Group C – growing (peak after 2055)'}]\n"
     ]
    },
    {
     "ename": "TypeError",
     "evalue": "list indices must be integers or slices, not str",
     "output_type": "error",
     "traceback": [
      "\u001b[1;31m---------------------------------------------------------------------------\u001b[0m",
      "\u001b[1;31mTypeError\u001b[0m                                 Traceback (most recent call last)",
      "Cell \u001b[1;32mIn[96], line 22\u001b[0m\n\u001b[0;32m     19\u001b[0m \u001b[38;5;66;03m# Loop until there are new pages with data\u001b[39;00m\n\u001b[0;32m     20\u001b[0m \u001b[38;5;28;01mwhile\u001b[39;00m response\u001b[38;5;241m.\u001b[39mstatus_code \u001b[38;5;241m!=\u001b[39m \u001b[38;5;241m404\u001b[39m:\n\u001b[0;32m     21\u001b[0m     \u001b[38;5;66;03m# Reset the target to the next page\u001b[39;00m\n\u001b[1;32m---> 22\u001b[0m     target \u001b[38;5;241m=\u001b[39m \u001b[43mj\u001b[49m\u001b[43m[\u001b[49m\u001b[38;5;124;43m'\u001b[39;49m\u001b[38;5;124;43mnextPage\u001b[39;49m\u001b[38;5;124;43m'\u001b[39;49m\u001b[43m]\u001b[49m\n\u001b[0;32m     24\u001b[0m     \u001b[38;5;66;03m#call the API for the next page\u001b[39;00m\n\u001b[0;32m     25\u001b[0m     response \u001b[38;5;241m=\u001b[39m requests\u001b[38;5;241m.\u001b[39mget(target)\n",
      "\u001b[1;31mTypeError\u001b[0m: list indices must be integers or slices, not str"
     ]
    }
   ],
   "source": [
    "base_url = \"https://population.un.org/dataportalapi/api/v1\"\n",
    "target = base_url + \"/locationsWithAggregates?pageNumber=0&sort=id&format=json\"\n",
    "\n",
    "# Get the response, which includes the first page of data as well as information on pagination and number of records\n",
    "response = requests.get(target)\n",
    "\n",
    "page_n = 0\n",
    "\n",
    "try:\n",
    "    df = pd.json_normalize(j['data']) \n",
    "    data_key = 'data'\n",
    "except:\n",
    "    df = pd.json_normalize(j[0])\n",
    "    data_key = 0\n",
    "\n",
    "# Loop until there are new pages with data\n",
    "while response.status_code != 404:\n",
    "    j = response.json()\n",
    "\n",
    "    # Reset the target to the next page\n",
    "    target = j['nextPage']\n",
    "\n",
    "    #call the API for the next page\n",
    "    response = requests.get(target)\n",
    "\n",
    "    # Convert response to JSON format\n",
    "    j = response.json()\n",
    "\n",
    "    # Store the next page in a data frame\n",
    "    df_temp = pd.json_normalize(j[data_key])\n",
    "\n",
    "    # Append next page to the data frame\n",
    "    df = pd.concat([df, df_temp])"
   ]
  },
  {
   "cell_type": "code",
   "execution_count": 114,
   "id": "eed98edb",
   "metadata": {},
   "outputs": [],
   "source": [
    "def callAPI(relative_path:str, **query_parameters) -> pd.DataFrame:\n",
    "    base_url = \"https://population.un.org/dataportalapi/api/v1\"\n",
    "    query_string_parameters = \"&\".join(f\"{key}={value}\" for key, value in query_parameters.items())\n",
    "    target = f\"{base_url}/{relative_path}?{query_string_parameters}\"\n",
    "\n",
    "    # Get the response, which includes the first page of data as well as information on pagination and number of records\n",
    "    response = requests.get(target)\n",
    "\n",
    "    # Loop until there are new pages with data\n",
    "    while response.status_code != 404:\n",
    "        j = response.json()\n",
    "        \n",
    "        #Store the result in a dataframe\n",
    "        if isinstance(j, list):\n",
    "            df_temp = pd.json_normalize(j)\n",
    "        elif isinstance(j, dict):\n",
    "            df_temp = pd.json_normalize(j['data'])\n",
    "        else:\n",
    "            raise TypeError(\"Response json type is not supported\")\n",
    "        \n",
    "        # Prepare next page api call\n",
    "        if \"pageNumber\" in query_parameters.keys():\n",
    "            query_parameters[\"pageNumber\"] += 1\n",
    "        else:\n",
    "            query_parameters[\"pageNumber\"] = 2\n",
    "        \n",
    "        # Append next page to the data frame\n",
    "        return pd.concat([df_temp, callAPI(relative_path, **query_parameters)])\n",
    "    \n",
    "    return None"
   ]
  },
  {
   "cell_type": "code",
   "execution_count": 113,
   "id": "084dbdca",
   "metadata": {},
   "outputs": [
    {
     "name": "stdout",
     "output_type": "stream",
     "text": [
      "{}\n",
      "{'pageNumber': 2}\n",
      "{'pageNumber': 3}\n",
      "{'pageNumber': 4}\n",
      "{'pageNumber': 5}\n"
     ]
    }
   ],
   "source": [
    "locations = callAPI(\"locationsWithAggregates\")"
   ]
  },
  {
   "cell_type": "code",
   "execution_count": null,
   "id": "4725588a",
   "metadata": {},
   "outputs": [
    {
     "data": {
      "text/plain": [
       "'pageNumber'"
      ]
     },
     "execution_count": 106,
     "metadata": {},
     "output_type": "execute_result"
    }
   ],
   "source": [
    "test = {'pageNumber': 2}\n",
    "\"&\".join(f\"{key}\" for key in test.items())"
   ]
  },
  {
   "cell_type": "code",
   "execution_count": 46,
   "id": "bdb7f800",
   "metadata": {},
   "outputs": [
    {
     "name": "stdout",
     "output_type": "stream",
     "text": [
      "\n",
      "----- compute Population for each country and each zone\n",
      "WARNING : no translating found for 52 countries\n",
      "Please, check the following list :\n",
      "['Euro area', 'Caribbean small states', 'Least developed countries: UN classification', 'Europe & Central Asia (excluding high income)', 'Heavily indebted poor countries (HIPC)', 'Early-demographic dividend', 'IDA total', 'Sub-Saharan Africa', 'OECD members', 'High income', 'Middle East & North Africa (excluding high income)', 'St. Martin (French part)', 'Other small states', 'Europe & Central Asia (IDA & IBRD countries)', 'Central Europe and the Baltics', 'Small states', 'IDA & IBRD total', 'Curacao', 'Africa Western and Central', 'Arab World', 'Isle of Man', 'Lower middle income', 'South Asia', 'Late-demographic dividend', 'Latin America & Caribbean (excluding high income)', 'Low income', 'Post-demographic dividend', 'European Union', 'Sub-Saharan Africa (excluding high income)', 'East Asia & Pacific (IDA & IBRD countries)', 'Europe & Central Asia', 'IBRD only', 'Pre-demographic dividend', 'Low & middle income', 'IDA only', 'IDA blend', 'Latin America & the Caribbean (IDA & IBRD countries)', 'Pacific island small states', 'Channel Islands', 'Middle income', 'East Asia & Pacific', 'Sint Maarten (Dutch part)', 'West Bank and Gaza', 'South Asia (IDA & IBRD)', 'Africa Eastern and Southern', 'Sub-Saharan Africa (IDA & IBRD countries)', 'East Asia & Pacific (excluding high income)', 'Middle East & North Africa', 'Latin America & Caribbean', 'Upper middle income', 'Middle East & North Africa (IDA & IBRD countries)', 'Fragile and conflict affected situations']\n",
      "\n",
      "WARNING: 4 countries are missing in the statistics dataset for zone : Africa\n",
      "['Reunion', 'Saint Helena', 'Swaziland', 'Western Sahara']\n",
      "\n",
      "WARNING: 5 countries are missing in the statistics dataset for zone : Asia and Oceania\n",
      "['Cook Islands', 'Niue', 'Taiwan', 'US Pacific Islands', 'Wake Island']\n",
      "\n",
      "WARNING: 6 countries are missing in the statistics dataset for zone : Central and South America\n",
      "['Falkland Islands (Malvinas)', 'French Guiana', 'Guadeloupe', 'Martinique', 'Montserrat', 'Netherlands Antilles']\n",
      "\n",
      "WARNING: 2 countries are missing in the statistics dataset for zone : Europe\n",
      "['Czechoslovakia', 'Yugoslavia']\n",
      "\n",
      "WARNING: 1 countries are missing in the statistics dataset for zone : Middle East\n",
      "['Palestine']\n",
      "\n",
      "WARNING: 1 countries are missing in the statistics dataset for zone : North America\n",
      "['Saint Pierre and Miquelon']\n",
      "\n",
      "WARNING: 19 countries are missing in the statistics dataset for zone : World\n",
      "['Cook Islands', 'Czechoslovakia', 'Falkland Islands (Malvinas)', 'French Guiana', 'Guadeloupe', 'Martinique', 'Montserrat', 'Netherlands Antilles', 'Niue', 'Palestine', 'Reunion', 'Saint Helena', 'Saint Pierre and Miquelon', 'Swaziland', 'Taiwan', 'US Pacific Islands', 'Wake Island', 'Western Sahara', 'Yugoslavia']\n",
      "\n",
      "WARNING: 6 countries are in the statistics dataset but not in the countries referential\n",
      "Please check the following list:\n",
      "{'Tuvalu', 'Micronesia', 'Kosovo', 'Marshall Islands', 'World', 'Northern Mariana Islands'}\n",
      "\n",
      "----- compute GapMinder for each country and each zone\n",
      "\n",
      "WARNING: 4 countries are missing in the statistics dataset for zone : Africa\n",
      "['Reunion', 'Saint Helena', 'Swaziland', 'Western Sahara']\n",
      "\n",
      "WARNING: 9 countries are missing in the statistics dataset for zone : Asia and Oceania\n",
      "['American Samoa', 'Cook Islands', 'French Polynesia', 'Guam', 'Macao Special Administrative Region (China)', 'New Caledonia', 'Niue', 'US Pacific Islands', 'Wake Island']\n",
      "\n",
      "WARNING: 12 countries are missing in the statistics dataset for zone : Central and South America\n",
      "['Aruba', 'British Virgin Islands', 'Cayman Islands', 'Falkland Islands (Malvinas)', 'French Guiana', 'Guadeloupe', 'Martinique', 'Montserrat', 'Netherlands Antilles', 'Puerto Rico', 'Turks and Caicos Islands', 'United States Virgin Islands']\n",
      "\n",
      "WARNING: 4 countries are missing in the statistics dataset for zone : Europe\n",
      "['Czechoslovakia', 'Faeroe Islands', 'Gibraltar', 'Yugoslavia']\n",
      "\n",
      "WARNING: 3 countries are missing in the statistics dataset for zone : North America\n",
      "['Bermuda', 'Greenland', 'Saint Pierre and Miquelon']\n",
      "\n",
      "WARNING: 32 countries are missing in the statistics dataset for zone : World\n",
      "['American Samoa', 'Aruba', 'Bermuda', 'British Virgin Islands', 'Cayman Islands', 'Cook Islands', 'Czechoslovakia', 'Faeroe Islands', 'Falkland Islands (Malvinas)', 'French Guiana', 'French Polynesia', 'Gibraltar', 'Greenland', 'Guadeloupe', 'Guam', 'Macao Special Administrative Region (China)', 'Martinique', 'Montserrat', 'Netherlands Antilles', 'New Caledonia', 'Niue', 'Puerto Rico', 'Reunion', 'Saint Helena', 'Saint Pierre and Miquelon', 'Swaziland', 'Turks and Caicos Islands', 'US Pacific Islands', 'United States Virgin Islands', 'Wake Island', 'Western Sahara', 'Yugoslavia']\n",
      "\n",
      "WARNING: 4 countries are in the statistics dataset but not in the countries referential\n",
      "Please check the following list:\n",
      "{'Marshall Islands', 'Vatican', 'Tuvalu', 'Micronesia'}\n"
     ]
    },
    {
     "name": "stderr",
     "output_type": "stream",
     "text": [
      "c:\\Users\\Utilisateur\\Documents\\GitHub\\shiftdataportal\\data-preparation\\src\\transformation\\demographic\\population.py:60: FutureWarning: DataFrame.applymap has been deprecated. Use DataFrame.map instead.\n",
      "  df_gapminder = df_gapminder.applymap(lambda element: self.dirty_string_to_int(element))\n"
     ]
    }
   ],
   "source": [
    "df_population, df_gapminder = TransformationPipeline().run()"
   ]
  },
  {
   "cell_type": "code",
   "execution_count": 45,
   "id": "c39ab712",
   "metadata": {},
   "outputs": [
    {
     "ename": "NameError",
     "evalue": "name 'df_population' is not defined",
     "output_type": "error",
     "traceback": [
      "\u001b[1;31m---------------------------------------------------------------------------\u001b[0m",
      "\u001b[1;31mNameError\u001b[0m                                 Traceback (most recent call last)",
      "Cell \u001b[1;32mIn[45], line 1\u001b[0m\n\u001b[1;32m----> 1\u001b[0m \u001b[43mdf_population\u001b[49m\n",
      "\u001b[1;31mNameError\u001b[0m: name 'df_population' is not defined"
     ]
    }
   ],
   "source": [
    "df_population"
   ]
  },
  {
   "cell_type": "code",
   "execution_count": 3,
   "id": "53abcc4b",
   "metadata": {},
   "outputs": [],
   "source": [
    "def display_unique_values(s:pd.Series, df:pd.DataFrame):\n",
    "    n_unique_values = df.loc[s.name, \"nbr_unique_values\"]\n",
    "    if n_unique_values == 0:\n",
    "        return \"no value\"\n",
    "    if n_unique_values < 6:\n",
    "        return \", \".join(f\"{s.value_counts().index[i]} ({v} occurrences)\" for i, v in enumerate(s.value_counts()))\n",
    "    \n",
    "    return \"too many to display\"\n",
    "\n",
    "\n",
    "def add_additional_comment(s:pd.Series, df:pd.DataFrame, sensitivity:float):   \n",
    "    value_counts = s.value_counts()\n",
    "\n",
    "    if len(value_counts) > 0:\n",
    "        # Calculate top common values based on sensitivity\n",
    "        n_top_common_values = int(len(value_counts) * sensitivity)\n",
    "        top_common_values = value_counts.values[:n_top_common_values]\n",
    "        \n",
    "        # Check if the top common values represent a significant proportion of the data\n",
    "        if value_counts.quantile(1 - sensitivity) / value_counts.max() < 0.25 and n_top_common_values <= 10:\n",
    "            sum_top_common_values = top_common_values.sum()\n",
    "            top_common_values_prop = round(sum_top_common_values / df.loc[s.name, \"nbr_non_null_values\"], 2)\n",
    "            top_common_values_info = [f\"{value_counts.index[i]} ({value})\" for i, value in enumerate(top_common_values)]\n",
    "            \n",
    "            # Print additional comments on common values\n",
    "            return f\"\"\"First {n_top_common_values} unique values represent {top_common_values_prop * 100}% of total values : {', '.join(top_common_values_info)}\"\"\"\n",
    "        \n",
    "        return\n",
    "    \n",
    "    else:\n",
    "        return \"This column only contains null values.\"\n",
    "\n",
    "\n",
    "def compute_modes(s:pd.Series):\n",
    "    value_counts = s.value_counts()\n",
    "    modes = s.mode()\n",
    "    n_modes = len(modes)\n",
    "\n",
    "    if n_modes > 0:\n",
    "        return \", \".join(str(v) if i < 3 else f\"... ({n_modes} elements)\" for i, v in enumerate(modes[:min(n_modes, 4)])) + f\" ({value_counts.values[0]} occurrence(s))\"\n",
    "    \n",
    "    return\n",
    "\n",
    "\n",
    "def get_df_variables_info(df:pd.DataFrame) -> pd.DataFrame:\n",
    "\n",
    "    (n_rows, n_columns) = df.shape\n",
    "    print(f\"This DataFrame has {n_rows} rows and {n_columns} columns.\")\n",
    "    \n",
    "    top_common_values_sensitivity = 0.15\n",
    "\n",
    "    n_unique_values = df.nunique()\n",
    "    n_values = df.count()\n",
    "\n",
    "    df_info = pd.DataFrame({\n",
    "        'column_type':df.dtypes,\n",
    "        'missing_value_percentage': (df.isnull().mean()*100).round(3),\n",
    "        'nbr_unique_values': n_unique_values,\n",
    "        'nbr_null_values': df.isnull().sum(),\n",
    "        'nbr_non_null_values': n_values,\n",
    "        'duplicates_percentage':round(100-n_unique_values/(n_values.where(n_values != 0, np.nan))*100, 2),\n",
    "        'mode': df.apply(compute_modes),\n",
    "        'min': df.min(numeric_only=True),\n",
    "        'max': df.max(numeric_only=True),\n",
    "        'mean': df.mean(numeric_only=True),\n",
    "        'median': df.median(numeric_only=True),\n",
    "        'std': df.std(numeric_only=True)\n",
    "        })\n",
    "\n",
    "    df_info[\"unique_values\"] = df.apply(display_unique_values, df=df_info)\n",
    "    df_info[\"additional_comment\"] = df.apply(add_additional_comment, df=df_info, sensitivity=top_common_values_sensitivity)\n",
    "\n",
    "    return df_info\n"
   ]
  },
  {
   "cell_type": "code",
   "execution_count": 4,
   "id": "f8e8ecbc",
   "metadata": {},
   "outputs": [
    {
     "name": "stdout",
     "output_type": "stream",
     "text": [
      "This DataFrame has 14272 rows and 4 columns.\n"
     ]
    }
   ],
   "source": [
    "df_population_info = get_df_variables_info(df_population)"
   ]
  },
  {
   "cell_type": "code",
   "execution_count": 5,
   "id": "7121633f",
   "metadata": {},
   "outputs": [
    {
     "name": "stdout",
     "output_type": "stream",
     "text": [
      "This DataFrame has 46816 rows and 4 columns.\n"
     ]
    }
   ],
   "source": [
    "df_gapminder_info = get_df_variables_info(df_gapminder)"
   ]
  },
  {
   "cell_type": "code",
   "execution_count": 6,
   "id": "3702559e",
   "metadata": {},
   "outputs": [],
   "source": [
    "df_gapminder[\"year\"] = df_gapminder[\"year\"].astype(int)"
   ]
  },
  {
   "cell_type": "code",
   "execution_count": 7,
   "id": "4e03c3e1",
   "metadata": {},
   "outputs": [],
   "source": [
    "df_population[\"year\"] = df_population[\"year\"].astype(int)"
   ]
  },
  {
   "cell_type": "code",
   "execution_count": 8,
   "id": "d4c5fd36",
   "metadata": {},
   "outputs": [
    {
     "name": "stdout",
     "output_type": "stream",
     "text": [
      "This DataFrame has 14272 rows and 4 columns.\n",
      "This DataFrame has 46816 rows and 4 columns.\n"
     ]
    }
   ],
   "source": [
    "df_population_info = get_df_variables_info(df_population)\n",
    "df_gapminder_info = get_df_variables_info(df_gapminder)"
   ]
  },
  {
   "cell_type": "markdown",
   "id": "f728e810",
   "metadata": {},
   "source": [
    "What countries are present in one source but not the other ?"
   ]
  },
  {
   "cell_type": "code",
   "execution_count": 27,
   "id": "2c55fa20",
   "metadata": {},
   "outputs": [
    {
     "name": "stdout",
     "output_type": "stream",
     "text": [
      "Here are the countries present in source 'GapMinder' but not in source 'WBD' :\n",
      "Taiwan\n",
      "North Korea\n",
      "Vatican\n",
      "Palestine\n"
     ]
    }
   ],
   "source": [
    "additional_countries_GM = list(set(df_gapminder[\"group_name\"]) - set(df_population[\"group_name\"]))\n",
    "print(f\"Here are the countries present in source 'GapMinder' but not in source 'WBD' :\")\n",
    "print('\\n'.join(additional_countries_GM))"
   ]
  },
  {
   "cell_type": "code",
   "execution_count": 26,
   "id": "41aa3976",
   "metadata": {},
   "outputs": [
    {
     "name": "stdout",
     "output_type": "stream",
     "text": [
      "Here are the countries present in source 'WBD' but not in source 'GapMinder' :\n",
      "Gibraltar\n",
      "Turks and Caicos Islands\n",
      "Aruba\n",
      "New Caledonia\n",
      "Bermuda\n",
      "Guam\n",
      "Kosovo\n",
      "Greenland\n",
      "American Samoa\n",
      "Macao Special Administrative Region (China)\n",
      "British Virgin Islands\n",
      "Puerto Rico\n",
      "Northern Mariana Islands\n",
      "United States Virgin Islands\n",
      "French Polynesia\n",
      "Cayman Islands\n",
      "Faeroe Islands\n"
     ]
    }
   ],
   "source": [
    "additional_countries_GM = list(set(df_population[\"group_name\"]) - set(df_gapminder[\"group_name\"]))\n",
    "print(\"Here are the countries present in source 'WBD' but not in source 'GapMinder' :\")\n",
    "print('\\n'.join(additional_countries_GM))"
   ]
  },
  {
   "cell_type": "markdown",
   "id": "f3f33689",
   "metadata": {},
   "source": [
    "We can assume that in GapMinder:\n",
    "\n",
    "- United States data includes: Guam, Northern Mariana Islands, American Samoa, Puerto Rico, United States Virgin Islands\n",
    "- Netherlands data includes: Aruba\n",
    "- United Kingdom data includes: Gibraltar, Bermuda, British Virgin Islands, Cayman Islands, Turks and Caicos Islands\n",
    "- France data includes: New Caledonia, French Polynesia\n",
    "- Denmark data includes: Faroe Islands, Greenland\n",
    "- China data includes: Macao Special Administrative Region (China)\n",
    "\n",
    "However, there is no data on Kosovo\n",
    "\n",
    "Finding reliable information on what data is actually included in each country for gapminder source seems quite complicated.\n",
    "\n",
    "The best option seems to be maintaining both sources and aggregate them appropriately. Aggregating the data could lead to approximations and might not be ideal however."
   ]
  },
  {
   "attachments": {},
   "cell_type": "markdown",
   "id": "2c3053ea",
   "metadata": {},
   "source": [
    "# Add country codes"
   ]
  },
  {
   "attachments": {},
   "cell_type": "markdown",
   "id": "7fdd0f00",
   "metadata": {},
   "source": [
    "## Helper function to get country codes"
   ]
  },
  {
   "cell_type": "code",
   "execution_count": 4,
   "id": "0195eb56",
   "metadata": {},
   "outputs": [],
   "source": [
    "def get_country_code(country_name):\n",
    "    try:\n",
    "        country = pycountry.countries.search_fuzzy(country_name)\n",
    "        return country[0].alpha_3\n",
    "    except:\n",
    "        return None"
   ]
  },
  {
   "cell_type": "code",
   "execution_count": 5,
   "id": "f9ebb031",
   "metadata": {},
   "outputs": [
    {
     "data": {
      "text/plain": [
       "'FRA'"
      ]
     },
     "execution_count": 5,
     "metadata": {},
     "output_type": "execute_result"
    }
   ],
   "source": [
    "get_country_code(\"France\")"
   ]
  },
  {
   "attachments": {},
   "cell_type": "markdown",
   "id": "d18e22e8",
   "metadata": {},
   "source": [
    "## Create mapping table"
   ]
  },
  {
   "cell_type": "code",
   "execution_count": 1,
   "id": "b04ad26f",
   "metadata": {},
   "outputs": [
    {
     "ename": "NameError",
     "evalue": "name 'gapminder' is not defined",
     "output_type": "error",
     "traceback": [
      "\u001b[0;31m---------------------------------------------------------------------------\u001b[0m",
      "\u001b[0;31mNameError\u001b[0m                                 Traceback (most recent call last)",
      "Cell \u001b[0;32mIn[1], line 1\u001b[0m\n\u001b[0;32m----> 1\u001b[0m all_countries \u001b[39m=\u001b[39m \u001b[39mlist\u001b[39m(gapminder[\u001b[39m\"\u001b[39m\u001b[39mcountry\u001b[39m\u001b[39m\"\u001b[39m]\u001b[39m.\u001b[39munique())\n\u001b[1;32m      2\u001b[0m \u001b[39mlen\u001b[39m(all_countries)\n",
      "\u001b[0;31mNameError\u001b[0m: name 'gapminder' is not defined"
     ]
    }
   ],
   "source": [
    "all_countries = list(gapminder[\"country\"].unique())\n",
    "len(all_countries)"
   ]
  },
  {
   "cell_type": "code",
   "execution_count": 10,
   "id": "e726ef80",
   "metadata": {},
   "outputs": [
    {
     "data": {
      "text/html": [
       "<div>\n",
       "<style scoped>\n",
       "    .dataframe tbody tr th:only-of-type {\n",
       "        vertical-align: middle;\n",
       "    }\n",
       "\n",
       "    .dataframe tbody tr th {\n",
       "        vertical-align: top;\n",
       "    }\n",
       "\n",
       "    .dataframe thead th {\n",
       "        text-align: right;\n",
       "    }\n",
       "</style>\n",
       "<table border=\"1\" class=\"dataframe\">\n",
       "  <thead>\n",
       "    <tr style=\"text-align: right;\">\n",
       "      <th></th>\n",
       "      <th>country</th>\n",
       "      <th>country_code</th>\n",
       "    </tr>\n",
       "  </thead>\n",
       "  <tbody>\n",
       "    <tr>\n",
       "      <th>0</th>\n",
       "      <td>Afghanistan</td>\n",
       "      <td>AFG</td>\n",
       "    </tr>\n",
       "    <tr>\n",
       "      <th>1</th>\n",
       "      <td>Albania</td>\n",
       "      <td>ALB</td>\n",
       "    </tr>\n",
       "    <tr>\n",
       "      <th>2</th>\n",
       "      <td>Algeria</td>\n",
       "      <td>DZA</td>\n",
       "    </tr>\n",
       "    <tr>\n",
       "      <th>3</th>\n",
       "      <td>Angola</td>\n",
       "      <td>AGO</td>\n",
       "    </tr>\n",
       "    <tr>\n",
       "      <th>4</th>\n",
       "      <td>Argentina</td>\n",
       "      <td>ARG</td>\n",
       "    </tr>\n",
       "  </tbody>\n",
       "</table>\n",
       "</div>"
      ],
      "text/plain": [
       "       country country_code\n",
       "0  Afghanistan          AFG\n",
       "1      Albania          ALB\n",
       "2      Algeria          DZA\n",
       "3       Angola          AGO\n",
       "4    Argentina          ARG"
      ]
     },
     "execution_count": 10,
     "metadata": {},
     "output_type": "execute_result"
    }
   ],
   "source": [
    "country_mapping = []\n",
    "for country in all_countries:\n",
    "    country_mapping.append({\"country\":country,\"country_code\":get_country_code(country)})\n",
    "country_mapping = pd.DataFrame(country_mapping)\n",
    "country_mapping.head()"
   ]
  },
  {
   "attachments": {},
   "cell_type": "markdown",
   "id": "49f8e011",
   "metadata": {},
   "source": [
    "# Visualisation"
   ]
  },
  {
   "cell_type": "code",
   "execution_count": 23,
   "id": "c7c7946c",
   "metadata": {},
   "outputs": [
    {
     "data": {
      "image/png": "[encoded data removed]",
      "text/plain": [
       "<Figure size 1000x300 with 1 Axes>"
      ]
     },
     "metadata": {},
     "output_type": "display_data"
    }
   ],
   "source": [
    "population_data.query(\"country_code=='FRA'\").set_index(\"year\")[\"pop\"].plot(kind = \"bar\",figsize = (10,3))\n",
    "plt.show()"
   ]
  }
 ],
 "metadata": {
  "kernelspec": {
   "display_name": ".venv",
   "language": "python",
   "name": "python3"
  },
  "language_info": {
   "codemirror_mode": {
    "name": "ipython",
    "version": 3
   },
   "file_extension": ".py",
   "mimetype": "text/x-python",
   "name": "python",
   "nbconvert_exporter": "python",
   "pygments_lexer": "ipython3",
   "version": "3.11.0"
  }
 },
 "nbformat": 4,
 "nbformat_minor": 5
}
