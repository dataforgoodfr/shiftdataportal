{
 "cells": [
  {
   "cell_type": "markdown",
   "source": [
    "# First checks"
   ],
   "metadata": {
    "collapsed": false
   }
  },
  {
   "cell_type": "code",
   "execution_count": 2,
   "outputs": [],
   "source": [
    "import pandas as pd"
   ],
   "metadata": {
    "collapsed": false
   }
  },
  {
   "cell_type": "code",
   "execution_count": 4,
   "outputs": [
    {
     "data": {
      "text/plain": "    group_type group_name                 country\n0         zone     Europe                 Albania\n1         zone     Europe                 Andorra\n2         zone     Europe                 Austria\n3         zone     Europe                 Belgium\n4         zone     Europe  Bosnia and Herzegovina\n..         ...        ...                     ...\n516      group       OPEC                 Nigeria\n517      group       OPEC                   Qatar\n518      group       OPEC            Saudi Arabia\n519      group       OPEC    United Arab Emirates\n520      group       OPEC               Venezuela\n\n[521 rows x 3 columns]",
      "text/html": "<div>\n<style scoped>\n    .dataframe tbody tr th:only-of-type {\n        vertical-align: middle;\n    }\n\n    .dataframe tbody tr th {\n        vertical-align: top;\n    }\n\n    .dataframe thead th {\n        text-align: right;\n    }\n</style>\n<table border=\"1\" class=\"dataframe\">\n  <thead>\n    <tr style=\"text-align: right;\">\n      <th></th>\n      <th>group_type</th>\n      <th>group_name</th>\n      <th>country</th>\n    </tr>\n  </thead>\n  <tbody>\n    <tr>\n      <th>0</th>\n      <td>zone</td>\n      <td>Europe</td>\n      <td>Albania</td>\n    </tr>\n    <tr>\n      <th>1</th>\n      <td>zone</td>\n      <td>Europe</td>\n      <td>Andorra</td>\n    </tr>\n    <tr>\n      <th>2</th>\n      <td>zone</td>\n      <td>Europe</td>\n      <td>Austria</td>\n    </tr>\n    <tr>\n      <th>3</th>\n      <td>zone</td>\n      <td>Europe</td>\n      <td>Belgium</td>\n    </tr>\n    <tr>\n      <th>4</th>\n      <td>zone</td>\n      <td>Europe</td>\n      <td>Bosnia and Herzegovina</td>\n    </tr>\n    <tr>\n      <th>...</th>\n      <td>...</td>\n      <td>...</td>\n      <td>...</td>\n    </tr>\n    <tr>\n      <th>516</th>\n      <td>group</td>\n      <td>OPEC</td>\n      <td>Nigeria</td>\n    </tr>\n    <tr>\n      <th>517</th>\n      <td>group</td>\n      <td>OPEC</td>\n      <td>Qatar</td>\n    </tr>\n    <tr>\n      <th>518</th>\n      <td>group</td>\n      <td>OPEC</td>\n      <td>Saudi Arabia</td>\n    </tr>\n    <tr>\n      <th>519</th>\n      <td>group</td>\n      <td>OPEC</td>\n      <td>United Arab Emirates</td>\n    </tr>\n    <tr>\n      <th>520</th>\n      <td>group</td>\n      <td>OPEC</td>\n      <td>Venezuela</td>\n    </tr>\n  </tbody>\n</table>\n<p>521 rows × 3 columns</p>\n</div>"
     },
     "execution_count": 4,
     "metadata": {},
     "output_type": "execute_result"
    }
   ],
   "source": [
    "countries_groups = pd.read_csv(\n",
    "    \"../../data/dataiku/final/country_project/country_groups_prod.csv\",\n",
    "    sep=\",\",\n",
    ")\n",
    "countries_groups"
   ],
   "metadata": {
    "collapsed": false
   }
  },
  {
   "cell_type": "code",
   "execution_count": 10,
   "outputs": [
    {
     "data": {
      "text/plain": "group_type\ngroup          77\nzone          444\ndtype: int64"
     },
     "execution_count": 10,
     "metadata": {},
     "output_type": "execute_result"
    }
   ],
   "source": [
    "countries_groups.value_counts(subset=[\"group_type\"]).sort_index()"
   ],
   "metadata": {
    "collapsed": false
   }
  },
  {
   "cell_type": "code",
   "execution_count": 11,
   "outputs": [
    {
     "data": {
      "text/plain": "    group_type    group_name               country\n444      group  Persian Gulf               Bahrain\n445      group  Persian Gulf                  Iran\n446      group  Persian Gulf                  Iraq\n447      group  Persian Gulf                Kuwait\n448      group  Persian Gulf                 Qatar\n..         ...           ...                   ...\n516      group          OPEC               Nigeria\n517      group          OPEC                 Qatar\n518      group          OPEC          Saudi Arabia\n519      group          OPEC  United Arab Emirates\n520      group          OPEC             Venezuela\n\n[77 rows x 3 columns]",
      "text/html": "<div>\n<style scoped>\n    .dataframe tbody tr th:only-of-type {\n        vertical-align: middle;\n    }\n\n    .dataframe tbody tr th {\n        vertical-align: top;\n    }\n\n    .dataframe thead th {\n        text-align: right;\n    }\n</style>\n<table border=\"1\" class=\"dataframe\">\n  <thead>\n    <tr style=\"text-align: right;\">\n      <th></th>\n      <th>group_type</th>\n      <th>group_name</th>\n      <th>country</th>\n    </tr>\n  </thead>\n  <tbody>\n    <tr>\n      <th>444</th>\n      <td>group</td>\n      <td>Persian Gulf</td>\n      <td>Bahrain</td>\n    </tr>\n    <tr>\n      <th>445</th>\n      <td>group</td>\n      <td>Persian Gulf</td>\n      <td>Iran</td>\n    </tr>\n    <tr>\n      <th>446</th>\n      <td>group</td>\n      <td>Persian Gulf</td>\n      <td>Iraq</td>\n    </tr>\n    <tr>\n      <th>447</th>\n      <td>group</td>\n      <td>Persian Gulf</td>\n      <td>Kuwait</td>\n    </tr>\n    <tr>\n      <th>448</th>\n      <td>group</td>\n      <td>Persian Gulf</td>\n      <td>Qatar</td>\n    </tr>\n    <tr>\n      <th>...</th>\n      <td>...</td>\n      <td>...</td>\n      <td>...</td>\n    </tr>\n    <tr>\n      <th>516</th>\n      <td>group</td>\n      <td>OPEC</td>\n      <td>Nigeria</td>\n    </tr>\n    <tr>\n      <th>517</th>\n      <td>group</td>\n      <td>OPEC</td>\n      <td>Qatar</td>\n    </tr>\n    <tr>\n      <th>518</th>\n      <td>group</td>\n      <td>OPEC</td>\n      <td>Saudi Arabia</td>\n    </tr>\n    <tr>\n      <th>519</th>\n      <td>group</td>\n      <td>OPEC</td>\n      <td>United Arab Emirates</td>\n    </tr>\n    <tr>\n      <th>520</th>\n      <td>group</td>\n      <td>OPEC</td>\n      <td>Venezuela</td>\n    </tr>\n  </tbody>\n</table>\n<p>77 rows × 3 columns</p>\n</div>"
     },
     "execution_count": 11,
     "metadata": {},
     "output_type": "execute_result"
    }
   ],
   "source": [
    "countries_groups[countries_groups.group_type == \"group\"]"
   ],
   "metadata": {
    "collapsed": false
   }
  },
  {
   "cell_type": "code",
   "execution_count": 14,
   "outputs": [
    {
     "data": {
      "text/plain": "array(['Albania', 'Andorra', 'Austria', 'Belgium',\n       'Bosnia and Herzegovina', 'Bulgaria', 'Croatia', 'Cyprus',\n       'Czechia', 'Denmark', 'Faeroe Islands', 'Finland', 'France',\n       'Germany', 'Gibraltar', 'Greece', 'Hungary', 'Iceland', 'Ireland',\n       'Italy', 'Liechtenstein', 'Luxembourg', 'Malta', 'Monaco',\n       'Montenegro', 'Netherlands', 'Norway', 'Poland', 'Portugal',\n       'Romania', 'Serbia', 'San Marino', 'Slovakia', 'Slovenia', 'Spain',\n       'Sweden', 'Switzerland', 'Turkey', 'United Kingdom',\n       'Czechoslovakia', 'Macedonia', 'Yugoslavia', 'Armenia',\n       'Azerbaijan', 'Belarus', 'Estonia', 'Georgia', 'Kazakhstan',\n       'Kyrgyzstan', 'Latvia', 'Lithuania', 'Moldova',\n       'Russian Federation & USSR', 'Tajikistan', 'Turkmenistan',\n       'Ukraine', 'Uzbekistan', 'Algeria', 'Angola', 'Benin', 'Botswana',\n       'Burkina Faso', 'Burundi', 'Ivory Coast', 'Cameroon', 'Cape Verde',\n       'Central African Republic', 'Chad', 'Comoros', 'Congo',\n       'Democratic Republic of the Congo', 'Djibouti', 'Egypt',\n       'Equatorial Guinea', 'Eritrea', 'Ethiopia', 'Gabon', 'Gambia',\n       'Ghana', 'Guinea', 'Guinea-Bissau', 'Kenya', 'Lesotho', 'Liberia',\n       'Libya', 'Madagascar', 'Malawi', 'Mali', 'Mauritania', 'Mauritius',\n       'Morocco', 'Mozambique', 'Namibia', 'Niger', 'Nigeria', 'Reunion',\n       'Rwanda', 'Eswatini', 'Saint Helena', 'Sao Tome and Principe',\n       'Senegal', 'Seychelles', 'Sierra Leone', 'Somalia', 'South Africa',\n       'South Sudan', 'Sudan', 'Swaziland', 'Togo', 'Tunisia', 'Uganda',\n       'Tanzania', 'Zambia', 'Zimbabwe', 'Western Sahara', 'Afghanistan',\n       'American Samoa', 'Australia', 'Bangladesh', 'Bhutan',\n       'Brunei Darussalam', 'Cambodia', 'China',\n       'Hong Kong Special Administrative Region (China)',\n       'Macao Special Administrative Region (China)', 'Cook Islands',\n       'North Korea', 'Fiji', 'French Polynesia', 'Guam', 'India',\n       'Indonesia', 'Japan', 'Kiribati', 'Laos', 'Malaysia', 'Maldives',\n       'Mongolia', 'Nauru', 'Nepal', 'New Caledonia', 'New Zealand',\n       'Niue', 'Pakistan', 'Papua New Guinea', 'Philippines',\n       'South Korea', 'Samoa', 'Singapore', 'Solomon Islands',\n       'Sri Lanka', 'Thailand', 'Timor-Leste', 'Tonga', 'Vanuatu',\n       'Viet Nam', 'Burma', 'Taiwan', 'US Pacific Islands', 'Wake Island',\n       'Palau', 'Bermuda', 'Canada', 'Greenland', 'Mexico',\n       'Saint Pierre and Miquelon', 'United States of America',\n       'Antigua and Barbuda', 'Argentina', 'Aruba', 'Bahamas', 'Barbados',\n       'Belize', 'Bolivia', 'Brazil', 'British Virgin Islands',\n       'Cayman Islands', 'Chile', 'Colombia', 'Costa Rica', 'Cuba',\n       'Dominica', 'Dominican Republic', 'Ecuador', 'El Salvador',\n       'Falkland Islands (Malvinas)', 'French Guiana', 'Grenada',\n       'Guadeloupe', 'Guatemala', 'Guyana', 'Haiti', 'Honduras',\n       'Jamaica', 'Martinique', 'Montserrat', 'Netherlands Antilles',\n       'Nicaragua', 'Panama', 'Paraguay', 'Peru', 'Puerto Rico',\n       'Saint Kitts and Nevis', 'Saint Lucia',\n       'Saint Vincent and the Grenadines', 'Suriname',\n       'Trinidad and Tobago', 'Turks and Caicos Islands',\n       'United States Virgin Islands', 'Uruguay', 'Venezuela', 'Bahrain',\n       'Iran', 'Iraq', 'Israel', 'Jordan', 'Kuwait', 'Lebanon', 'Oman',\n       'Qatar', 'Saudi Arabia', 'Syria', 'United Arab Emirates', 'Yemen',\n       'Palestine'], dtype=object)"
     },
     "execution_count": 14,
     "metadata": {},
     "output_type": "execute_result"
    }
   ],
   "source": [
    "countries = countries_groups[\"country\"].unique()\n",
    "countries"
   ],
   "metadata": {
    "collapsed": false
   }
  },
  {
   "cell_type": "code",
   "execution_count": 17,
   "outputs": [
    {
     "data": {
      "text/plain": "numpy.ndarray"
     },
     "execution_count": 17,
     "metadata": {},
     "output_type": "execute_result"
    }
   ],
   "source": [
    "type(countries)"
   ],
   "metadata": {
    "collapsed": false
   }
  },
  {
   "cell_type": "code",
   "execution_count": 15,
   "outputs": [
    {
     "data": {
      "text/plain": "array(['Europe', 'Eurasia', 'Africa', 'Asia and Oceania', 'North America',\n       'Central and South America', 'Middle East', 'World',\n       'Persian Gulf', 'OECD', 'EU28', 'OPEC'], dtype=object)"
     },
     "execution_count": 15,
     "metadata": {},
     "output_type": "execute_result"
    }
   ],
   "source": [
    "continents_or_groups = countries_groups[\"group_name\"].unique()\n",
    "continents_or_groups"
   ],
   "metadata": {
    "collapsed": false
   }
  },
  {
   "cell_type": "code",
   "execution_count": 18,
   "outputs": [
    {
     "data": {
      "text/plain": "numpy.ndarray"
     },
     "execution_count": 18,
     "metadata": {},
     "output_type": "execute_result"
    }
   ],
   "source": [
    "type(continents_or_groups)"
   ],
   "metadata": {
    "collapsed": false
   }
  },
  {
   "cell_type": "code",
   "execution_count": 20,
   "outputs": [
    {
     "data": {
      "text/plain": "array(['Albania', 'Andorra', 'Austria', 'Belgium',\n       'Bosnia and Herzegovina', 'Bulgaria', 'Croatia', 'Cyprus',\n       'Czechia', 'Denmark', 'Faeroe Islands', 'Finland', 'France',\n       'Germany', 'Gibraltar', 'Greece', 'Hungary', 'Iceland', 'Ireland',\n       'Italy', 'Liechtenstein', 'Luxembourg', 'Malta', 'Monaco',\n       'Montenegro', 'Netherlands', 'Norway', 'Poland', 'Portugal',\n       'Romania', 'Serbia', 'San Marino', 'Slovakia', 'Slovenia', 'Spain',\n       'Sweden', 'Switzerland', 'Turkey', 'United Kingdom',\n       'Czechoslovakia', 'Macedonia', 'Yugoslavia', 'Armenia',\n       'Azerbaijan', 'Belarus', 'Estonia', 'Georgia', 'Kazakhstan',\n       'Kyrgyzstan', 'Latvia', 'Lithuania', 'Moldova',\n       'Russian Federation & USSR', 'Tajikistan', 'Turkmenistan',\n       'Ukraine', 'Uzbekistan', 'Algeria', 'Angola', 'Benin', 'Botswana',\n       'Burkina Faso', 'Burundi', 'Ivory Coast', 'Cameroon', 'Cape Verde',\n       'Central African Republic', 'Chad', 'Comoros', 'Congo',\n       'Democratic Republic of the Congo', 'Djibouti', 'Egypt',\n       'Equatorial Guinea', 'Eritrea', 'Ethiopia', 'Gabon', 'Gambia',\n       'Ghana', 'Guinea', 'Guinea-Bissau', 'Kenya', 'Lesotho', 'Liberia',\n       'Libya', 'Madagascar', 'Malawi', 'Mali', 'Mauritania', 'Mauritius',\n       'Morocco', 'Mozambique', 'Namibia', 'Niger', 'Nigeria', 'Reunion',\n       'Rwanda', 'Eswatini', 'Saint Helena', 'Sao Tome and Principe',\n       'Senegal', 'Seychelles', 'Sierra Leone', 'Somalia', 'South Africa',\n       'South Sudan', 'Sudan', 'Swaziland', 'Togo', 'Tunisia', 'Uganda',\n       'Tanzania', 'Zambia', 'Zimbabwe', 'Western Sahara', 'Afghanistan',\n       'American Samoa', 'Australia', 'Bangladesh', 'Bhutan',\n       'Brunei Darussalam', 'Cambodia', 'China',\n       'Hong Kong Special Administrative Region (China)',\n       'Macao Special Administrative Region (China)', 'Cook Islands',\n       'North Korea', 'Fiji', 'French Polynesia', 'Guam', 'India',\n       'Indonesia', 'Japan', 'Kiribati', 'Laos', 'Malaysia', 'Maldives',\n       'Mongolia', 'Nauru', 'Nepal', 'New Caledonia', 'New Zealand',\n       'Niue', 'Pakistan', 'Papua New Guinea', 'Philippines',\n       'South Korea', 'Samoa', 'Singapore', 'Solomon Islands',\n       'Sri Lanka', 'Thailand', 'Timor-Leste', 'Tonga', 'Vanuatu',\n       'Viet Nam', 'Burma', 'Taiwan', 'US Pacific Islands', 'Wake Island',\n       'Palau', 'Bermuda', 'Canada', 'Greenland', 'Mexico',\n       'Saint Pierre and Miquelon', 'United States of America',\n       'Antigua and Barbuda', 'Argentina', 'Aruba', 'Bahamas', 'Barbados',\n       'Belize', 'Bolivia', 'Brazil', 'British Virgin Islands',\n       'Cayman Islands', 'Chile', 'Colombia', 'Costa Rica', 'Cuba',\n       'Dominica', 'Dominican Republic', 'Ecuador', 'El Salvador',\n       'Falkland Islands (Malvinas)', 'French Guiana', 'Grenada',\n       'Guadeloupe', 'Guatemala', 'Guyana', 'Haiti', 'Honduras',\n       'Jamaica', 'Martinique', 'Montserrat', 'Netherlands Antilles',\n       'Nicaragua', 'Panama', 'Paraguay', 'Peru', 'Puerto Rico',\n       'Saint Kitts and Nevis', 'Saint Lucia',\n       'Saint Vincent and the Grenadines', 'Suriname',\n       'Trinidad and Tobago', 'Turks and Caicos Islands',\n       'United States Virgin Islands', 'Uruguay', 'Venezuela', 'Bahrain',\n       'Iran', 'Iraq', 'Israel', 'Jordan', 'Kuwait', 'Lebanon', 'Oman',\n       'Qatar', 'Saudi Arabia', 'Syria', 'United Arab Emirates', 'Yemen',\n       'Palestine', 'Europe', 'Eurasia', 'Africa', 'Asia and Oceania',\n       'North America', 'Central and South America', 'Middle East',\n       'World', 'Persian Gulf', 'OECD', 'EU28', 'OPEC'], dtype=object)"
     },
     "execution_count": 20,
     "metadata": {},
     "output_type": "execute_result"
    }
   ],
   "source": [
    "import numpy as np\n",
    "countries_continents_or_groups = np.concatenate((countries, continents_or_groups), axis=None)\n",
    "countries_continents_or_groups"
   ],
   "metadata": {
    "collapsed": false
   }
  },
  {
   "cell_type": "code",
   "execution_count": 22,
   "outputs": [
    {
     "data": {
      "text/plain": "           country_or_group\n0                   Albania\n1                   Andorra\n2                   Austria\n3                   Belgium\n4    Bosnia and Herzegovina\n..                      ...\n232                   World\n233            Persian Gulf\n234                    OECD\n235                    EU28\n236                    OPEC\n\n[237 rows x 1 columns]",
      "text/html": "<div>\n<style scoped>\n    .dataframe tbody tr th:only-of-type {\n        vertical-align: middle;\n    }\n\n    .dataframe tbody tr th {\n        vertical-align: top;\n    }\n\n    .dataframe thead th {\n        text-align: right;\n    }\n</style>\n<table border=\"1\" class=\"dataframe\">\n  <thead>\n    <tr style=\"text-align: right;\">\n      <th></th>\n      <th>country_or_group</th>\n    </tr>\n  </thead>\n  <tbody>\n    <tr>\n      <th>0</th>\n      <td>Albania</td>\n    </tr>\n    <tr>\n      <th>1</th>\n      <td>Andorra</td>\n    </tr>\n    <tr>\n      <th>2</th>\n      <td>Austria</td>\n    </tr>\n    <tr>\n      <th>3</th>\n      <td>Belgium</td>\n    </tr>\n    <tr>\n      <th>4</th>\n      <td>Bosnia and Herzegovina</td>\n    </tr>\n    <tr>\n      <th>...</th>\n      <td>...</td>\n    </tr>\n    <tr>\n      <th>232</th>\n      <td>World</td>\n    </tr>\n    <tr>\n      <th>233</th>\n      <td>Persian Gulf</td>\n    </tr>\n    <tr>\n      <th>234</th>\n      <td>OECD</td>\n    </tr>\n    <tr>\n      <th>235</th>\n      <td>EU28</td>\n    </tr>\n    <tr>\n      <th>236</th>\n      <td>OPEC</td>\n    </tr>\n  </tbody>\n</table>\n<p>237 rows × 1 columns</p>\n</div>"
     },
     "execution_count": 22,
     "metadata": {},
     "output_type": "execute_result"
    }
   ],
   "source": [
    "df_countries_continents_or_groups = pd.DataFrame(data={\"country_or_group\": countries_continents_or_groups})\n",
    "df_countries_continents_or_groups"
   ],
   "metadata": {
    "collapsed": false
   }
  },
  {
   "cell_type": "code",
   "execution_count": 5,
   "outputs": [
    {
     "data": {
      "text/plain": "                       group                    country\n0   Top GHG Emitters in 2018                      China\n1   Top GHG Emitters in 2018   United States of America\n2   Top GHG Emitters in 2018                       EU28\n3   Top GHG Emitters in 2018                      India\n4   Top GHG Emitters in 2018  Russian Federation & USSR\n..                       ...                        ...\n71                      EU28                   Slovenia\n72                      EU28                      Spain\n73                      EU28                     Sweden\n74                      EU28             United Kingdom\n75                      EU28                    Croatia\n\n[76 rows x 2 columns]",
      "text/html": "<div>\n<style scoped>\n    .dataframe tbody tr th:only-of-type {\n        vertical-align: middle;\n    }\n\n    .dataframe tbody tr th {\n        vertical-align: top;\n    }\n\n    .dataframe thead th {\n        text-align: right;\n    }\n</style>\n<table border=\"1\" class=\"dataframe\">\n  <thead>\n    <tr style=\"text-align: right;\">\n      <th></th>\n      <th>group</th>\n      <th>country</th>\n    </tr>\n  </thead>\n  <tbody>\n    <tr>\n      <th>0</th>\n      <td>Top GHG Emitters in 2018</td>\n      <td>China</td>\n    </tr>\n    <tr>\n      <th>1</th>\n      <td>Top GHG Emitters in 2018</td>\n      <td>United States of America</td>\n    </tr>\n    <tr>\n      <th>2</th>\n      <td>Top GHG Emitters in 2018</td>\n      <td>EU28</td>\n    </tr>\n    <tr>\n      <th>3</th>\n      <td>Top GHG Emitters in 2018</td>\n      <td>India</td>\n    </tr>\n    <tr>\n      <th>4</th>\n      <td>Top GHG Emitters in 2018</td>\n      <td>Russian Federation &amp; USSR</td>\n    </tr>\n    <tr>\n      <th>...</th>\n      <td>...</td>\n      <td>...</td>\n    </tr>\n    <tr>\n      <th>71</th>\n      <td>EU28</td>\n      <td>Slovenia</td>\n    </tr>\n    <tr>\n      <th>72</th>\n      <td>EU28</td>\n      <td>Spain</td>\n    </tr>\n    <tr>\n      <th>73</th>\n      <td>EU28</td>\n      <td>Sweden</td>\n    </tr>\n    <tr>\n      <th>74</th>\n      <td>EU28</td>\n      <td>United Kingdom</td>\n    </tr>\n    <tr>\n      <th>75</th>\n      <td>EU28</td>\n      <td>Croatia</td>\n    </tr>\n  </tbody>\n</table>\n<p>76 rows × 2 columns</p>\n</div>"
     },
     "execution_count": 5,
     "metadata": {},
     "output_type": "execute_result"
    }
   ],
   "source": [
    "dk_multiselection_country_groups = pd.read_csv(\n",
    "    \"../../data/dataiku/raw/country_project/multiselect_groups.csv\",\n",
    "    sep=\",\",\n",
    ")\n",
    "dk_multiselection_country_groups"
   ],
   "metadata": {
    "collapsed": false
   }
  },
  {
   "cell_type": "markdown",
   "source": [
    "Here we want to check if all the countries present in the multi-selection groups are actually in the country dataset."
   ],
   "metadata": {
    "collapsed": false
   }
  },
  {
   "cell_type": "code",
   "execution_count": 23,
   "outputs": [
    {
     "data": {
      "text/plain": "                       group                    country  \\\n0   Top GHG Emitters in 2018                      China   \n1   Top GHG Emitters in 2018   United States of America   \n2   Top GHG Emitters in 2018                       EU28   \n3   Top GHG Emitters in 2018                      India   \n4   Top GHG Emitters in 2018  Russian Federation & USSR   \n..                       ...                        ...   \n71                      EU28                   Slovenia   \n72                      EU28                      Spain   \n73                      EU28                     Sweden   \n74                      EU28             United Kingdom   \n75                      EU28                    Croatia   \n\n             country_or_group  \n0                       China  \n1    United States of America  \n2                        EU28  \n3                       India  \n4   Russian Federation & USSR  \n..                        ...  \n71                   Slovenia  \n72                      Spain  \n73                     Sweden  \n74             United Kingdom  \n75                    Croatia  \n\n[76 rows x 3 columns]",
      "text/html": "<div>\n<style scoped>\n    .dataframe tbody tr th:only-of-type {\n        vertical-align: middle;\n    }\n\n    .dataframe tbody tr th {\n        vertical-align: top;\n    }\n\n    .dataframe thead th {\n        text-align: right;\n    }\n</style>\n<table border=\"1\" class=\"dataframe\">\n  <thead>\n    <tr style=\"text-align: right;\">\n      <th></th>\n      <th>group</th>\n      <th>country</th>\n      <th>country_or_group</th>\n    </tr>\n  </thead>\n  <tbody>\n    <tr>\n      <th>0</th>\n      <td>Top GHG Emitters in 2018</td>\n      <td>China</td>\n      <td>China</td>\n    </tr>\n    <tr>\n      <th>1</th>\n      <td>Top GHG Emitters in 2018</td>\n      <td>United States of America</td>\n      <td>United States of America</td>\n    </tr>\n    <tr>\n      <th>2</th>\n      <td>Top GHG Emitters in 2018</td>\n      <td>EU28</td>\n      <td>EU28</td>\n    </tr>\n    <tr>\n      <th>3</th>\n      <td>Top GHG Emitters in 2018</td>\n      <td>India</td>\n      <td>India</td>\n    </tr>\n    <tr>\n      <th>4</th>\n      <td>Top GHG Emitters in 2018</td>\n      <td>Russian Federation &amp; USSR</td>\n      <td>Russian Federation &amp; USSR</td>\n    </tr>\n    <tr>\n      <th>...</th>\n      <td>...</td>\n      <td>...</td>\n      <td>...</td>\n    </tr>\n    <tr>\n      <th>71</th>\n      <td>EU28</td>\n      <td>Slovenia</td>\n      <td>Slovenia</td>\n    </tr>\n    <tr>\n      <th>72</th>\n      <td>EU28</td>\n      <td>Spain</td>\n      <td>Spain</td>\n    </tr>\n    <tr>\n      <th>73</th>\n      <td>EU28</td>\n      <td>Sweden</td>\n      <td>Sweden</td>\n    </tr>\n    <tr>\n      <th>74</th>\n      <td>EU28</td>\n      <td>United Kingdom</td>\n      <td>United Kingdom</td>\n    </tr>\n    <tr>\n      <th>75</th>\n      <td>EU28</td>\n      <td>Croatia</td>\n      <td>Croatia</td>\n    </tr>\n  </tbody>\n</table>\n<p>76 rows × 3 columns</p>\n</div>"
     },
     "execution_count": 23,
     "metadata": {},
     "output_type": "execute_result"
    }
   ],
   "source": [
    "df_merged = dk_multiselection_country_groups.merge(\n",
    "    df_countries_continents_or_groups,\n",
    "    how=\"left\",\n",
    "    left_on=\"country\",\n",
    "    right_on=\"country_or_group\",\n",
    ")\n",
    "df_merged"
   ],
   "metadata": {
    "collapsed": false
   }
  },
  {
   "cell_type": "code",
   "execution_count": 25,
   "outputs": [
    {
     "data": {
      "text/plain": "Empty DataFrame\nColumns: [group, country, country_or_group]\nIndex: []",
      "text/html": "<div>\n<style scoped>\n    .dataframe tbody tr th:only-of-type {\n        vertical-align: middle;\n    }\n\n    .dataframe tbody tr th {\n        vertical-align: top;\n    }\n\n    .dataframe thead th {\n        text-align: right;\n    }\n</style>\n<table border=\"1\" class=\"dataframe\">\n  <thead>\n    <tr style=\"text-align: right;\">\n      <th></th>\n      <th>group</th>\n      <th>country</th>\n      <th>country_or_group</th>\n    </tr>\n  </thead>\n  <tbody>\n  </tbody>\n</table>\n</div>"
     },
     "execution_count": 25,
     "metadata": {},
     "output_type": "execute_result"
    }
   ],
   "source": [
    "df_merged[df_merged.country_or_group.isnull()]"
   ],
   "metadata": {
    "collapsed": false
   }
  },
  {
   "cell_type": "markdown",
   "source": [
    "Here we check the type of a DataFrame row."
   ],
   "metadata": {
    "collapsed": false
   }
  },
  {
   "cell_type": "code",
   "execution_count": 4,
   "outputs": [
    {
     "data": {
      "text/plain": "group      Top GHG Emitters in 2018\ncountry                       China\nName: 0, dtype: object"
     },
     "execution_count": 4,
     "metadata": {},
     "output_type": "execute_result"
    }
   ],
   "source": [
    "first_row = dk_multiselection_country_groups.iloc[0, :]\n",
    "first_row"
   ],
   "metadata": {
    "collapsed": false
   }
  },
  {
   "cell_type": "code",
   "execution_count": 5,
   "outputs": [
    {
     "data": {
      "text/plain": "pandas.core.series.Series"
     },
     "execution_count": 5,
     "metadata": {},
     "output_type": "execute_result"
    }
   ],
   "source": [
    "type(first_row)"
   ],
   "metadata": {
    "collapsed": false
   }
  },
  {
   "cell_type": "code",
   "execution_count": 6,
   "outputs": [
    {
     "data": {
      "text/plain": "str"
     },
     "execution_count": 6,
     "metadata": {},
     "output_type": "execute_result"
    }
   ],
   "source": [
    "type(first_row.group)"
   ],
   "metadata": {
    "collapsed": false
   }
  }
 ],
 "metadata": {
  "kernelspec": {
   "display_name": "Python 3",
   "language": "python",
   "name": "python3"
  },
  "language_info": {
   "codemirror_mode": {
    "name": "ipython",
    "version": 2
   },
   "file_extension": ".py",
   "mimetype": "text/x-python",
   "name": "python",
   "nbconvert_exporter": "python",
   "pygments_lexer": "ipython2",
   "version": "2.7.6"
  }
 },
 "nbformat": 4,
 "nbformat_minor": 0
}
