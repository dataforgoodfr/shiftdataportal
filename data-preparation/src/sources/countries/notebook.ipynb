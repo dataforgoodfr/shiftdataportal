{
 "cells": [
  {
   "cell_type": "markdown",
   "source": [
    "# Exploration"
   ],
   "metadata": {
    "collapsed": false
   }
  },
  {
   "cell_type": "code",
   "execution_count": 1,
   "outputs": [],
   "source": [
    "import pandas as pd"
   ],
   "metadata": {
    "collapsed": false
   }
  },
  {
   "cell_type": "code",
   "execution_count": 2,
   "outputs": [],
   "source": [
    "path = \"../../data/_raw/wb/__info_wb_api_countries.csv\"\n",
    "countries = pd.read_csv(\n",
    "    path,\n",
    "    sep=\",\"\n",
    ")"
   ],
   "metadata": {
    "collapsed": false
   }
  },
  {
   "cell_type": "code",
   "execution_count": 3,
   "outputs": [
    {
     "data": {
      "text/plain": "    id iso2Code                         name       capitalCity  longitude  \\\n0  ABW       AW                        Aruba        Oranjestad   -70.0167   \n1  AFE       ZH  Africa Eastern and Southern               NaN        NaN   \n2  AFG       AF                  Afghanistan             Kabul    69.1761   \n3  AFR       A9                       Africa               NaN        NaN   \n4  AFW       ZI   Africa Western and Central               NaN        NaN   \n5  AGO       AO                       Angola            Luanda    13.2420   \n6  ALB       AL                      Albania            Tirane    19.8172   \n7  AND       AD                      Andorra  Andorra la Vella     1.5218   \n8  ARB       1A                   Arab World               NaN        NaN   \n9  ARE       AE         United Arab Emirates         Abu Dhabi    54.3705   \n\n   latitude region.id region.iso2code                region.value  \\\n0  12.51670       LCN              ZJ  Latin America & Caribbean    \n1       NaN       NaN             NaN                  Aggregates   \n2  34.52280       SAS              8S                  South Asia   \n3       NaN       NaN             NaN                  Aggregates   \n4       NaN       NaN             NaN                  Aggregates   \n5  -8.81155       SSF              ZG         Sub-Saharan Africa    \n6  41.33170       ECS              Z7       Europe & Central Asia   \n7  42.50750       ECS              Z7       Europe & Central Asia   \n8       NaN       NaN             NaN                  Aggregates   \n9  24.47640       MEA              ZQ  Middle East & North Africa   \n\n  adminregion.id adminregion.iso2code  \\\n0            NaN                  NaN   \n1            NaN                  NaN   \n2            SAS                   8S   \n3            NaN                  NaN   \n4            NaN                  NaN   \n5            SSA                   ZF   \n6            ECA                   7E   \n7            NaN                  NaN   \n8            NaN                  NaN   \n9            NaN                  NaN   \n\n                               adminregion.value incomeLevel.id  \\\n0                                            NaN            HIC   \n1                                            NaN            NaN   \n2                                     South Asia            LIC   \n3                                            NaN            NaN   \n4                                            NaN            NaN   \n5     Sub-Saharan Africa (excluding high income)            LMC   \n6  Europe & Central Asia (excluding high income)            UMC   \n7                                            NaN            HIC   \n8                                            NaN            NaN   \n9                                            NaN            HIC   \n\n  incomeLevel.iso2code    incomeLevel.value lendingType.id  \\\n0                   XD          High income            LNX   \n1                  NaN           Aggregates            NaN   \n2                   XM           Low income            IDX   \n3                  NaN           Aggregates            NaN   \n4                  NaN           Aggregates            NaN   \n5                   XN  Lower middle income            IBD   \n6                   XT  Upper middle income            IBD   \n7                   XD          High income            LNX   \n8                  NaN           Aggregates            NaN   \n9                   XD          High income            LNX   \n\n  lendingType.iso2code lendingType.value  \n0                   XX    Not classified  \n1                  NaN        Aggregates  \n2                   XI               IDA  \n3                  NaN        Aggregates  \n4                  NaN        Aggregates  \n5                   XF              IBRD  \n6                   XF              IBRD  \n7                   XX    Not classified  \n8                  NaN        Aggregates  \n9                   XX    Not classified  ",
      "text/html": "<div>\n<style scoped>\n    .dataframe tbody tr th:only-of-type {\n        vertical-align: middle;\n    }\n\n    .dataframe tbody tr th {\n        vertical-align: top;\n    }\n\n    .dataframe thead th {\n        text-align: right;\n    }\n</style>\n<table border=\"1\" class=\"dataframe\">\n  <thead>\n    <tr style=\"text-align: right;\">\n      <th></th>\n      <th>id</th>\n      <th>iso2Code</th>\n      <th>name</th>\n      <th>capitalCity</th>\n      <th>longitude</th>\n      <th>latitude</th>\n      <th>region.id</th>\n      <th>region.iso2code</th>\n      <th>region.value</th>\n      <th>adminregion.id</th>\n      <th>adminregion.iso2code</th>\n      <th>adminregion.value</th>\n      <th>incomeLevel.id</th>\n      <th>incomeLevel.iso2code</th>\n      <th>incomeLevel.value</th>\n      <th>lendingType.id</th>\n      <th>lendingType.iso2code</th>\n      <th>lendingType.value</th>\n    </tr>\n  </thead>\n  <tbody>\n    <tr>\n      <th>0</th>\n      <td>ABW</td>\n      <td>AW</td>\n      <td>Aruba</td>\n      <td>Oranjestad</td>\n      <td>-70.0167</td>\n      <td>12.51670</td>\n      <td>LCN</td>\n      <td>ZJ</td>\n      <td>Latin America &amp; Caribbean</td>\n      <td>NaN</td>\n      <td>NaN</td>\n      <td>NaN</td>\n      <td>HIC</td>\n      <td>XD</td>\n      <td>High income</td>\n      <td>LNX</td>\n      <td>XX</td>\n      <td>Not classified</td>\n    </tr>\n    <tr>\n      <th>1</th>\n      <td>AFE</td>\n      <td>ZH</td>\n      <td>Africa Eastern and Southern</td>\n      <td>NaN</td>\n      <td>NaN</td>\n      <td>NaN</td>\n      <td>NaN</td>\n      <td>NaN</td>\n      <td>Aggregates</td>\n      <td>NaN</td>\n      <td>NaN</td>\n      <td>NaN</td>\n      <td>NaN</td>\n      <td>NaN</td>\n      <td>Aggregates</td>\n      <td>NaN</td>\n      <td>NaN</td>\n      <td>Aggregates</td>\n    </tr>\n    <tr>\n      <th>2</th>\n      <td>AFG</td>\n      <td>AF</td>\n      <td>Afghanistan</td>\n      <td>Kabul</td>\n      <td>69.1761</td>\n      <td>34.52280</td>\n      <td>SAS</td>\n      <td>8S</td>\n      <td>South Asia</td>\n      <td>SAS</td>\n      <td>8S</td>\n      <td>South Asia</td>\n      <td>LIC</td>\n      <td>XM</td>\n      <td>Low income</td>\n      <td>IDX</td>\n      <td>XI</td>\n      <td>IDA</td>\n    </tr>\n    <tr>\n      <th>3</th>\n      <td>AFR</td>\n      <td>A9</td>\n      <td>Africa</td>\n      <td>NaN</td>\n      <td>NaN</td>\n      <td>NaN</td>\n      <td>NaN</td>\n      <td>NaN</td>\n      <td>Aggregates</td>\n      <td>NaN</td>\n      <td>NaN</td>\n      <td>NaN</td>\n      <td>NaN</td>\n      <td>NaN</td>\n      <td>Aggregates</td>\n      <td>NaN</td>\n      <td>NaN</td>\n      <td>Aggregates</td>\n    </tr>\n    <tr>\n      <th>4</th>\n      <td>AFW</td>\n      <td>ZI</td>\n      <td>Africa Western and Central</td>\n      <td>NaN</td>\n      <td>NaN</td>\n      <td>NaN</td>\n      <td>NaN</td>\n      <td>NaN</td>\n      <td>Aggregates</td>\n      <td>NaN</td>\n      <td>NaN</td>\n      <td>NaN</td>\n      <td>NaN</td>\n      <td>NaN</td>\n      <td>Aggregates</td>\n      <td>NaN</td>\n      <td>NaN</td>\n      <td>Aggregates</td>\n    </tr>\n    <tr>\n      <th>5</th>\n      <td>AGO</td>\n      <td>AO</td>\n      <td>Angola</td>\n      <td>Luanda</td>\n      <td>13.2420</td>\n      <td>-8.81155</td>\n      <td>SSF</td>\n      <td>ZG</td>\n      <td>Sub-Saharan Africa</td>\n      <td>SSA</td>\n      <td>ZF</td>\n      <td>Sub-Saharan Africa (excluding high income)</td>\n      <td>LMC</td>\n      <td>XN</td>\n      <td>Lower middle income</td>\n      <td>IBD</td>\n      <td>XF</td>\n      <td>IBRD</td>\n    </tr>\n    <tr>\n      <th>6</th>\n      <td>ALB</td>\n      <td>AL</td>\n      <td>Albania</td>\n      <td>Tirane</td>\n      <td>19.8172</td>\n      <td>41.33170</td>\n      <td>ECS</td>\n      <td>Z7</td>\n      <td>Europe &amp; Central Asia</td>\n      <td>ECA</td>\n      <td>7E</td>\n      <td>Europe &amp; Central Asia (excluding high income)</td>\n      <td>UMC</td>\n      <td>XT</td>\n      <td>Upper middle income</td>\n      <td>IBD</td>\n      <td>XF</td>\n      <td>IBRD</td>\n    </tr>\n    <tr>\n      <th>7</th>\n      <td>AND</td>\n      <td>AD</td>\n      <td>Andorra</td>\n      <td>Andorra la Vella</td>\n      <td>1.5218</td>\n      <td>42.50750</td>\n      <td>ECS</td>\n      <td>Z7</td>\n      <td>Europe &amp; Central Asia</td>\n      <td>NaN</td>\n      <td>NaN</td>\n      <td>NaN</td>\n      <td>HIC</td>\n      <td>XD</td>\n      <td>High income</td>\n      <td>LNX</td>\n      <td>XX</td>\n      <td>Not classified</td>\n    </tr>\n    <tr>\n      <th>8</th>\n      <td>ARB</td>\n      <td>1A</td>\n      <td>Arab World</td>\n      <td>NaN</td>\n      <td>NaN</td>\n      <td>NaN</td>\n      <td>NaN</td>\n      <td>NaN</td>\n      <td>Aggregates</td>\n      <td>NaN</td>\n      <td>NaN</td>\n      <td>NaN</td>\n      <td>NaN</td>\n      <td>NaN</td>\n      <td>Aggregates</td>\n      <td>NaN</td>\n      <td>NaN</td>\n      <td>Aggregates</td>\n    </tr>\n    <tr>\n      <th>9</th>\n      <td>ARE</td>\n      <td>AE</td>\n      <td>United Arab Emirates</td>\n      <td>Abu Dhabi</td>\n      <td>54.3705</td>\n      <td>24.47640</td>\n      <td>MEA</td>\n      <td>ZQ</td>\n      <td>Middle East &amp; North Africa</td>\n      <td>NaN</td>\n      <td>NaN</td>\n      <td>NaN</td>\n      <td>HIC</td>\n      <td>XD</td>\n      <td>High income</td>\n      <td>LNX</td>\n      <td>XX</td>\n      <td>Not classified</td>\n    </tr>\n  </tbody>\n</table>\n</div>"
     },
     "execution_count": 3,
     "metadata": {},
     "output_type": "execute_result"
    }
   ],
   "source": [
    "countries.head(10)"
   ],
   "metadata": {
    "collapsed": false
   }
  },
  {
   "cell_type": "code",
   "execution_count": 27,
   "outputs": [
    {
     "data": {
      "text/plain": "2                Afghanistan\n6                    Albania\n83                   Algeria\n12            American Samoa\n7                    Andorra\n               ...          \n289                  Vietnam\n288    Virgin Islands (U.S.)\n295              Yemen, Rep.\n297                   Zambia\n298                 Zimbabwe\nName: name, Length: 211, dtype: object"
     },
     "execution_count": 27,
     "metadata": {},
     "output_type": "execute_result"
    }
   ],
   "source": [
    "countries[~countries[\"capitalCity\"].isna()][\"name\"].sort_values()"
   ],
   "metadata": {
    "collapsed": false
   }
  },
  {
   "cell_type": "code",
   "execution_count": 25,
   "outputs": [
    {
     "data": {
      "text/plain": "3                                                 Africa\n1                            Africa Eastern and Southern\n4                             Africa Western and Central\n8                                             Arab World\n62                                Caribbean small states\n                             ...                        \n245           Sub-Saharan Africa (excluding high income)\n256            Sub-Saharan Africa excluding South Africa\n294    Sub-Saharan Africa excluding South Africa and ...\n281                                  Upper middle income\n291                                                World\nName: name, Length: 81, dtype: object"
     },
     "execution_count": 25,
     "metadata": {},
     "output_type": "execute_result"
    }
   ],
   "source": [
    "countries[countries[\"lendingType.value\"] == \"Aggregates\"][\"name\"].sort_values()"
   ],
   "metadata": {
    "collapsed": false
   }
  },
  {
   "cell_type": "code",
   "execution_count": 4,
   "outputs": [],
   "source": [
    "path = \"../../data/_raw/wb/__info_wb_api_regions.csv\"\n",
    "regions = pd.read_csv(\n",
    "    path,\n",
    "    sep=\",\"\n",
    ")"
   ],
   "metadata": {
    "collapsed": false
   }
  },
  {
   "cell_type": "code",
   "execution_count": 5,
   "outputs": [
    {
     "data": {
      "text/plain": "   id code iso2code                                     name\n0 NaN  AFE       ZH              Africa Eastern and Southern\n1 NaN  AFR       A9                                   Africa\n2 NaN  AFW       ZI               Africa Western and Central\n3 NaN  ARB       1A                               Arab World\n4 NaN  CAA       C9  Sub-Saharan Africa (IFC classification)",
      "text/html": "<div>\n<style scoped>\n    .dataframe tbody tr th:only-of-type {\n        vertical-align: middle;\n    }\n\n    .dataframe tbody tr th {\n        vertical-align: top;\n    }\n\n    .dataframe thead th {\n        text-align: right;\n    }\n</style>\n<table border=\"1\" class=\"dataframe\">\n  <thead>\n    <tr style=\"text-align: right;\">\n      <th></th>\n      <th>id</th>\n      <th>code</th>\n      <th>iso2code</th>\n      <th>name</th>\n    </tr>\n  </thead>\n  <tbody>\n    <tr>\n      <th>0</th>\n      <td>NaN</td>\n      <td>AFE</td>\n      <td>ZH</td>\n      <td>Africa Eastern and Southern</td>\n    </tr>\n    <tr>\n      <th>1</th>\n      <td>NaN</td>\n      <td>AFR</td>\n      <td>A9</td>\n      <td>Africa</td>\n    </tr>\n    <tr>\n      <th>2</th>\n      <td>NaN</td>\n      <td>AFW</td>\n      <td>ZI</td>\n      <td>Africa Western and Central</td>\n    </tr>\n    <tr>\n      <th>3</th>\n      <td>NaN</td>\n      <td>ARB</td>\n      <td>1A</td>\n      <td>Arab World</td>\n    </tr>\n    <tr>\n      <th>4</th>\n      <td>NaN</td>\n      <td>CAA</td>\n      <td>C9</td>\n      <td>Sub-Saharan Africa (IFC classification)</td>\n    </tr>\n  </tbody>\n</table>\n</div>"
     },
     "execution_count": 5,
     "metadata": {},
     "output_type": "execute_result"
    }
   ],
   "source": [
    "regions.head()"
   ],
   "metadata": {
    "collapsed": false
   }
  },
  {
   "cell_type": "code",
   "execution_count": 9,
   "outputs": [
    {
     "name": "stdout",
     "output_type": "stream",
     "text": [
      "<class 'pandas.core.frame.DataFrame'>\n",
      "RangeIndex: 44 entries, 0 to 43\n",
      "Data columns (total 4 columns):\n",
      " #   Column    Non-Null Count  Dtype  \n",
      "---  ------    --------------  -----  \n",
      " 0   id        7 non-null      float64\n",
      " 1   code      44 non-null     object \n",
      " 2   iso2code  44 non-null     object \n",
      " 3   name      44 non-null     object \n",
      "dtypes: float64(1), object(3)\n",
      "memory usage: 1.5+ KB\n"
     ]
    }
   ],
   "source": [
    "regions.info()"
   ],
   "metadata": {
    "collapsed": false
   }
  },
  {
   "cell_type": "code",
   "execution_count": 6,
   "outputs": [
    {
     "data": {
      "text/plain": "name                                                 \nAfrica                                                   1\nAfrica Eastern and Southern                              1\nMiddle East (developing only)                            1\nMiddle East and North Africa (IFC classification)        1\nNon-resource rich Sub-Saharan Africa countries           1\nNorth Africa                                             1\nNorth America                                            1\nOECD members                                             1\nOther small states                                       1\nPacific island small states                              1\nPost-demographic dividend                                1\nPre-demographic dividend                                 1\nResource rich Sub-Saharan Africa countries               1\nSmall states                                             1\nSouth Asia                                               1\nSouth Asia (IFC classification)                          1\nSub-Saharan Africa                                       1\nSub-Saharan Africa (IFC classification)                  1\nSub-Saharan Africa (excluding high income)               1\nSub-Saharan Africa excluding South Africa                1\nSub-Saharan Africa excluding South Africa and Nigeria    1\nMiddle East & North Africa (excluding high income)       1\nMiddle East & North Africa                               1\nLeast developed countries: UN classification             1\nEuro area                                                1\nAfrica Western and Central                               1\nArab World                                               1\nCaribbean small states                                   1\nCentral Europe and the Baltics                           1\nEarly-demographic dividend                               1\nEast Asia & Pacific                                      1\nEast Asia & Pacific (excluding high income)              1\nEast Asia and the Pacific (IFC classification)           1\nEurope & Central Asia                                    1\nLatin America and the Caribbean (IFC classification)     1\nEurope & Central Asia (excluding high income)            1\nEurope and Central Asia (IFC classification)             1\nEuropean Union                                           1\nFragile and conflict affected situations                 1\nHeavily indebted poor countries (HIPC)                   1\nLate-demographic dividend                                1\nLatin America & Caribbean                                1\nLatin America & Caribbean (excluding high income)        1\nWorld                                                    1\ndtype: int64"
     },
     "execution_count": 6,
     "metadata": {},
     "output_type": "execute_result"
    }
   ],
   "source": [
    "regions.value_counts(subset=[\"name\"])"
   ],
   "metadata": {
    "collapsed": false
   }
  },
  {
   "cell_type": "code",
   "execution_count": 6,
   "outputs": [
    {
     "name": "stderr",
     "output_type": "stream",
     "text": [
      "/tmp/ipykernel_17748/4275599094.py:2: DtypeWarning: Columns (12) have mixed types. Specify dtype option on import or set low_memory=False.\n",
      "  eia_regions = pd.read_csv(\n"
     ]
    }
   ],
   "source": [
    "path = \"../../data/_raw/eia/eia_api_intl_region.csv\"\n",
    "eia_regions = pd.read_csv(\n",
    "    path,\n",
    "    sep=\",\"\n",
    ")"
   ],
   "metadata": {
    "collapsed": false
   }
  },
  {
   "cell_type": "code",
   "execution_count": 7,
   "outputs": [
    {
     "data": {
      "text/plain": "   period  productId         productName  activityId activityName  \\\n0    1981        130  Metallurgical coal           1   Production   \n1    1988        119       Subbituminous           1   Production   \n2    2005         14             Lignite           1   Production   \n3    1988         14             Lignite           1   Production   \n4    2002         12          Bituminous           1   Production   \n5    1992        119       Subbituminous           1   Production   \n6    1998         11          Anthracite           1   Production   \n7    1988        119       Subbituminous           1   Production   \n8    1995          7                Coal           1   Production   \n9    1991         12          Bituminous           1   Production   \n\n  countryRegionId        countryRegionName countryRegionTypeId  \\\n0            ASOC           Asia & Oceania                   r   \n1            OPAF            OPEC - Africa                   r   \n2            ASOC           Asia & Oceania                   r   \n3            CSAM  Central & South America                   r   \n4            WP27            United States                   r   \n5            OPAF            OPEC - Africa                   r   \n6            WP12             IEO - Africa                   r   \n7            OPAF            OPEC - Africa                   r   \n8            OENA     OECD - North America                   r   \n9            ASOC           Asia & Oceania                   r   \n\n  countryRegionTypeName  dataFlagId dataFlagDescription  \\\n0                Region         NaN                 NaN   \n1                Region         NaN                 NaN   \n2                Region         NaN                 NaN   \n3                Region         NaN                 NaN   \n4                Region         NaN                 NaN   \n5                Region         NaN                 NaN   \n6                Region         NaN                 NaN   \n7                Region         NaN                 NaN   \n8                Region         NaN                 NaN   \n9                Region         NaN                 NaN   \n\n                                unitName               value  unit  \n0                       1000 metric tons  181597.13485933334    MT  \n1                             terajoules                   0    TJ  \n2  million metric tons of oil equivalent   81.28356862422736  MTOE  \n3  million metric tons of oil equivalent   1.010036088437365  MTOE  \n4                       1000 metric tons  480214.37788395333    MT  \n5                        quadrillion Btu                   0  QBTU  \n6                             terajoules   50817.58546659987    TJ  \n7                    thousand short tons                   0   TST  \n8                       1000 metric tons  1021781.5966415423    MT  \n9                             terajoules  18930326.784256585    TJ  ",
      "text/html": "<div>\n<style scoped>\n    .dataframe tbody tr th:only-of-type {\n        vertical-align: middle;\n    }\n\n    .dataframe tbody tr th {\n        vertical-align: top;\n    }\n\n    .dataframe thead th {\n        text-align: right;\n    }\n</style>\n<table border=\"1\" class=\"dataframe\">\n  <thead>\n    <tr style=\"text-align: right;\">\n      <th></th>\n      <th>period</th>\n      <th>productId</th>\n      <th>productName</th>\n      <th>activityId</th>\n      <th>activityName</th>\n      <th>countryRegionId</th>\n      <th>countryRegionName</th>\n      <th>countryRegionTypeId</th>\n      <th>countryRegionTypeName</th>\n      <th>dataFlagId</th>\n      <th>dataFlagDescription</th>\n      <th>unitName</th>\n      <th>value</th>\n      <th>unit</th>\n    </tr>\n  </thead>\n  <tbody>\n    <tr>\n      <th>0</th>\n      <td>1981</td>\n      <td>130</td>\n      <td>Metallurgical coal</td>\n      <td>1</td>\n      <td>Production</td>\n      <td>ASOC</td>\n      <td>Asia &amp; Oceania</td>\n      <td>r</td>\n      <td>Region</td>\n      <td>NaN</td>\n      <td>NaN</td>\n      <td>1000 metric tons</td>\n      <td>181597.13485933334</td>\n      <td>MT</td>\n    </tr>\n    <tr>\n      <th>1</th>\n      <td>1988</td>\n      <td>119</td>\n      <td>Subbituminous</td>\n      <td>1</td>\n      <td>Production</td>\n      <td>OPAF</td>\n      <td>OPEC - Africa</td>\n      <td>r</td>\n      <td>Region</td>\n      <td>NaN</td>\n      <td>NaN</td>\n      <td>terajoules</td>\n      <td>0</td>\n      <td>TJ</td>\n    </tr>\n    <tr>\n      <th>2</th>\n      <td>2005</td>\n      <td>14</td>\n      <td>Lignite</td>\n      <td>1</td>\n      <td>Production</td>\n      <td>ASOC</td>\n      <td>Asia &amp; Oceania</td>\n      <td>r</td>\n      <td>Region</td>\n      <td>NaN</td>\n      <td>NaN</td>\n      <td>million metric tons of oil equivalent</td>\n      <td>81.28356862422736</td>\n      <td>MTOE</td>\n    </tr>\n    <tr>\n      <th>3</th>\n      <td>1988</td>\n      <td>14</td>\n      <td>Lignite</td>\n      <td>1</td>\n      <td>Production</td>\n      <td>CSAM</td>\n      <td>Central &amp; South America</td>\n      <td>r</td>\n      <td>Region</td>\n      <td>NaN</td>\n      <td>NaN</td>\n      <td>million metric tons of oil equivalent</td>\n      <td>1.010036088437365</td>\n      <td>MTOE</td>\n    </tr>\n    <tr>\n      <th>4</th>\n      <td>2002</td>\n      <td>12</td>\n      <td>Bituminous</td>\n      <td>1</td>\n      <td>Production</td>\n      <td>WP27</td>\n      <td>United States</td>\n      <td>r</td>\n      <td>Region</td>\n      <td>NaN</td>\n      <td>NaN</td>\n      <td>1000 metric tons</td>\n      <td>480214.37788395333</td>\n      <td>MT</td>\n    </tr>\n    <tr>\n      <th>5</th>\n      <td>1992</td>\n      <td>119</td>\n      <td>Subbituminous</td>\n      <td>1</td>\n      <td>Production</td>\n      <td>OPAF</td>\n      <td>OPEC - Africa</td>\n      <td>r</td>\n      <td>Region</td>\n      <td>NaN</td>\n      <td>NaN</td>\n      <td>quadrillion Btu</td>\n      <td>0</td>\n      <td>QBTU</td>\n    </tr>\n    <tr>\n      <th>6</th>\n      <td>1998</td>\n      <td>11</td>\n      <td>Anthracite</td>\n      <td>1</td>\n      <td>Production</td>\n      <td>WP12</td>\n      <td>IEO - Africa</td>\n      <td>r</td>\n      <td>Region</td>\n      <td>NaN</td>\n      <td>NaN</td>\n      <td>terajoules</td>\n      <td>50817.58546659987</td>\n      <td>TJ</td>\n    </tr>\n    <tr>\n      <th>7</th>\n      <td>1988</td>\n      <td>119</td>\n      <td>Subbituminous</td>\n      <td>1</td>\n      <td>Production</td>\n      <td>OPAF</td>\n      <td>OPEC - Africa</td>\n      <td>r</td>\n      <td>Region</td>\n      <td>NaN</td>\n      <td>NaN</td>\n      <td>thousand short tons</td>\n      <td>0</td>\n      <td>TST</td>\n    </tr>\n    <tr>\n      <th>8</th>\n      <td>1995</td>\n      <td>7</td>\n      <td>Coal</td>\n      <td>1</td>\n      <td>Production</td>\n      <td>OENA</td>\n      <td>OECD - North America</td>\n      <td>r</td>\n      <td>Region</td>\n      <td>NaN</td>\n      <td>NaN</td>\n      <td>1000 metric tons</td>\n      <td>1021781.5966415423</td>\n      <td>MT</td>\n    </tr>\n    <tr>\n      <th>9</th>\n      <td>1991</td>\n      <td>12</td>\n      <td>Bituminous</td>\n      <td>1</td>\n      <td>Production</td>\n      <td>ASOC</td>\n      <td>Asia &amp; Oceania</td>\n      <td>r</td>\n      <td>Region</td>\n      <td>NaN</td>\n      <td>NaN</td>\n      <td>terajoules</td>\n      <td>18930326.784256585</td>\n      <td>TJ</td>\n    </tr>\n  </tbody>\n</table>\n</div>"
     },
     "execution_count": 7,
     "metadata": {},
     "output_type": "execute_result"
    }
   ],
   "source": [
    "eia_regions.head(10)"
   ],
   "metadata": {
    "collapsed": false
   }
  },
  {
   "cell_type": "code",
   "execution_count": 12,
   "outputs": [
    {
     "data": {
      "text/plain": "countryRegionName                     \nAfrica                                    15833\nAsia & Oceania                            16111\nAustralia and New Zealand                 15324\nBrazil                                    14031\nCanada                                    14558\nCentral & South America                   15524\nChina                                     12843\nEurasia                                   14912\nEurope                                    16024\nEuropean Union                            16188\nIEO - Africa                              13770\nIEO - Middle East                         14085\nIEO OECD - Europe                         13640\nIndia                                     15467\nJapan                                     15006\nMexico, Chile, and other OECD Americas    15605\nMiddle East                               15105\nNon-OECD                                  14576\nNon-OPEC                                  15857\nNorth America                             15395\nOECD                                      14776\nOECD - Asia And Oceania                   14983\nOECD - Europe                             15082\nOECD - North America                      14816\nOPEC                                      15805\nOPEC - Africa                             14172\nOPEC - South America                      15014\nOther Non-OECD - America                  15455\nOther Non-OECD - Asia                     15293\nOther Non-OECD - Europe and Eurasia       16147\nPersian Gulf                              15048\nRussia                                    11104\nSouth Korea and other OECD Asia           14757\nUnited States                             14144\nWorld                                     15596\ndtype: int64"
     },
     "execution_count": 12,
     "metadata": {},
     "output_type": "execute_result"
    }
   ],
   "source": [
    "eia_regions.value_counts(subset=[\"countryRegionName\"]).sort_index()"
   ],
   "metadata": {
    "collapsed": false
   }
  },
  {
   "cell_type": "code",
   "execution_count": 13,
   "outputs": [
    {
     "data": {
      "text/plain": "   period  productId         productName  activityId activityName  \\\n0    1981        130  Metallurgical coal           1   Production   \n1    1988        119       Subbituminous           1   Production   \n2    2005         14             Lignite           1   Production   \n3    1988         14             Lignite           1   Production   \n4    2002         12          Bituminous           1   Production   \n5    1992        119       Subbituminous           1   Production   \n6    1998         11          Anthracite           1   Production   \n7    1988        119       Subbituminous           1   Production   \n8    1995          7                Coal           1   Production   \n9    1991         12          Bituminous           1   Production   \n\n  countryRegionId        countryRegionName countryRegionTypeId  \\\n0            ASOC           Asia & Oceania                   r   \n1            OPAF            OPEC - Africa                   r   \n2            ASOC           Asia & Oceania                   r   \n3            CSAM  Central & South America                   r   \n4            WP27            United States                   r   \n5            OPAF            OPEC - Africa                   r   \n6            WP12             IEO - Africa                   r   \n7            OPAF            OPEC - Africa                   r   \n8            OENA     OECD - North America                   r   \n9            ASOC           Asia & Oceania                   r   \n\n  countryRegionTypeName  dataFlagId dataFlagDescription  \\\n0                Region         NaN                 NaN   \n1                Region         NaN                 NaN   \n2                Region         NaN                 NaN   \n3                Region         NaN                 NaN   \n4                Region         NaN                 NaN   \n5                Region         NaN                 NaN   \n6                Region         NaN                 NaN   \n7                Region         NaN                 NaN   \n8                Region         NaN                 NaN   \n9                Region         NaN                 NaN   \n\n                                unitName               value  unit  \n0                       1000 metric tons  181597.13485933334    MT  \n1                             terajoules                   0    TJ  \n2  million metric tons of oil equivalent   81.28356862422736  MTOE  \n3  million metric tons of oil equivalent   1.010036088437365  MTOE  \n4                       1000 metric tons  480214.37788395333    MT  \n5                        quadrillion Btu                   0  QBTU  \n6                             terajoules   50817.58546659987    TJ  \n7                    thousand short tons                   0   TST  \n8                       1000 metric tons  1021781.5966415423    MT  \n9                             terajoules  18930326.784256585    TJ  ",
      "text/html": "<div>\n<style scoped>\n    .dataframe tbody tr th:only-of-type {\n        vertical-align: middle;\n    }\n\n    .dataframe tbody tr th {\n        vertical-align: top;\n    }\n\n    .dataframe thead th {\n        text-align: right;\n    }\n</style>\n<table border=\"1\" class=\"dataframe\">\n  <thead>\n    <tr style=\"text-align: right;\">\n      <th></th>\n      <th>period</th>\n      <th>productId</th>\n      <th>productName</th>\n      <th>activityId</th>\n      <th>activityName</th>\n      <th>countryRegionId</th>\n      <th>countryRegionName</th>\n      <th>countryRegionTypeId</th>\n      <th>countryRegionTypeName</th>\n      <th>dataFlagId</th>\n      <th>dataFlagDescription</th>\n      <th>unitName</th>\n      <th>value</th>\n      <th>unit</th>\n    </tr>\n  </thead>\n  <tbody>\n    <tr>\n      <th>0</th>\n      <td>1981</td>\n      <td>130</td>\n      <td>Metallurgical coal</td>\n      <td>1</td>\n      <td>Production</td>\n      <td>ASOC</td>\n      <td>Asia &amp; Oceania</td>\n      <td>r</td>\n      <td>Region</td>\n      <td>NaN</td>\n      <td>NaN</td>\n      <td>1000 metric tons</td>\n      <td>181597.13485933334</td>\n      <td>MT</td>\n    </tr>\n    <tr>\n      <th>1</th>\n      <td>1988</td>\n      <td>119</td>\n      <td>Subbituminous</td>\n      <td>1</td>\n      <td>Production</td>\n      <td>OPAF</td>\n      <td>OPEC - Africa</td>\n      <td>r</td>\n      <td>Region</td>\n      <td>NaN</td>\n      <td>NaN</td>\n      <td>terajoules</td>\n      <td>0</td>\n      <td>TJ</td>\n    </tr>\n    <tr>\n      <th>2</th>\n      <td>2005</td>\n      <td>14</td>\n      <td>Lignite</td>\n      <td>1</td>\n      <td>Production</td>\n      <td>ASOC</td>\n      <td>Asia &amp; Oceania</td>\n      <td>r</td>\n      <td>Region</td>\n      <td>NaN</td>\n      <td>NaN</td>\n      <td>million metric tons of oil equivalent</td>\n      <td>81.28356862422736</td>\n      <td>MTOE</td>\n    </tr>\n    <tr>\n      <th>3</th>\n      <td>1988</td>\n      <td>14</td>\n      <td>Lignite</td>\n      <td>1</td>\n      <td>Production</td>\n      <td>CSAM</td>\n      <td>Central &amp; South America</td>\n      <td>r</td>\n      <td>Region</td>\n      <td>NaN</td>\n      <td>NaN</td>\n      <td>million metric tons of oil equivalent</td>\n      <td>1.010036088437365</td>\n      <td>MTOE</td>\n    </tr>\n    <tr>\n      <th>4</th>\n      <td>2002</td>\n      <td>12</td>\n      <td>Bituminous</td>\n      <td>1</td>\n      <td>Production</td>\n      <td>WP27</td>\n      <td>United States</td>\n      <td>r</td>\n      <td>Region</td>\n      <td>NaN</td>\n      <td>NaN</td>\n      <td>1000 metric tons</td>\n      <td>480214.37788395333</td>\n      <td>MT</td>\n    </tr>\n    <tr>\n      <th>5</th>\n      <td>1992</td>\n      <td>119</td>\n      <td>Subbituminous</td>\n      <td>1</td>\n      <td>Production</td>\n      <td>OPAF</td>\n      <td>OPEC - Africa</td>\n      <td>r</td>\n      <td>Region</td>\n      <td>NaN</td>\n      <td>NaN</td>\n      <td>quadrillion Btu</td>\n      <td>0</td>\n      <td>QBTU</td>\n    </tr>\n    <tr>\n      <th>6</th>\n      <td>1998</td>\n      <td>11</td>\n      <td>Anthracite</td>\n      <td>1</td>\n      <td>Production</td>\n      <td>WP12</td>\n      <td>IEO - Africa</td>\n      <td>r</td>\n      <td>Region</td>\n      <td>NaN</td>\n      <td>NaN</td>\n      <td>terajoules</td>\n      <td>50817.58546659987</td>\n      <td>TJ</td>\n    </tr>\n    <tr>\n      <th>7</th>\n      <td>1988</td>\n      <td>119</td>\n      <td>Subbituminous</td>\n      <td>1</td>\n      <td>Production</td>\n      <td>OPAF</td>\n      <td>OPEC - Africa</td>\n      <td>r</td>\n      <td>Region</td>\n      <td>NaN</td>\n      <td>NaN</td>\n      <td>thousand short tons</td>\n      <td>0</td>\n      <td>TST</td>\n    </tr>\n    <tr>\n      <th>8</th>\n      <td>1995</td>\n      <td>7</td>\n      <td>Coal</td>\n      <td>1</td>\n      <td>Production</td>\n      <td>OENA</td>\n      <td>OECD - North America</td>\n      <td>r</td>\n      <td>Region</td>\n      <td>NaN</td>\n      <td>NaN</td>\n      <td>1000 metric tons</td>\n      <td>1021781.5966415423</td>\n      <td>MT</td>\n    </tr>\n    <tr>\n      <th>9</th>\n      <td>1991</td>\n      <td>12</td>\n      <td>Bituminous</td>\n      <td>1</td>\n      <td>Production</td>\n      <td>ASOC</td>\n      <td>Asia &amp; Oceania</td>\n      <td>r</td>\n      <td>Region</td>\n      <td>NaN</td>\n      <td>NaN</td>\n      <td>terajoules</td>\n      <td>18930326.784256585</td>\n      <td>TJ</td>\n    </tr>\n  </tbody>\n</table>\n</div>"
     },
     "execution_count": 13,
     "metadata": {},
     "output_type": "execute_result"
    }
   ],
   "source": [
    "eia_regions.head(10)"
   ],
   "metadata": {
    "collapsed": false
   }
  },
  {
   "cell_type": "code",
   "execution_count": 8,
   "outputs": [],
   "source": [
    "path = \"../../data/_raw/eia/eia_api_ieo_world.csv\"\n",
    "eia_world = pd.read_csv(\n",
    "    path,\n",
    "    sep=\",\"\n",
    ")"
   ],
   "metadata": {
    "collapsed": false
   }
  },
  {
   "cell_type": "code",
   "execution_count": 9,
   "outputs": [
    {
     "data": {
      "text/plain": "   period     history   scenario   scenarioDescription  tableId  \\\n0    2050  PROJECTION  HighMacro  High economic growth       15   \n1    2050  PROJECTION  Reference             Reference       80   \n2    2050  PROJECTION  Reference             Reference       80   \n3    2050  PROJECTION  Reference             Reference       80   \n4    2050  PROJECTION  Reference             Reference       80   \n5    2050  PROJECTION  Reference             Reference       80   \n6    2050  PROJECTION  Reference             Reference       80   \n7    2050  PROJECTION  Reference             Reference       76   \n8    2050  PROJECTION  Reference             Reference       76   \n9    2050  PROJECTION  Reference             Reference       76   \n\n                              tableName                    seriesId  \\\n0     Gross output by region and sector  go_summary_afr_nm_b2015dol   \n1  World thermal coal exports by region     sup_clp_exp_stm_chi_mst   \n2  World thermal coal exports by region     sup_clp_exp_stm_ura_mst   \n3  World thermal coal exports by region     sup_clp_exp_stm_rus_mst   \n4  World thermal coal exports by region     sup_clp_exp__stmooo_mst   \n5  World thermal coal exports by region     sup_clp_exp_stm_anz_mst   \n6  World thermal coal exports by region     sup_clp_exp_stm_sko_mst   \n7    World total coal imports by region         sup_clp_imp_oas_mst   \n8    World total coal imports by region         sup_clp_imp_ind_mst   \n9    World total coal imports by region         sup_clp_imp_chi_mst   \n\n                                          seriesName regionId  \\\n0                   Gross output : Non-OECD : Africa      0-0   \n1  Thermal coal exports : Non-OECD : Non-OECD Asi...      0-0   \n2  Thermal coal exports : Non-OECD : Non-OECD Eur...      0-0   \n3  Thermal coal exports : Non-OECD : Non-OECD Eur...      0-0   \n4           Thermal coal exports : OECD : Total OECD      0-0   \n5  Thermal coal exports : OECD : OECD Asia : Aust...      0-0   \n6  Thermal coal exports : OECD : OECD Asia : Sout...      0-0   \n7    Coal imports : Non-OECD : Non-OECD Asia : Other      0-0   \n8    Coal imports : Non-OECD : Non-OECD Asia : India      0-0   \n9    Coal imports : Non-OECD : Non-OECD Asia : China      0-0   \n\n           regionName      value                  unit  \n0  No Regional Tables  7972.0825  billion 2015 dollars  \n1  No Regional Tables     0.0000    million short tons  \n2  No Regional Tables     0.0000    million short tons  \n3  No Regional Tables   140.7017    million short tons  \n4  No Regional Tables   468.3175    million short tons  \n5  No Regional Tables   288.5819    million short tons  \n6  No Regional Tables     0.0000    million short tons  \n7  No Regional Tables   249.6458    million short tons  \n8  No Regional Tables   622.5311    million short tons  \n9  No Regional Tables   124.4832    million short tons  ",
      "text/html": "<div>\n<style scoped>\n    .dataframe tbody tr th:only-of-type {\n        vertical-align: middle;\n    }\n\n    .dataframe tbody tr th {\n        vertical-align: top;\n    }\n\n    .dataframe thead th {\n        text-align: right;\n    }\n</style>\n<table border=\"1\" class=\"dataframe\">\n  <thead>\n    <tr style=\"text-align: right;\">\n      <th></th>\n      <th>period</th>\n      <th>history</th>\n      <th>scenario</th>\n      <th>scenarioDescription</th>\n      <th>tableId</th>\n      <th>tableName</th>\n      <th>seriesId</th>\n      <th>seriesName</th>\n      <th>regionId</th>\n      <th>regionName</th>\n      <th>value</th>\n      <th>unit</th>\n    </tr>\n  </thead>\n  <tbody>\n    <tr>\n      <th>0</th>\n      <td>2050</td>\n      <td>PROJECTION</td>\n      <td>HighMacro</td>\n      <td>High economic growth</td>\n      <td>15</td>\n      <td>Gross output by region and sector</td>\n      <td>go_summary_afr_nm_b2015dol</td>\n      <td>Gross output : Non-OECD : Africa</td>\n      <td>0-0</td>\n      <td>No Regional Tables</td>\n      <td>7972.0825</td>\n      <td>billion 2015 dollars</td>\n    </tr>\n    <tr>\n      <th>1</th>\n      <td>2050</td>\n      <td>PROJECTION</td>\n      <td>Reference</td>\n      <td>Reference</td>\n      <td>80</td>\n      <td>World thermal coal exports by region</td>\n      <td>sup_clp_exp_stm_chi_mst</td>\n      <td>Thermal coal exports : Non-OECD : Non-OECD Asi...</td>\n      <td>0-0</td>\n      <td>No Regional Tables</td>\n      <td>0.0000</td>\n      <td>million short tons</td>\n    </tr>\n    <tr>\n      <th>2</th>\n      <td>2050</td>\n      <td>PROJECTION</td>\n      <td>Reference</td>\n      <td>Reference</td>\n      <td>80</td>\n      <td>World thermal coal exports by region</td>\n      <td>sup_clp_exp_stm_ura_mst</td>\n      <td>Thermal coal exports : Non-OECD : Non-OECD Eur...</td>\n      <td>0-0</td>\n      <td>No Regional Tables</td>\n      <td>0.0000</td>\n      <td>million short tons</td>\n    </tr>\n    <tr>\n      <th>3</th>\n      <td>2050</td>\n      <td>PROJECTION</td>\n      <td>Reference</td>\n      <td>Reference</td>\n      <td>80</td>\n      <td>World thermal coal exports by region</td>\n      <td>sup_clp_exp_stm_rus_mst</td>\n      <td>Thermal coal exports : Non-OECD : Non-OECD Eur...</td>\n      <td>0-0</td>\n      <td>No Regional Tables</td>\n      <td>140.7017</td>\n      <td>million short tons</td>\n    </tr>\n    <tr>\n      <th>4</th>\n      <td>2050</td>\n      <td>PROJECTION</td>\n      <td>Reference</td>\n      <td>Reference</td>\n      <td>80</td>\n      <td>World thermal coal exports by region</td>\n      <td>sup_clp_exp__stmooo_mst</td>\n      <td>Thermal coal exports : OECD : Total OECD</td>\n      <td>0-0</td>\n      <td>No Regional Tables</td>\n      <td>468.3175</td>\n      <td>million short tons</td>\n    </tr>\n    <tr>\n      <th>5</th>\n      <td>2050</td>\n      <td>PROJECTION</td>\n      <td>Reference</td>\n      <td>Reference</td>\n      <td>80</td>\n      <td>World thermal coal exports by region</td>\n      <td>sup_clp_exp_stm_anz_mst</td>\n      <td>Thermal coal exports : OECD : OECD Asia : Aust...</td>\n      <td>0-0</td>\n      <td>No Regional Tables</td>\n      <td>288.5819</td>\n      <td>million short tons</td>\n    </tr>\n    <tr>\n      <th>6</th>\n      <td>2050</td>\n      <td>PROJECTION</td>\n      <td>Reference</td>\n      <td>Reference</td>\n      <td>80</td>\n      <td>World thermal coal exports by region</td>\n      <td>sup_clp_exp_stm_sko_mst</td>\n      <td>Thermal coal exports : OECD : OECD Asia : Sout...</td>\n      <td>0-0</td>\n      <td>No Regional Tables</td>\n      <td>0.0000</td>\n      <td>million short tons</td>\n    </tr>\n    <tr>\n      <th>7</th>\n      <td>2050</td>\n      <td>PROJECTION</td>\n      <td>Reference</td>\n      <td>Reference</td>\n      <td>76</td>\n      <td>World total coal imports by region</td>\n      <td>sup_clp_imp_oas_mst</td>\n      <td>Coal imports : Non-OECD : Non-OECD Asia : Other</td>\n      <td>0-0</td>\n      <td>No Regional Tables</td>\n      <td>249.6458</td>\n      <td>million short tons</td>\n    </tr>\n    <tr>\n      <th>8</th>\n      <td>2050</td>\n      <td>PROJECTION</td>\n      <td>Reference</td>\n      <td>Reference</td>\n      <td>76</td>\n      <td>World total coal imports by region</td>\n      <td>sup_clp_imp_ind_mst</td>\n      <td>Coal imports : Non-OECD : Non-OECD Asia : India</td>\n      <td>0-0</td>\n      <td>No Regional Tables</td>\n      <td>622.5311</td>\n      <td>million short tons</td>\n    </tr>\n    <tr>\n      <th>9</th>\n      <td>2050</td>\n      <td>PROJECTION</td>\n      <td>Reference</td>\n      <td>Reference</td>\n      <td>76</td>\n      <td>World total coal imports by region</td>\n      <td>sup_clp_imp_chi_mst</td>\n      <td>Coal imports : Non-OECD : Non-OECD Asia : China</td>\n      <td>0-0</td>\n      <td>No Regional Tables</td>\n      <td>124.4832</td>\n      <td>million short tons</td>\n    </tr>\n  </tbody>\n</table>\n</div>"
     },
     "execution_count": 9,
     "metadata": {},
     "output_type": "execute_result"
    }
   ],
   "source": [
    "eia_world.head(10)"
   ],
   "metadata": {
    "collapsed": false
   }
  },
  {
   "cell_type": "code",
   "execution_count": 10,
   "outputs": [],
   "source": [
    "path = \"../../data/_raw/ember/ember_file_elec_review_global_year.csv\"\n",
    "ember_electricity_year = pd.read_csv(\n",
    "    path,\n",
    "    sep=\",\"\n",
    ")"
   ],
   "metadata": {
    "collapsed": false
   }
  },
  {
   "cell_type": "code",
   "execution_count": 11,
   "outputs": [
    {
     "data": {
      "text/plain": "          Area Country code  Year Area type Ember region  \\\n0  Afghanistan          AFG  2000   Country         Asia   \n1  Afghanistan          AFG  2000   Country         Asia   \n2  Afghanistan          AFG  2000   Country         Asia   \n3  Afghanistan          AFG  2000   Country         Asia   \n4  Afghanistan          AFG  2000   Country         Asia   \n5  Afghanistan          AFG  2000   Country         Asia   \n6  Afghanistan          AFG  2000   Country         Asia   \n7  Afghanistan          AFG  2000   Country         Asia   \n8  Afghanistan          AFG  2000   Country         Asia   \n9  Afghanistan          AFG  2000   Country         Asia   \n\n                 Category        Subcategory  \\\n0      Electricity demand             Demand   \n1      Electricity demand  Demand per capita   \n2  Electricity generation     Aggregate fuel   \n3  Electricity generation     Aggregate fuel   \n4  Electricity generation     Aggregate fuel   \n5  Electricity generation     Aggregate fuel   \n6  Electricity generation     Aggregate fuel   \n7  Electricity generation     Aggregate fuel   \n8  Electricity generation     Aggregate fuel   \n9  Electricity generation     Aggregate fuel   \n\n                                Variable Unit  Value  YoY absolute change  \\\n0                                 Demand  TWh   0.57                  NaN   \n1                      Demand per capita  MWh   0.03                  NaN   \n2                                  Clean    %  65.96                  NaN   \n3                                 Fossil    %  34.04                  NaN   \n4  Hydro, bioenergy and other renewables    %  65.96                  NaN   \n5                             Renewables    %  65.96                  NaN   \n6                         Wind and solar    %   0.00                  NaN   \n7                                  Clean  TWh   0.31                 0.01   \n8                                 Fossil  TWh   0.16                  NaN   \n9  Hydro, bioenergy and other renewables  TWh   0.31                 0.01   \n\n   YoY % change  \n0           NaN  \n1           NaN  \n2           NaN  \n3           NaN  \n4           NaN  \n5           NaN  \n6           NaN  \n7          3.33  \n8           NaN  \n9          3.33  ",
      "text/html": "<div>\n<style scoped>\n    .dataframe tbody tr th:only-of-type {\n        vertical-align: middle;\n    }\n\n    .dataframe tbody tr th {\n        vertical-align: top;\n    }\n\n    .dataframe thead th {\n        text-align: right;\n    }\n</style>\n<table border=\"1\" class=\"dataframe\">\n  <thead>\n    <tr style=\"text-align: right;\">\n      <th></th>\n      <th>Area</th>\n      <th>Country code</th>\n      <th>Year</th>\n      <th>Area type</th>\n      <th>Ember region</th>\n      <th>Category</th>\n      <th>Subcategory</th>\n      <th>Variable</th>\n      <th>Unit</th>\n      <th>Value</th>\n      <th>YoY absolute change</th>\n      <th>YoY % change</th>\n    </tr>\n  </thead>\n  <tbody>\n    <tr>\n      <th>0</th>\n      <td>Afghanistan</td>\n      <td>AFG</td>\n      <td>2000</td>\n      <td>Country</td>\n      <td>Asia</td>\n      <td>Electricity demand</td>\n      <td>Demand</td>\n      <td>Demand</td>\n      <td>TWh</td>\n      <td>0.57</td>\n      <td>NaN</td>\n      <td>NaN</td>\n    </tr>\n    <tr>\n      <th>1</th>\n      <td>Afghanistan</td>\n      <td>AFG</td>\n      <td>2000</td>\n      <td>Country</td>\n      <td>Asia</td>\n      <td>Electricity demand</td>\n      <td>Demand per capita</td>\n      <td>Demand per capita</td>\n      <td>MWh</td>\n      <td>0.03</td>\n      <td>NaN</td>\n      <td>NaN</td>\n    </tr>\n    <tr>\n      <th>2</th>\n      <td>Afghanistan</td>\n      <td>AFG</td>\n      <td>2000</td>\n      <td>Country</td>\n      <td>Asia</td>\n      <td>Electricity generation</td>\n      <td>Aggregate fuel</td>\n      <td>Clean</td>\n      <td>%</td>\n      <td>65.96</td>\n      <td>NaN</td>\n      <td>NaN</td>\n    </tr>\n    <tr>\n      <th>3</th>\n      <td>Afghanistan</td>\n      <td>AFG</td>\n      <td>2000</td>\n      <td>Country</td>\n      <td>Asia</td>\n      <td>Electricity generation</td>\n      <td>Aggregate fuel</td>\n      <td>Fossil</td>\n      <td>%</td>\n      <td>34.04</td>\n      <td>NaN</td>\n      <td>NaN</td>\n    </tr>\n    <tr>\n      <th>4</th>\n      <td>Afghanistan</td>\n      <td>AFG</td>\n      <td>2000</td>\n      <td>Country</td>\n      <td>Asia</td>\n      <td>Electricity generation</td>\n      <td>Aggregate fuel</td>\n      <td>Hydro, bioenergy and other renewables</td>\n      <td>%</td>\n      <td>65.96</td>\n      <td>NaN</td>\n      <td>NaN</td>\n    </tr>\n    <tr>\n      <th>5</th>\n      <td>Afghanistan</td>\n      <td>AFG</td>\n      <td>2000</td>\n      <td>Country</td>\n      <td>Asia</td>\n      <td>Electricity generation</td>\n      <td>Aggregate fuel</td>\n      <td>Renewables</td>\n      <td>%</td>\n      <td>65.96</td>\n      <td>NaN</td>\n      <td>NaN</td>\n    </tr>\n    <tr>\n      <th>6</th>\n      <td>Afghanistan</td>\n      <td>AFG</td>\n      <td>2000</td>\n      <td>Country</td>\n      <td>Asia</td>\n      <td>Electricity generation</td>\n      <td>Aggregate fuel</td>\n      <td>Wind and solar</td>\n      <td>%</td>\n      <td>0.00</td>\n      <td>NaN</td>\n      <td>NaN</td>\n    </tr>\n    <tr>\n      <th>7</th>\n      <td>Afghanistan</td>\n      <td>AFG</td>\n      <td>2000</td>\n      <td>Country</td>\n      <td>Asia</td>\n      <td>Electricity generation</td>\n      <td>Aggregate fuel</td>\n      <td>Clean</td>\n      <td>TWh</td>\n      <td>0.31</td>\n      <td>0.01</td>\n      <td>3.33</td>\n    </tr>\n    <tr>\n      <th>8</th>\n      <td>Afghanistan</td>\n      <td>AFG</td>\n      <td>2000</td>\n      <td>Country</td>\n      <td>Asia</td>\n      <td>Electricity generation</td>\n      <td>Aggregate fuel</td>\n      <td>Fossil</td>\n      <td>TWh</td>\n      <td>0.16</td>\n      <td>NaN</td>\n      <td>NaN</td>\n    </tr>\n    <tr>\n      <th>9</th>\n      <td>Afghanistan</td>\n      <td>AFG</td>\n      <td>2000</td>\n      <td>Country</td>\n      <td>Asia</td>\n      <td>Electricity generation</td>\n      <td>Aggregate fuel</td>\n      <td>Hydro, bioenergy and other renewables</td>\n      <td>TWh</td>\n      <td>0.31</td>\n      <td>0.01</td>\n      <td>3.33</td>\n    </tr>\n  </tbody>\n</table>\n</div>"
     },
     "execution_count": 11,
     "metadata": {},
     "output_type": "execute_result"
    }
   ],
   "source": [
    "ember_electricity_year.head(10)"
   ],
   "metadata": {
    "collapsed": false
   }
  },
  {
   "cell_type": "code",
   "execution_count": 18,
   "outputs": [
    {
     "data": {
      "text/plain": "Ember region               \nAfrica                         59304\nAsia                           38013\nEurope                         47709\nLatin America and Caribbean    46830\nMiddle East                    14628\nNorth America                   3264\nOceania                        16992\ndtype: int64"
     },
     "execution_count": 18,
     "metadata": {},
     "output_type": "execute_result"
    }
   ],
   "source": [
    "ember_electricity_year.value_counts(subset=[\"Ember region\"]).sort_index()"
   ],
   "metadata": {
    "collapsed": false
   }
  },
  {
   "cell_type": "code",
   "execution_count": 12,
   "outputs": [],
   "source": [
    "path = \"../../data/_raw/bp/bp_file_energy_review_world.csv\"\n",
    "bp_world = pd.read_csv(\n",
    "    path,\n",
    "    sep=\",\"\n",
    ")"
   ],
   "metadata": {
    "collapsed": false
   }
  },
  {
   "cell_type": "code",
   "execution_count": 13,
   "outputs": [
    {
     "data": {
      "text/plain": "  Country  Year ISO3166_alpha3  ISO3166_numeric              Region  \\\n0  Brazil  2004            BRA             76.0  S. & Cent. America   \n1  Brazil  2005            BRA             76.0  S. & Cent. America   \n2  Brazil  2006            BRA             76.0  S. & Cent. America   \n3  Brazil  2007            BRA             76.0  S. & Cent. America   \n4  Brazil  2008            BRA             76.0  S. & Cent. America   \n5  Brazil  2009            BRA             76.0  S. & Cent. America   \n6  Brazil  2010            BRA             76.0  S. & Cent. America   \n7  Brazil  2011            BRA             76.0  S. & Cent. America   \n8  Brazil  2012            BRA             76.0  S. & Cent. America   \n9  Brazil  2013            BRA             76.0  S. & Cent. America   \n\n       SubRegion  OPEC   EU  OECD  CIS                   Var      Value  \n0  South America   0.0  0.0   0.0  0.0  biodiesel_cons_kboed   0.000000  \n1  South America   0.0  0.0   0.0  0.0  biodiesel_cons_kboed   0.014737  \n2  South America   0.0  0.0   0.0  0.0  biodiesel_cons_kboed   1.016887  \n3  South America   0.0  0.0   0.0  0.0  biodiesel_cons_kboed   5.953947  \n4  South America   0.0  0.0   0.0  0.0  biodiesel_cons_kboed  16.534379  \n5  South America   0.0  0.0   0.0  0.0  biodiesel_cons_kboed  23.064175  \n6  South America   0.0  0.0   0.0  0.0  biodiesel_cons_kboed  35.325768  \n7  South America   0.0  0.0   0.0  0.0  biodiesel_cons_kboed  37.893039  \n8  South America   0.0  0.0   0.0  0.0  biodiesel_cons_kboed  40.470648  \n9  South America   0.0  0.0   0.0  0.0  biodiesel_cons_kboed  43.160587  ",
      "text/html": "<div>\n<style scoped>\n    .dataframe tbody tr th:only-of-type {\n        vertical-align: middle;\n    }\n\n    .dataframe tbody tr th {\n        vertical-align: top;\n    }\n\n    .dataframe thead th {\n        text-align: right;\n    }\n</style>\n<table border=\"1\" class=\"dataframe\">\n  <thead>\n    <tr style=\"text-align: right;\">\n      <th></th>\n      <th>Country</th>\n      <th>Year</th>\n      <th>ISO3166_alpha3</th>\n      <th>ISO3166_numeric</th>\n      <th>Region</th>\n      <th>SubRegion</th>\n      <th>OPEC</th>\n      <th>EU</th>\n      <th>OECD</th>\n      <th>CIS</th>\n      <th>Var</th>\n      <th>Value</th>\n    </tr>\n  </thead>\n  <tbody>\n    <tr>\n      <th>0</th>\n      <td>Brazil</td>\n      <td>2004</td>\n      <td>BRA</td>\n      <td>76.0</td>\n      <td>S. &amp; Cent. America</td>\n      <td>South America</td>\n      <td>0.0</td>\n      <td>0.0</td>\n      <td>0.0</td>\n      <td>0.0</td>\n      <td>biodiesel_cons_kboed</td>\n      <td>0.000000</td>\n    </tr>\n    <tr>\n      <th>1</th>\n      <td>Brazil</td>\n      <td>2005</td>\n      <td>BRA</td>\n      <td>76.0</td>\n      <td>S. &amp; Cent. America</td>\n      <td>South America</td>\n      <td>0.0</td>\n      <td>0.0</td>\n      <td>0.0</td>\n      <td>0.0</td>\n      <td>biodiesel_cons_kboed</td>\n      <td>0.014737</td>\n    </tr>\n    <tr>\n      <th>2</th>\n      <td>Brazil</td>\n      <td>2006</td>\n      <td>BRA</td>\n      <td>76.0</td>\n      <td>S. &amp; Cent. America</td>\n      <td>South America</td>\n      <td>0.0</td>\n      <td>0.0</td>\n      <td>0.0</td>\n      <td>0.0</td>\n      <td>biodiesel_cons_kboed</td>\n      <td>1.016887</td>\n    </tr>\n    <tr>\n      <th>3</th>\n      <td>Brazil</td>\n      <td>2007</td>\n      <td>BRA</td>\n      <td>76.0</td>\n      <td>S. &amp; Cent. America</td>\n      <td>South America</td>\n      <td>0.0</td>\n      <td>0.0</td>\n      <td>0.0</td>\n      <td>0.0</td>\n      <td>biodiesel_cons_kboed</td>\n      <td>5.953947</td>\n    </tr>\n    <tr>\n      <th>4</th>\n      <td>Brazil</td>\n      <td>2008</td>\n      <td>BRA</td>\n      <td>76.0</td>\n      <td>S. &amp; Cent. America</td>\n      <td>South America</td>\n      <td>0.0</td>\n      <td>0.0</td>\n      <td>0.0</td>\n      <td>0.0</td>\n      <td>biodiesel_cons_kboed</td>\n      <td>16.534379</td>\n    </tr>\n    <tr>\n      <th>5</th>\n      <td>Brazil</td>\n      <td>2009</td>\n      <td>BRA</td>\n      <td>76.0</td>\n      <td>S. &amp; Cent. America</td>\n      <td>South America</td>\n      <td>0.0</td>\n      <td>0.0</td>\n      <td>0.0</td>\n      <td>0.0</td>\n      <td>biodiesel_cons_kboed</td>\n      <td>23.064175</td>\n    </tr>\n    <tr>\n      <th>6</th>\n      <td>Brazil</td>\n      <td>2010</td>\n      <td>BRA</td>\n      <td>76.0</td>\n      <td>S. &amp; Cent. America</td>\n      <td>South America</td>\n      <td>0.0</td>\n      <td>0.0</td>\n      <td>0.0</td>\n      <td>0.0</td>\n      <td>biodiesel_cons_kboed</td>\n      <td>35.325768</td>\n    </tr>\n    <tr>\n      <th>7</th>\n      <td>Brazil</td>\n      <td>2011</td>\n      <td>BRA</td>\n      <td>76.0</td>\n      <td>S. &amp; Cent. America</td>\n      <td>South America</td>\n      <td>0.0</td>\n      <td>0.0</td>\n      <td>0.0</td>\n      <td>0.0</td>\n      <td>biodiesel_cons_kboed</td>\n      <td>37.893039</td>\n    </tr>\n    <tr>\n      <th>8</th>\n      <td>Brazil</td>\n      <td>2012</td>\n      <td>BRA</td>\n      <td>76.0</td>\n      <td>S. &amp; Cent. America</td>\n      <td>South America</td>\n      <td>0.0</td>\n      <td>0.0</td>\n      <td>0.0</td>\n      <td>0.0</td>\n      <td>biodiesel_cons_kboed</td>\n      <td>40.470648</td>\n    </tr>\n    <tr>\n      <th>9</th>\n      <td>Brazil</td>\n      <td>2013</td>\n      <td>BRA</td>\n      <td>76.0</td>\n      <td>S. &amp; Cent. America</td>\n      <td>South America</td>\n      <td>0.0</td>\n      <td>0.0</td>\n      <td>0.0</td>\n      <td>0.0</td>\n      <td>biodiesel_cons_kboed</td>\n      <td>43.160587</td>\n    </tr>\n  </tbody>\n</table>\n</div>"
     },
     "execution_count": 13,
     "metadata": {},
     "output_type": "execute_result"
    }
   ],
   "source": [
    "bp_world.head(10)"
   ],
   "metadata": {
    "collapsed": false
   }
  },
  {
   "cell_type": "code",
   "execution_count": 22,
   "outputs": [
    {
     "data": {
      "text/plain": "Region            \nAfrica                12487\nAsia Pacific          45832\nCIS                   11661\nEurope                70213\nMiddle East           20743\nNorth America         10472\nS. & Cent. America    21867\ndtype: int64"
     },
     "execution_count": 22,
     "metadata": {},
     "output_type": "execute_result"
    }
   ],
   "source": [
    "bp_world.value_counts(subset=[\"Region\"]).sort_index()"
   ],
   "metadata": {
    "collapsed": false
   }
  },
  {
   "cell_type": "code",
   "execution_count": 23,
   "outputs": [
    {
     "data": {
      "text/plain": "SubRegion      \nAsia Pacific       45832\nCIS                11661\nCaribbean           2517\nEastern Africa       367\nEurope             70213\nMiddle Africa        948\nMiddle East        20743\nNorth America      10472\nNorthern Africa     7868\nSouth America      19350\nSouthern Africa     2625\nWestern Africa       679\ndtype: int64"
     },
     "execution_count": 23,
     "metadata": {},
     "output_type": "execute_result"
    }
   ],
   "source": [
    "bp_world.value_counts(subset=[\"SubRegion\"]).sort_index()"
   ],
   "metadata": {
    "collapsed": false
   }
  },
  {
   "cell_type": "code",
   "execution_count": 14,
   "outputs": [],
   "source": [
    "path = \"../../data/_raw/wb/__info_wb_api_sources.csv\"\n",
    "sources = pd.read_csv(\n",
    "    path,\n",
    "    sep=\",\"\n",
    ")"
   ],
   "metadata": {
    "collapsed": false
   }
  },
  {
   "cell_type": "code",
   "execution_count": 15,
   "outputs": [
    {
     "data": {
      "text/plain": "   id lastupdated                               name code  description  url  \\\n0   1  2021-08-18                     Doing Business  DBS          NaN  NaN   \n1   2  2023-05-10       World Development Indicators  WDI          NaN  NaN   \n2   3  2022-09-23    Worldwide Governance Indicators  WGI          NaN  NaN   \n3   5  2016-03-21  Subnational Malnutrition Database  SNM          NaN  NaN   \n4   6  2022-12-06      International Debt Statistics  IDS          NaN  NaN   \n\n  dataavailability metadataavailability  concepts  \n0                Y                    Y         3  \n1                Y                    Y         3  \n2                Y                    Y         3  \n3                Y                    Y         3  \n4                Y                    Y         4  ",
      "text/html": "<div>\n<style scoped>\n    .dataframe tbody tr th:only-of-type {\n        vertical-align: middle;\n    }\n\n    .dataframe tbody tr th {\n        vertical-align: top;\n    }\n\n    .dataframe thead th {\n        text-align: right;\n    }\n</style>\n<table border=\"1\" class=\"dataframe\">\n  <thead>\n    <tr style=\"text-align: right;\">\n      <th></th>\n      <th>id</th>\n      <th>lastupdated</th>\n      <th>name</th>\n      <th>code</th>\n      <th>description</th>\n      <th>url</th>\n      <th>dataavailability</th>\n      <th>metadataavailability</th>\n      <th>concepts</th>\n    </tr>\n  </thead>\n  <tbody>\n    <tr>\n      <th>0</th>\n      <td>1</td>\n      <td>2021-08-18</td>\n      <td>Doing Business</td>\n      <td>DBS</td>\n      <td>NaN</td>\n      <td>NaN</td>\n      <td>Y</td>\n      <td>Y</td>\n      <td>3</td>\n    </tr>\n    <tr>\n      <th>1</th>\n      <td>2</td>\n      <td>2023-05-10</td>\n      <td>World Development Indicators</td>\n      <td>WDI</td>\n      <td>NaN</td>\n      <td>NaN</td>\n      <td>Y</td>\n      <td>Y</td>\n      <td>3</td>\n    </tr>\n    <tr>\n      <th>2</th>\n      <td>3</td>\n      <td>2022-09-23</td>\n      <td>Worldwide Governance Indicators</td>\n      <td>WGI</td>\n      <td>NaN</td>\n      <td>NaN</td>\n      <td>Y</td>\n      <td>Y</td>\n      <td>3</td>\n    </tr>\n    <tr>\n      <th>3</th>\n      <td>5</td>\n      <td>2016-03-21</td>\n      <td>Subnational Malnutrition Database</td>\n      <td>SNM</td>\n      <td>NaN</td>\n      <td>NaN</td>\n      <td>Y</td>\n      <td>Y</td>\n      <td>3</td>\n    </tr>\n    <tr>\n      <th>4</th>\n      <td>6</td>\n      <td>2022-12-06</td>\n      <td>International Debt Statistics</td>\n      <td>IDS</td>\n      <td>NaN</td>\n      <td>NaN</td>\n      <td>Y</td>\n      <td>Y</td>\n      <td>4</td>\n    </tr>\n  </tbody>\n</table>\n</div>"
     },
     "execution_count": 15,
     "metadata": {},
     "output_type": "execute_result"
    }
   ],
   "source": [
    "sources.head()"
   ],
   "metadata": {
    "collapsed": false
   }
  },
  {
   "cell_type": "code",
   "execution_count": 12,
   "outputs": [
    {
     "name": "stdout",
     "output_type": "stream",
     "text": [
      "<class 'pandas.core.frame.DataFrame'>\n",
      "RangeIndex: 67 entries, 0 to 66\n",
      "Data columns (total 9 columns):\n",
      " #   Column                Non-Null Count  Dtype  \n",
      "---  ------                --------------  -----  \n",
      " 0   id                    67 non-null     int64  \n",
      " 1   lastupdated           67 non-null     object \n",
      " 2   name                  67 non-null     object \n",
      " 3   code                  67 non-null     object \n",
      " 4   description           0 non-null      float64\n",
      " 5   url                   0 non-null      float64\n",
      " 6   dataavailability      67 non-null     object \n",
      " 7   metadataavailability  62 non-null     object \n",
      " 8   concepts              67 non-null     int64  \n",
      "dtypes: float64(2), int64(2), object(5)\n",
      "memory usage: 4.8+ KB\n"
     ]
    }
   ],
   "source": [
    "sources.info()"
   ],
   "metadata": {
    "collapsed": false
   }
  },
  {
   "cell_type": "code",
   "execution_count": 13,
   "outputs": [
    {
     "name": "stdout",
     "output_type": "stream",
     "text": [
      "<class 'pandas.core.frame.DataFrame'>\n",
      "RangeIndex: 299 entries, 0 to 298\n",
      "Data columns (total 18 columns):\n",
      " #   Column                Non-Null Count  Dtype  \n",
      "---  ------                --------------  -----  \n",
      " 0   id                    299 non-null    object \n",
      " 1   iso2Code              298 non-null    object \n",
      " 2   name                  299 non-null    object \n",
      " 3   capitalCity           211 non-null    object \n",
      " 4   longitude             211 non-null    float64\n",
      " 5   latitude              211 non-null    float64\n",
      " 6   region.id             218 non-null    object \n",
      " 7   region.iso2code       218 non-null    object \n",
      " 8   region.value          299 non-null    object \n",
      " 9   adminregion.id        136 non-null    object \n",
      " 10  adminregion.iso2code  136 non-null    object \n",
      " 11  adminregion.value     136 non-null    object \n",
      " 12  incomeLevel.id        218 non-null    object \n",
      " 13  incomeLevel.iso2code  218 non-null    object \n",
      " 14  incomeLevel.value     299 non-null    object \n",
      " 15  lendingType.id        218 non-null    object \n",
      " 16  lendingType.iso2code  218 non-null    object \n",
      " 17  lendingType.value     299 non-null    object \n",
      "dtypes: float64(2), object(16)\n",
      "memory usage: 42.2+ KB\n"
     ]
    }
   ],
   "source": [
    "countries.info()"
   ],
   "metadata": {
    "collapsed": false
   }
  },
  {
   "cell_type": "code",
   "execution_count": 16,
   "outputs": [],
   "source": [
    "path = \"../../data/_raw/wb/__info_wb_api_topics.csv\"\n",
    "topics = pd.read_csv(\n",
    "    path,\n",
    "    sep=\",\"\n",
    ")"
   ],
   "metadata": {
    "collapsed": false
   }
  },
  {
   "cell_type": "code",
   "execution_count": 17,
   "outputs": [
    {
     "data": {
      "text/plain": "   id                            value  \\\n0   1  Agriculture & Rural Development   \n1   2                Aid Effectiveness   \n2   3                 Economy & Growth   \n3   4                        Education   \n4   5                  Energy & Mining   \n\n                                          sourceNote  \n0  For the 70 percent of the world's poor who liv...  \n1  Aid effectiveness is the impact that aid has i...  \n2  Economic growth is central to economic develop...  \n3  Education is one of the most powerful instrume...  \n4  The world economy needs ever-increasing amount...  ",
      "text/html": "<div>\n<style scoped>\n    .dataframe tbody tr th:only-of-type {\n        vertical-align: middle;\n    }\n\n    .dataframe tbody tr th {\n        vertical-align: top;\n    }\n\n    .dataframe thead th {\n        text-align: right;\n    }\n</style>\n<table border=\"1\" class=\"dataframe\">\n  <thead>\n    <tr style=\"text-align: right;\">\n      <th></th>\n      <th>id</th>\n      <th>value</th>\n      <th>sourceNote</th>\n    </tr>\n  </thead>\n  <tbody>\n    <tr>\n      <th>0</th>\n      <td>1</td>\n      <td>Agriculture &amp; Rural Development</td>\n      <td>For the 70 percent of the world's poor who liv...</td>\n    </tr>\n    <tr>\n      <th>1</th>\n      <td>2</td>\n      <td>Aid Effectiveness</td>\n      <td>Aid effectiveness is the impact that aid has i...</td>\n    </tr>\n    <tr>\n      <th>2</th>\n      <td>3</td>\n      <td>Economy &amp; Growth</td>\n      <td>Economic growth is central to economic develop...</td>\n    </tr>\n    <tr>\n      <th>3</th>\n      <td>4</td>\n      <td>Education</td>\n      <td>Education is one of the most powerful instrume...</td>\n    </tr>\n    <tr>\n      <th>4</th>\n      <td>5</td>\n      <td>Energy &amp; Mining</td>\n      <td>The world economy needs ever-increasing amount...</td>\n    </tr>\n  </tbody>\n</table>\n</div>"
     },
     "execution_count": 17,
     "metadata": {},
     "output_type": "execute_result"
    }
   ],
   "source": [
    "topics.head()"
   ],
   "metadata": {
    "collapsed": false
   }
  },
  {
   "cell_type": "code",
   "execution_count": 18,
   "outputs": [
    {
     "data": {
      "text/plain": "    id iso2Code                         name       capitalCity  longitude  \\\n0  ABW       AW                        Aruba        Oranjestad   -70.0167   \n1  AFE       ZH  Africa Eastern and Southern               NaN        NaN   \n2  AFG       AF                  Afghanistan             Kabul    69.1761   \n3  AFR       A9                       Africa               NaN        NaN   \n4  AFW       ZI   Africa Western and Central               NaN        NaN   \n5  AGO       AO                       Angola            Luanda    13.2420   \n6  ALB       AL                      Albania            Tirane    19.8172   \n7  AND       AD                      Andorra  Andorra la Vella     1.5218   \n8  ARB       1A                   Arab World               NaN        NaN   \n9  ARE       AE         United Arab Emirates         Abu Dhabi    54.3705   \n\n   latitude region.id region.iso2code                region.value  \\\n0  12.51670       LCN              ZJ  Latin America & Caribbean    \n1       NaN       NaN             NaN                  Aggregates   \n2  34.52280       SAS              8S                  South Asia   \n3       NaN       NaN             NaN                  Aggregates   \n4       NaN       NaN             NaN                  Aggregates   \n5  -8.81155       SSF              ZG         Sub-Saharan Africa    \n6  41.33170       ECS              Z7       Europe & Central Asia   \n7  42.50750       ECS              Z7       Europe & Central Asia   \n8       NaN       NaN             NaN                  Aggregates   \n9  24.47640       MEA              ZQ  Middle East & North Africa   \n\n  adminregion.id adminregion.iso2code  \\\n0            NaN                  NaN   \n1            NaN                  NaN   \n2            SAS                   8S   \n3            NaN                  NaN   \n4            NaN                  NaN   \n5            SSA                   ZF   \n6            ECA                   7E   \n7            NaN                  NaN   \n8            NaN                  NaN   \n9            NaN                  NaN   \n\n                               adminregion.value incomeLevel.id  \\\n0                                            NaN            HIC   \n1                                            NaN            NaN   \n2                                     South Asia            LIC   \n3                                            NaN            NaN   \n4                                            NaN            NaN   \n5     Sub-Saharan Africa (excluding high income)            LMC   \n6  Europe & Central Asia (excluding high income)            UMC   \n7                                            NaN            HIC   \n8                                            NaN            NaN   \n9                                            NaN            HIC   \n\n  incomeLevel.iso2code    incomeLevel.value lendingType.id  \\\n0                   XD          High income            LNX   \n1                  NaN           Aggregates            NaN   \n2                   XM           Low income            IDX   \n3                  NaN           Aggregates            NaN   \n4                  NaN           Aggregates            NaN   \n5                   XN  Lower middle income            IBD   \n6                   XT  Upper middle income            IBD   \n7                   XD          High income            LNX   \n8                  NaN           Aggregates            NaN   \n9                   XD          High income            LNX   \n\n  lendingType.iso2code lendingType.value  \n0                   XX    Not classified  \n1                  NaN        Aggregates  \n2                   XI               IDA  \n3                  NaN        Aggregates  \n4                  NaN        Aggregates  \n5                   XF              IBRD  \n6                   XF              IBRD  \n7                   XX    Not classified  \n8                  NaN        Aggregates  \n9                   XX    Not classified  ",
      "text/html": "<div>\n<style scoped>\n    .dataframe tbody tr th:only-of-type {\n        vertical-align: middle;\n    }\n\n    .dataframe tbody tr th {\n        vertical-align: top;\n    }\n\n    .dataframe thead th {\n        text-align: right;\n    }\n</style>\n<table border=\"1\" class=\"dataframe\">\n  <thead>\n    <tr style=\"text-align: right;\">\n      <th></th>\n      <th>id</th>\n      <th>iso2Code</th>\n      <th>name</th>\n      <th>capitalCity</th>\n      <th>longitude</th>\n      <th>latitude</th>\n      <th>region.id</th>\n      <th>region.iso2code</th>\n      <th>region.value</th>\n      <th>adminregion.id</th>\n      <th>adminregion.iso2code</th>\n      <th>adminregion.value</th>\n      <th>incomeLevel.id</th>\n      <th>incomeLevel.iso2code</th>\n      <th>incomeLevel.value</th>\n      <th>lendingType.id</th>\n      <th>lendingType.iso2code</th>\n      <th>lendingType.value</th>\n    </tr>\n  </thead>\n  <tbody>\n    <tr>\n      <th>0</th>\n      <td>ABW</td>\n      <td>AW</td>\n      <td>Aruba</td>\n      <td>Oranjestad</td>\n      <td>-70.0167</td>\n      <td>12.51670</td>\n      <td>LCN</td>\n      <td>ZJ</td>\n      <td>Latin America &amp; Caribbean</td>\n      <td>NaN</td>\n      <td>NaN</td>\n      <td>NaN</td>\n      <td>HIC</td>\n      <td>XD</td>\n      <td>High income</td>\n      <td>LNX</td>\n      <td>XX</td>\n      <td>Not classified</td>\n    </tr>\n    <tr>\n      <th>1</th>\n      <td>AFE</td>\n      <td>ZH</td>\n      <td>Africa Eastern and Southern</td>\n      <td>NaN</td>\n      <td>NaN</td>\n      <td>NaN</td>\n      <td>NaN</td>\n      <td>NaN</td>\n      <td>Aggregates</td>\n      <td>NaN</td>\n      <td>NaN</td>\n      <td>NaN</td>\n      <td>NaN</td>\n      <td>NaN</td>\n      <td>Aggregates</td>\n      <td>NaN</td>\n      <td>NaN</td>\n      <td>Aggregates</td>\n    </tr>\n    <tr>\n      <th>2</th>\n      <td>AFG</td>\n      <td>AF</td>\n      <td>Afghanistan</td>\n      <td>Kabul</td>\n      <td>69.1761</td>\n      <td>34.52280</td>\n      <td>SAS</td>\n      <td>8S</td>\n      <td>South Asia</td>\n      <td>SAS</td>\n      <td>8S</td>\n      <td>South Asia</td>\n      <td>LIC</td>\n      <td>XM</td>\n      <td>Low income</td>\n      <td>IDX</td>\n      <td>XI</td>\n      <td>IDA</td>\n    </tr>\n    <tr>\n      <th>3</th>\n      <td>AFR</td>\n      <td>A9</td>\n      <td>Africa</td>\n      <td>NaN</td>\n      <td>NaN</td>\n      <td>NaN</td>\n      <td>NaN</td>\n      <td>NaN</td>\n      <td>Aggregates</td>\n      <td>NaN</td>\n      <td>NaN</td>\n      <td>NaN</td>\n      <td>NaN</td>\n      <td>NaN</td>\n      <td>Aggregates</td>\n      <td>NaN</td>\n      <td>NaN</td>\n      <td>Aggregates</td>\n    </tr>\n    <tr>\n      <th>4</th>\n      <td>AFW</td>\n      <td>ZI</td>\n      <td>Africa Western and Central</td>\n      <td>NaN</td>\n      <td>NaN</td>\n      <td>NaN</td>\n      <td>NaN</td>\n      <td>NaN</td>\n      <td>Aggregates</td>\n      <td>NaN</td>\n      <td>NaN</td>\n      <td>NaN</td>\n      <td>NaN</td>\n      <td>NaN</td>\n      <td>Aggregates</td>\n      <td>NaN</td>\n      <td>NaN</td>\n      <td>Aggregates</td>\n    </tr>\n    <tr>\n      <th>5</th>\n      <td>AGO</td>\n      <td>AO</td>\n      <td>Angola</td>\n      <td>Luanda</td>\n      <td>13.2420</td>\n      <td>-8.81155</td>\n      <td>SSF</td>\n      <td>ZG</td>\n      <td>Sub-Saharan Africa</td>\n      <td>SSA</td>\n      <td>ZF</td>\n      <td>Sub-Saharan Africa (excluding high income)</td>\n      <td>LMC</td>\n      <td>XN</td>\n      <td>Lower middle income</td>\n      <td>IBD</td>\n      <td>XF</td>\n      <td>IBRD</td>\n    </tr>\n    <tr>\n      <th>6</th>\n      <td>ALB</td>\n      <td>AL</td>\n      <td>Albania</td>\n      <td>Tirane</td>\n      <td>19.8172</td>\n      <td>41.33170</td>\n      <td>ECS</td>\n      <td>Z7</td>\n      <td>Europe &amp; Central Asia</td>\n      <td>ECA</td>\n      <td>7E</td>\n      <td>Europe &amp; Central Asia (excluding high income)</td>\n      <td>UMC</td>\n      <td>XT</td>\n      <td>Upper middle income</td>\n      <td>IBD</td>\n      <td>XF</td>\n      <td>IBRD</td>\n    </tr>\n    <tr>\n      <th>7</th>\n      <td>AND</td>\n      <td>AD</td>\n      <td>Andorra</td>\n      <td>Andorra la Vella</td>\n      <td>1.5218</td>\n      <td>42.50750</td>\n      <td>ECS</td>\n      <td>Z7</td>\n      <td>Europe &amp; Central Asia</td>\n      <td>NaN</td>\n      <td>NaN</td>\n      <td>NaN</td>\n      <td>HIC</td>\n      <td>XD</td>\n      <td>High income</td>\n      <td>LNX</td>\n      <td>XX</td>\n      <td>Not classified</td>\n    </tr>\n    <tr>\n      <th>8</th>\n      <td>ARB</td>\n      <td>1A</td>\n      <td>Arab World</td>\n      <td>NaN</td>\n      <td>NaN</td>\n      <td>NaN</td>\n      <td>NaN</td>\n      <td>NaN</td>\n      <td>Aggregates</td>\n      <td>NaN</td>\n      <td>NaN</td>\n      <td>NaN</td>\n      <td>NaN</td>\n      <td>NaN</td>\n      <td>Aggregates</td>\n      <td>NaN</td>\n      <td>NaN</td>\n      <td>Aggregates</td>\n    </tr>\n    <tr>\n      <th>9</th>\n      <td>ARE</td>\n      <td>AE</td>\n      <td>United Arab Emirates</td>\n      <td>Abu Dhabi</td>\n      <td>54.3705</td>\n      <td>24.47640</td>\n      <td>MEA</td>\n      <td>ZQ</td>\n      <td>Middle East &amp; North Africa</td>\n      <td>NaN</td>\n      <td>NaN</td>\n      <td>NaN</td>\n      <td>HIC</td>\n      <td>XD</td>\n      <td>High income</td>\n      <td>LNX</td>\n      <td>XX</td>\n      <td>Not classified</td>\n    </tr>\n  </tbody>\n</table>\n</div>"
     },
     "execution_count": 18,
     "metadata": {},
     "output_type": "execute_result"
    }
   ],
   "source": [
    "countries.head(10)"
   ],
   "metadata": {
    "collapsed": false
   }
  },
  {
   "cell_type": "code",
   "execution_count": 22,
   "outputs": [
    {
     "data": {
      "text/plain": "     id code iso2code                                               name\n1   NaN  AFR       A9                                             Africa\n0   NaN  AFE       ZH                        Africa Eastern and Southern\n2   NaN  AFW       ZI                         Africa Western and Central\n3   NaN  ARB       1A                                         Arab World\n11  NaN  CSS       S3                             Caribbean small states\n6   NaN  CEB       B8                     Central Europe and the Baltics\n13  NaN  EAR       V2                         Early-demographic dividend\n14  1.0  EAS       Z4                                East Asia & Pacific\n12  NaN  EAP       4E        East Asia & Pacific (excluding high income)\n5   NaN  CEA       C4     East Asia and the Pacific (IFC classification)\n17  NaN  EMU       XC                                          Euro area\n16  2.0  ECS       Z7                              Europe & Central Asia\n15  NaN  ECA       7E      Europe & Central Asia (excluding high income)\n7   NaN  CEU       C5       Europe and Central Asia (IFC classification)\n18  NaN  EUU       EU                                     European Union\n19  NaN  FCS       F1           Fragile and conflict affected situations\n20  NaN  HPC       XE             Heavily indebted poor countries (HIPC)\n24  NaN  LTE       V3                          Late-demographic dividend\n22  3.0  LCN       ZJ                         Latin America & Caribbean \n21  NaN  LAC       XJ  Latin America & Caribbean (excluding high income)\n8   NaN  CLA       C6  Latin America and the Caribbean (IFC classific...\n23  NaN  LDC       XL       Least developed countries: UN classification\n26  4.0  MEA       ZQ                         Middle East & North Africa\n27  NaN  MNA       XQ  Middle East & North Africa (excluding high inc...\n25  NaN  MDE       M1                      Middle East (developing only)\n9   NaN  CME       C7  Middle East and North Africa (IFC classification)\n30  NaN  NRS       6X     Non-resource rich Sub-Saharan Africa countries\n29  NaN  NAF       M2                                       North Africa\n28  6.0  NAC       XU                                      North America\n31  NaN  OED       OE                                       OECD members\n32  NaN  OSS       S4                                 Other small states\n34  NaN  PSS       S2                        Pacific island small states\n35  NaN  PST       V4                          Post-demographic dividend\n33  NaN  PRE       V1                           Pre-demographic dividend\n36  NaN  RRS       R6         Resource rich Sub-Saharan Africa countries\n40  NaN  SST       S1                                       Small states\n37  8.0  SAS       8S                                         South Asia\n10  NaN  CSA       C8                    South Asia (IFC classification)\n39  9.0  SSF       ZG                                Sub-Saharan Africa \n4   NaN  CAA       C9            Sub-Saharan Africa (IFC classification)\n38  NaN  SSA       ZF         Sub-Saharan Africa (excluding high income)\n41  NaN  SXZ       A4          Sub-Saharan Africa excluding South Africa\n43  NaN  XZN       A5  Sub-Saharan Africa excluding South Africa and ...\n42  NaN  WLD       1W                                              World",
      "text/html": "<div>\n<style scoped>\n    .dataframe tbody tr th:only-of-type {\n        vertical-align: middle;\n    }\n\n    .dataframe tbody tr th {\n        vertical-align: top;\n    }\n\n    .dataframe thead th {\n        text-align: right;\n    }\n</style>\n<table border=\"1\" class=\"dataframe\">\n  <thead>\n    <tr style=\"text-align: right;\">\n      <th></th>\n      <th>id</th>\n      <th>code</th>\n      <th>iso2code</th>\n      <th>name</th>\n    </tr>\n  </thead>\n  <tbody>\n    <tr>\n      <th>1</th>\n      <td>NaN</td>\n      <td>AFR</td>\n      <td>A9</td>\n      <td>Africa</td>\n    </tr>\n    <tr>\n      <th>0</th>\n      <td>NaN</td>\n      <td>AFE</td>\n      <td>ZH</td>\n      <td>Africa Eastern and Southern</td>\n    </tr>\n    <tr>\n      <th>2</th>\n      <td>NaN</td>\n      <td>AFW</td>\n      <td>ZI</td>\n      <td>Africa Western and Central</td>\n    </tr>\n    <tr>\n      <th>3</th>\n      <td>NaN</td>\n      <td>ARB</td>\n      <td>1A</td>\n      <td>Arab World</td>\n    </tr>\n    <tr>\n      <th>11</th>\n      <td>NaN</td>\n      <td>CSS</td>\n      <td>S3</td>\n      <td>Caribbean small states</td>\n    </tr>\n    <tr>\n      <th>6</th>\n      <td>NaN</td>\n      <td>CEB</td>\n      <td>B8</td>\n      <td>Central Europe and the Baltics</td>\n    </tr>\n    <tr>\n      <th>13</th>\n      <td>NaN</td>\n      <td>EAR</td>\n      <td>V2</td>\n      <td>Early-demographic dividend</td>\n    </tr>\n    <tr>\n      <th>14</th>\n      <td>1.0</td>\n      <td>EAS</td>\n      <td>Z4</td>\n      <td>East Asia &amp; Pacific</td>\n    </tr>\n    <tr>\n      <th>12</th>\n      <td>NaN</td>\n      <td>EAP</td>\n      <td>4E</td>\n      <td>East Asia &amp; Pacific (excluding high income)</td>\n    </tr>\n    <tr>\n      <th>5</th>\n      <td>NaN</td>\n      <td>CEA</td>\n      <td>C4</td>\n      <td>East Asia and the Pacific (IFC classification)</td>\n    </tr>\n    <tr>\n      <th>17</th>\n      <td>NaN</td>\n      <td>EMU</td>\n      <td>XC</td>\n      <td>Euro area</td>\n    </tr>\n    <tr>\n      <th>16</th>\n      <td>2.0</td>\n      <td>ECS</td>\n      <td>Z7</td>\n      <td>Europe &amp; Central Asia</td>\n    </tr>\n    <tr>\n      <th>15</th>\n      <td>NaN</td>\n      <td>ECA</td>\n      <td>7E</td>\n      <td>Europe &amp; Central Asia (excluding high income)</td>\n    </tr>\n    <tr>\n      <th>7</th>\n      <td>NaN</td>\n      <td>CEU</td>\n      <td>C5</td>\n      <td>Europe and Central Asia (IFC classification)</td>\n    </tr>\n    <tr>\n      <th>18</th>\n      <td>NaN</td>\n      <td>EUU</td>\n      <td>EU</td>\n      <td>European Union</td>\n    </tr>\n    <tr>\n      <th>19</th>\n      <td>NaN</td>\n      <td>FCS</td>\n      <td>F1</td>\n      <td>Fragile and conflict affected situations</td>\n    </tr>\n    <tr>\n      <th>20</th>\n      <td>NaN</td>\n      <td>HPC</td>\n      <td>XE</td>\n      <td>Heavily indebted poor countries (HIPC)</td>\n    </tr>\n    <tr>\n      <th>24</th>\n      <td>NaN</td>\n      <td>LTE</td>\n      <td>V3</td>\n      <td>Late-demographic dividend</td>\n    </tr>\n    <tr>\n      <th>22</th>\n      <td>3.0</td>\n      <td>LCN</td>\n      <td>ZJ</td>\n      <td>Latin America &amp; Caribbean</td>\n    </tr>\n    <tr>\n      <th>21</th>\n      <td>NaN</td>\n      <td>LAC</td>\n      <td>XJ</td>\n      <td>Latin America &amp; Caribbean (excluding high income)</td>\n    </tr>\n    <tr>\n      <th>8</th>\n      <td>NaN</td>\n      <td>CLA</td>\n      <td>C6</td>\n      <td>Latin America and the Caribbean (IFC classific...</td>\n    </tr>\n    <tr>\n      <th>23</th>\n      <td>NaN</td>\n      <td>LDC</td>\n      <td>XL</td>\n      <td>Least developed countries: UN classification</td>\n    </tr>\n    <tr>\n      <th>26</th>\n      <td>4.0</td>\n      <td>MEA</td>\n      <td>ZQ</td>\n      <td>Middle East &amp; North Africa</td>\n    </tr>\n    <tr>\n      <th>27</th>\n      <td>NaN</td>\n      <td>MNA</td>\n      <td>XQ</td>\n      <td>Middle East &amp; North Africa (excluding high inc...</td>\n    </tr>\n    <tr>\n      <th>25</th>\n      <td>NaN</td>\n      <td>MDE</td>\n      <td>M1</td>\n      <td>Middle East (developing only)</td>\n    </tr>\n    <tr>\n      <th>9</th>\n      <td>NaN</td>\n      <td>CME</td>\n      <td>C7</td>\n      <td>Middle East and North Africa (IFC classification)</td>\n    </tr>\n    <tr>\n      <th>30</th>\n      <td>NaN</td>\n      <td>NRS</td>\n      <td>6X</td>\n      <td>Non-resource rich Sub-Saharan Africa countries</td>\n    </tr>\n    <tr>\n      <th>29</th>\n      <td>NaN</td>\n      <td>NAF</td>\n      <td>M2</td>\n      <td>North Africa</td>\n    </tr>\n    <tr>\n      <th>28</th>\n      <td>6.0</td>\n      <td>NAC</td>\n      <td>XU</td>\n      <td>North America</td>\n    </tr>\n    <tr>\n      <th>31</th>\n      <td>NaN</td>\n      <td>OED</td>\n      <td>OE</td>\n      <td>OECD members</td>\n    </tr>\n    <tr>\n      <th>32</th>\n      <td>NaN</td>\n      <td>OSS</td>\n      <td>S4</td>\n      <td>Other small states</td>\n    </tr>\n    <tr>\n      <th>34</th>\n      <td>NaN</td>\n      <td>PSS</td>\n      <td>S2</td>\n      <td>Pacific island small states</td>\n    </tr>\n    <tr>\n      <th>35</th>\n      <td>NaN</td>\n      <td>PST</td>\n      <td>V4</td>\n      <td>Post-demographic dividend</td>\n    </tr>\n    <tr>\n      <th>33</th>\n      <td>NaN</td>\n      <td>PRE</td>\n      <td>V1</td>\n      <td>Pre-demographic dividend</td>\n    </tr>\n    <tr>\n      <th>36</th>\n      <td>NaN</td>\n      <td>RRS</td>\n      <td>R6</td>\n      <td>Resource rich Sub-Saharan Africa countries</td>\n    </tr>\n    <tr>\n      <th>40</th>\n      <td>NaN</td>\n      <td>SST</td>\n      <td>S1</td>\n      <td>Small states</td>\n    </tr>\n    <tr>\n      <th>37</th>\n      <td>8.0</td>\n      <td>SAS</td>\n      <td>8S</td>\n      <td>South Asia</td>\n    </tr>\n    <tr>\n      <th>10</th>\n      <td>NaN</td>\n      <td>CSA</td>\n      <td>C8</td>\n      <td>South Asia (IFC classification)</td>\n    </tr>\n    <tr>\n      <th>39</th>\n      <td>9.0</td>\n      <td>SSF</td>\n      <td>ZG</td>\n      <td>Sub-Saharan Africa</td>\n    </tr>\n    <tr>\n      <th>4</th>\n      <td>NaN</td>\n      <td>CAA</td>\n      <td>C9</td>\n      <td>Sub-Saharan Africa (IFC classification)</td>\n    </tr>\n    <tr>\n      <th>38</th>\n      <td>NaN</td>\n      <td>SSA</td>\n      <td>ZF</td>\n      <td>Sub-Saharan Africa (excluding high income)</td>\n    </tr>\n    <tr>\n      <th>41</th>\n      <td>NaN</td>\n      <td>SXZ</td>\n      <td>A4</td>\n      <td>Sub-Saharan Africa excluding South Africa</td>\n    </tr>\n    <tr>\n      <th>43</th>\n      <td>NaN</td>\n      <td>XZN</td>\n      <td>A5</td>\n      <td>Sub-Saharan Africa excluding South Africa and ...</td>\n    </tr>\n    <tr>\n      <th>42</th>\n      <td>NaN</td>\n      <td>WLD</td>\n      <td>1W</td>\n      <td>World</td>\n    </tr>\n  </tbody>\n</table>\n</div>"
     },
     "execution_count": 22,
     "metadata": {},
     "output_type": "execute_result"
    }
   ],
   "source": [
    "regions.sort_values(\"name\").head(44)"
   ],
   "metadata": {
    "collapsed": false
   }
  },
  {
   "cell_type": "markdown",
   "source": [
    "# Data transformation"
   ],
   "metadata": {
    "collapsed": false
   }
  },
  {
   "cell_type": "code",
   "execution_count": 4,
   "outputs": [],
   "source": [
    "import pandas as pd"
   ],
   "metadata": {
    "collapsed": false
   }
  },
  {
   "cell_type": "code",
   "execution_count": 18,
   "outputs": [
    {
     "name": "stderr",
     "output_type": "stream",
     "text": [
      "/tmp/ipykernel_17748/4275599094.py:2: DtypeWarning: Columns (12) have mixed types. Specify dtype option on import or set low_memory=False.\n",
      "  eia_regions = pd.read_csv(\n"
     ]
    }
   ],
   "source": [
    "path = \"../../data/_raw/eia/eia_api_intl_region.csv\"\n",
    "eia_regions = pd.read_csv(\n",
    "    path,\n",
    "    sep=\",\"\n",
    ")"
   ],
   "metadata": {
    "collapsed": false
   }
  },
  {
   "cell_type": "code",
   "execution_count": 19,
   "outputs": [
    {
     "data": {
      "text/plain": "        period  productId             productName  activityId activityName  \\\n0         1981        130      Metallurgical coal           1   Production   \n1         1988        119           Subbituminous           1   Production   \n2         2005         14                 Lignite           1   Production   \n3         1988         14                 Lignite           1   Production   \n4         2002         12              Bituminous           1   Production   \n...        ...        ...                     ...         ...          ...   \n522041    2021         47        Energy intensity          34          GDP   \n522042    1983       4701  Gross domestic product          34          GDP   \n522043    1980       4701  Gross domestic product          34          GDP   \n522044    2009       4701  Gross domestic product          34          GDP   \n522045    1995       4701  Gross domestic product          34          GDP   \n\n       countryRegionId        countryRegionName countryRegionTypeId  \\\n0                 ASOC           Asia & Oceania                   r   \n1                 OPAF            OPEC - Africa                   r   \n2                 ASOC           Asia & Oceania                   r   \n3                 CSAM  Central & South America                   r   \n4                 WP27            United States                   r   \n...                ...                      ...                 ...   \n522041            EURO                   Europe                   r   \n522042            WP14                   Canada                   r   \n522043            WP17                    Japan                   r   \n522044            WP17                    Japan                   r   \n522045            WP14                   Canada                   r   \n\n       countryRegionTypeName  dataFlagId dataFlagDescription  \\\n0                     Region         NaN                 NaN   \n1                     Region         NaN                 NaN   \n2                     Region         NaN                 NaN   \n3                     Region         NaN                 NaN   \n4                     Region         NaN                 NaN   \n...                      ...         ...                 ...   \n522041                Region         NaN                 NaN   \n522042                Region         NaN                 NaN   \n522043                Region         NaN                 NaN   \n522044                Region         NaN                 NaN   \n522045                Region         NaN                 NaN   \n\n                                                 unitName               value  \\\n0                                        1000 metric tons  181597.13485933334   \n1                                              terajoules                   0   \n2                   million metric tons of oil equivalent   81.28356862422736   \n3                   million metric tons of oil equivalent   1.010036088437365   \n4                                        1000 metric tons  480214.37788395333   \n...                                                   ...                 ...   \n522041  thousand Btu per USD at purchasing power parities  3.1185687376943356   \n522042       billion dollars at purchasing power parities            712.9519   \n522043       billion dollars at purchasing power parities            2642.706   \n522044       billion dollars at purchasing power parities              4742.1   \n522045       billion dollars at purchasing power parities            979.1118   \n\n             unit  \n0              MT  \n1              TJ  \n2            MTOE  \n3            MTOE  \n4              MT  \n...           ...  \n522041  TBTUUSDPP  \n522042    BDOLPPP  \n522043    BDOLPPP  \n522044    BDOLPPP  \n522045    BDOLPPP  \n\n[522046 rows x 14 columns]",
      "text/html": "<div>\n<style scoped>\n    .dataframe tbody tr th:only-of-type {\n        vertical-align: middle;\n    }\n\n    .dataframe tbody tr th {\n        vertical-align: top;\n    }\n\n    .dataframe thead th {\n        text-align: right;\n    }\n</style>\n<table border=\"1\" class=\"dataframe\">\n  <thead>\n    <tr style=\"text-align: right;\">\n      <th></th>\n      <th>period</th>\n      <th>productId</th>\n      <th>productName</th>\n      <th>activityId</th>\n      <th>activityName</th>\n      <th>countryRegionId</th>\n      <th>countryRegionName</th>\n      <th>countryRegionTypeId</th>\n      <th>countryRegionTypeName</th>\n      <th>dataFlagId</th>\n      <th>dataFlagDescription</th>\n      <th>unitName</th>\n      <th>value</th>\n      <th>unit</th>\n    </tr>\n  </thead>\n  <tbody>\n    <tr>\n      <th>0</th>\n      <td>1981</td>\n      <td>130</td>\n      <td>Metallurgical coal</td>\n      <td>1</td>\n      <td>Production</td>\n      <td>ASOC</td>\n      <td>Asia &amp; Oceania</td>\n      <td>r</td>\n      <td>Region</td>\n      <td>NaN</td>\n      <td>NaN</td>\n      <td>1000 metric tons</td>\n      <td>181597.13485933334</td>\n      <td>MT</td>\n    </tr>\n    <tr>\n      <th>1</th>\n      <td>1988</td>\n      <td>119</td>\n      <td>Subbituminous</td>\n      <td>1</td>\n      <td>Production</td>\n      <td>OPAF</td>\n      <td>OPEC - Africa</td>\n      <td>r</td>\n      <td>Region</td>\n      <td>NaN</td>\n      <td>NaN</td>\n      <td>terajoules</td>\n      <td>0</td>\n      <td>TJ</td>\n    </tr>\n    <tr>\n      <th>2</th>\n      <td>2005</td>\n      <td>14</td>\n      <td>Lignite</td>\n      <td>1</td>\n      <td>Production</td>\n      <td>ASOC</td>\n      <td>Asia &amp; Oceania</td>\n      <td>r</td>\n      <td>Region</td>\n      <td>NaN</td>\n      <td>NaN</td>\n      <td>million metric tons of oil equivalent</td>\n      <td>81.28356862422736</td>\n      <td>MTOE</td>\n    </tr>\n    <tr>\n      <th>3</th>\n      <td>1988</td>\n      <td>14</td>\n      <td>Lignite</td>\n      <td>1</td>\n      <td>Production</td>\n      <td>CSAM</td>\n      <td>Central &amp; South America</td>\n      <td>r</td>\n      <td>Region</td>\n      <td>NaN</td>\n      <td>NaN</td>\n      <td>million metric tons of oil equivalent</td>\n      <td>1.010036088437365</td>\n      <td>MTOE</td>\n    </tr>\n    <tr>\n      <th>4</th>\n      <td>2002</td>\n      <td>12</td>\n      <td>Bituminous</td>\n      <td>1</td>\n      <td>Production</td>\n      <td>WP27</td>\n      <td>United States</td>\n      <td>r</td>\n      <td>Region</td>\n      <td>NaN</td>\n      <td>NaN</td>\n      <td>1000 metric tons</td>\n      <td>480214.37788395333</td>\n      <td>MT</td>\n    </tr>\n    <tr>\n      <th>...</th>\n      <td>...</td>\n      <td>...</td>\n      <td>...</td>\n      <td>...</td>\n      <td>...</td>\n      <td>...</td>\n      <td>...</td>\n      <td>...</td>\n      <td>...</td>\n      <td>...</td>\n      <td>...</td>\n      <td>...</td>\n      <td>...</td>\n      <td>...</td>\n    </tr>\n    <tr>\n      <th>522041</th>\n      <td>2021</td>\n      <td>47</td>\n      <td>Energy intensity</td>\n      <td>34</td>\n      <td>GDP</td>\n      <td>EURO</td>\n      <td>Europe</td>\n      <td>r</td>\n      <td>Region</td>\n      <td>NaN</td>\n      <td>NaN</td>\n      <td>thousand Btu per USD at purchasing power parities</td>\n      <td>3.1185687376943356</td>\n      <td>TBTUUSDPP</td>\n    </tr>\n    <tr>\n      <th>522042</th>\n      <td>1983</td>\n      <td>4701</td>\n      <td>Gross domestic product</td>\n      <td>34</td>\n      <td>GDP</td>\n      <td>WP14</td>\n      <td>Canada</td>\n      <td>r</td>\n      <td>Region</td>\n      <td>NaN</td>\n      <td>NaN</td>\n      <td>billion dollars at purchasing power parities</td>\n      <td>712.9519</td>\n      <td>BDOLPPP</td>\n    </tr>\n    <tr>\n      <th>522043</th>\n      <td>1980</td>\n      <td>4701</td>\n      <td>Gross domestic product</td>\n      <td>34</td>\n      <td>GDP</td>\n      <td>WP17</td>\n      <td>Japan</td>\n      <td>r</td>\n      <td>Region</td>\n      <td>NaN</td>\n      <td>NaN</td>\n      <td>billion dollars at purchasing power parities</td>\n      <td>2642.706</td>\n      <td>BDOLPPP</td>\n    </tr>\n    <tr>\n      <th>522044</th>\n      <td>2009</td>\n      <td>4701</td>\n      <td>Gross domestic product</td>\n      <td>34</td>\n      <td>GDP</td>\n      <td>WP17</td>\n      <td>Japan</td>\n      <td>r</td>\n      <td>Region</td>\n      <td>NaN</td>\n      <td>NaN</td>\n      <td>billion dollars at purchasing power parities</td>\n      <td>4742.1</td>\n      <td>BDOLPPP</td>\n    </tr>\n    <tr>\n      <th>522045</th>\n      <td>1995</td>\n      <td>4701</td>\n      <td>Gross domestic product</td>\n      <td>34</td>\n      <td>GDP</td>\n      <td>WP14</td>\n      <td>Canada</td>\n      <td>r</td>\n      <td>Region</td>\n      <td>NaN</td>\n      <td>NaN</td>\n      <td>billion dollars at purchasing power parities</td>\n      <td>979.1118</td>\n      <td>BDOLPPP</td>\n    </tr>\n  </tbody>\n</table>\n<p>522046 rows × 14 columns</p>\n</div>"
     },
     "execution_count": 19,
     "metadata": {},
     "output_type": "execute_result"
    }
   ],
   "source": [
    "eia_regions"
   ],
   "metadata": {
    "collapsed": false
   }
  },
  {
   "cell_type": "code",
   "execution_count": 7,
   "outputs": [
    {
     "data": {
      "text/plain": "countryRegionName                     \nAfrica                                    15833\nAsia & Oceania                            16111\nAustralia and New Zealand                 15324\nBrazil                                    14031\nCanada                                    14558\nCentral & South America                   15524\nChina                                     12843\nEurasia                                   14912\nEurope                                    16024\nEuropean Union                            16188\nIEO - Africa                              13770\nIEO - Middle East                         14085\nIEO OECD - Europe                         13640\nIndia                                     15467\nJapan                                     15006\nMexico, Chile, and other OECD Americas    15605\nMiddle East                               15105\nNon-OECD                                  14576\nNon-OPEC                                  15857\nNorth America                             15395\nOECD                                      14776\nOECD - Asia And Oceania                   14983\nOECD - Europe                             15082\nOECD - North America                      14816\nOPEC                                      15805\nOPEC - Africa                             14172\nOPEC - South America                      15014\nOther Non-OECD - America                  15455\nOther Non-OECD - Asia                     15293\nOther Non-OECD - Europe and Eurasia       16147\nPersian Gulf                              15048\nRussia                                    11104\nSouth Korea and other OECD Asia           14757\nUnited States                             14144\nWorld                                     15596\ndtype: int64"
     },
     "execution_count": 7,
     "metadata": {},
     "output_type": "execute_result"
    }
   ],
   "source": [
    "eia_regions.value_counts(subset=[\"countryRegionName\"]).sort_index()"
   ],
   "metadata": {
    "collapsed": false
   }
  },
  {
   "cell_type": "markdown",
   "source": [
    "Given there is no way to link country data from worldbank and region data from EIA, we will use the final dataset produced in dataiku as our country dataset."
   ],
   "metadata": {
    "collapsed": false
   }
  },
  {
   "cell_type": "code",
   "execution_count": 22,
   "outputs": [
    {
     "data": {
      "text/plain": "    group_type group_name                 country\n0         zone     Europe                 Albania\n1         zone     Europe                 Andorra\n2         zone     Europe                 Austria\n3         zone     Europe                 Belgium\n4         zone     Europe  Bosnia and Herzegovina\n..         ...        ...                     ...\n516      group       OPEC                 Nigeria\n517      group       OPEC                   Qatar\n518      group       OPEC            Saudi Arabia\n519      group       OPEC    United Arab Emirates\n520      group       OPEC               Venezuela\n\n[521 rows x 3 columns]",
      "text/html": "<div>\n<style scoped>\n    .dataframe tbody tr th:only-of-type {\n        vertical-align: middle;\n    }\n\n    .dataframe tbody tr th {\n        vertical-align: top;\n    }\n\n    .dataframe thead th {\n        text-align: right;\n    }\n</style>\n<table border=\"1\" class=\"dataframe\">\n  <thead>\n    <tr style=\"text-align: right;\">\n      <th></th>\n      <th>group_type</th>\n      <th>group_name</th>\n      <th>country</th>\n    </tr>\n  </thead>\n  <tbody>\n    <tr>\n      <th>0</th>\n      <td>zone</td>\n      <td>Europe</td>\n      <td>Albania</td>\n    </tr>\n    <tr>\n      <th>1</th>\n      <td>zone</td>\n      <td>Europe</td>\n      <td>Andorra</td>\n    </tr>\n    <tr>\n      <th>2</th>\n      <td>zone</td>\n      <td>Europe</td>\n      <td>Austria</td>\n    </tr>\n    <tr>\n      <th>3</th>\n      <td>zone</td>\n      <td>Europe</td>\n      <td>Belgium</td>\n    </tr>\n    <tr>\n      <th>4</th>\n      <td>zone</td>\n      <td>Europe</td>\n      <td>Bosnia and Herzegovina</td>\n    </tr>\n    <tr>\n      <th>...</th>\n      <td>...</td>\n      <td>...</td>\n      <td>...</td>\n    </tr>\n    <tr>\n      <th>516</th>\n      <td>group</td>\n      <td>OPEC</td>\n      <td>Nigeria</td>\n    </tr>\n    <tr>\n      <th>517</th>\n      <td>group</td>\n      <td>OPEC</td>\n      <td>Qatar</td>\n    </tr>\n    <tr>\n      <th>518</th>\n      <td>group</td>\n      <td>OPEC</td>\n      <td>Saudi Arabia</td>\n    </tr>\n    <tr>\n      <th>519</th>\n      <td>group</td>\n      <td>OPEC</td>\n      <td>United Arab Emirates</td>\n    </tr>\n    <tr>\n      <th>520</th>\n      <td>group</td>\n      <td>OPEC</td>\n      <td>Venezuela</td>\n    </tr>\n  </tbody>\n</table>\n<p>521 rows × 3 columns</p>\n</div>"
     },
     "execution_count": 22,
     "metadata": {},
     "output_type": "execute_result"
    }
   ],
   "source": [
    "countries = pd.read_csv(\n",
    "    \"../../data/dataiku/final/country_project/country_groups_prod.csv\",\n",
    "    sep=\",\",\n",
    ")\n",
    "countries"
   ],
   "metadata": {
    "collapsed": false
   }
  }
 ],
 "metadata": {
  "kernelspec": {
   "display_name": "Python 3",
   "language": "python",
   "name": "python3"
  },
  "language_info": {
   "codemirror_mode": {
    "name": "ipython",
    "version": 2
   },
   "file_extension": ".py",
   "mimetype": "text/x-python",
   "name": "python",
   "nbconvert_exporter": "python",
   "pygments_lexer": "ipython2",
   "version": "2.7.6"
  }
 },
 "nbformat": 4,
 "nbformat_minor": 0
}
