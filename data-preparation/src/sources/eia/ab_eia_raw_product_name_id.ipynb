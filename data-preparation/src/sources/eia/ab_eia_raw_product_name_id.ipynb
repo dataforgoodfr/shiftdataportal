{
 "cells": [
  {
   "attachments": {},
   "cell_type": "markdown",
   "metadata": {},
   "source": [
    "# raw data of EIA product dimension table"
   ]
  },
  {
   "cell_type": "code",
   "execution_count": 1,
   "metadata": {},
   "outputs": [],
   "source": [
    "import pandas as pd"
   ]
  },
  {
   "cell_type": "code",
   "execution_count": 2,
   "metadata": {},
   "outputs": [],
   "source": [
    "#this raw data source comes from a copy paste on the different products on the API browser\n",
    "path = \"../../data/_raw/eia/raw_copy_paste_product_name_id.csv\"\n",
    "df = pd.read_csv(path)"
   ]
  },
  {
   "cell_type": "code",
   "execution_count": 3,
   "metadata": {},
   "outputs": [
    {
     "name": "stderr",
     "output_type": "stream",
     "text": [
      "/var/folders/pd/8mtfl9m11sbf2r8nhg8s0jc80000gp/T/ipykernel_18913/3557697726.py:4: FutureWarning: The default value of regex will change from True to False in a future version.\n",
      "  df['product_name'] = df['product_name'].str.replace(pattern, '')\n"
     ]
    }
   ],
   "source": [
    "# product_id extraction in a new column with a regex and deletion from first column\n",
    "pattern = r'\\((.*?)\\)'\n",
    "df['product_id'] = df['product_name'].str.extract(pattern, expand=False)\n",
    "df['product_name'] = df['product_name'].str.replace(pattern, '')\n",
    "\n",
    "#deletion of spaces\n",
    "df['product_id'] = df['product_id'].str.strip()\n",
    "df['product_name'] = df['product_name'].str.strip()"
   ]
  },
  {
   "cell_type": "code",
   "execution_count": 4,
   "metadata": {},
   "outputs": [],
   "source": [
    "df.to_csv(\"../../data/_processed/eia_product_name_id.csv\", index=False)"
   ]
  }
 ],
 "metadata": {
  "kernelspec": {
   "display_name": ".venv",
   "language": "python",
   "name": "python3"
  },
  "language_info": {
   "codemirror_mode": {
    "name": "ipython",
    "version": 3
   },
   "file_extension": ".py",
   "mimetype": "text/x-python",
   "name": "python",
   "nbconvert_exporter": "python",
   "pygments_lexer": "ipython3",
   "version": "3.11.3"
  },
  "orig_nbformat": 4
 },
 "nbformat": 4,
 "nbformat_minor": 2
}
