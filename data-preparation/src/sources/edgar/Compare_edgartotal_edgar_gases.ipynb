{
 "cells": [
  {
   "cell_type": "code",
   "execution_count": 164,
   "id": "ae5f7b05",
   "metadata": {},
   "outputs": [],
   "source": [
    "import pandas as pd\n",
    "import numpy as np\n",
    "import hvplot.pandas  # noqa\n",
    "import os\n",
    "import sys\n",
    "module_path = os.path.abspath(os.path.join('../../'))\n",
    "if module_path not in sys.path:\n",
    "    sys.path.append(module_path)\n",
    "    \n",
    "from src.sdp_data.utils.process_data import *\n",
    "from src.sdp_data.utils.info_mapping import *\n",
    "\n",
    "pd.options.plotting.backend = 'holoviews'\n",
    "import re"
   ]
  },
  {
   "cell_type": "markdown",
   "id": "7c4fe556",
   "metadata": {},
   "source": [
    "## Load data"
   ]
  },
  {
   "cell_type": "code",
   "execution_count": 126,
   "id": "344a5795",
   "metadata": {},
   "outputs": [
    {
     "data": {
      "text/html": [
       "<div>\n",
       "<style scoped>\n",
       "    .dataframe tbody tr th:only-of-type {\n",
       "        vertical-align: middle;\n",
       "    }\n",
       "\n",
       "    .dataframe tbody tr th {\n",
       "        vertical-align: top;\n",
       "    }\n",
       "\n",
       "    .dataframe thead th {\n",
       "        text-align: right;\n",
       "    }\n",
       "</style>\n",
       "<table border=\"1\" class=\"dataframe\">\n",
       "  <thead>\n",
       "    <tr style=\"text-align: right;\">\n",
       "      <th></th>\n",
       "      <th>edgar_country_iso3</th>\n",
       "      <th>country</th>\n",
       "      <th>year</th>\n",
       "      <th>value</th>\n",
       "    </tr>\n",
       "  </thead>\n",
       "  <tbody>\n",
       "    <tr>\n",
       "      <th>0</th>\n",
       "      <td>AIR</td>\n",
       "      <td>International Aviation</td>\n",
       "      <td>1970</td>\n",
       "      <td>171.869542</td>\n",
       "    </tr>\n",
       "    <tr>\n",
       "      <th>1</th>\n",
       "      <td>SEA</td>\n",
       "      <td>International Shipping</td>\n",
       "      <td>1970</td>\n",
       "      <td>375.595206</td>\n",
       "    </tr>\n",
       "    <tr>\n",
       "      <th>2</th>\n",
       "      <td>AFG</td>\n",
       "      <td>Afghanistan</td>\n",
       "      <td>1970</td>\n",
       "      <td>17.142304</td>\n",
       "    </tr>\n",
       "    <tr>\n",
       "      <th>3</th>\n",
       "      <td>ALB</td>\n",
       "      <td>Albania</td>\n",
       "      <td>1970</td>\n",
       "      <td>8.117479</td>\n",
       "    </tr>\n",
       "    <tr>\n",
       "      <th>4</th>\n",
       "      <td>DZA</td>\n",
       "      <td>Algeria</td>\n",
       "      <td>1970</td>\n",
       "      <td>55.065044</td>\n",
       "    </tr>\n",
       "  </tbody>\n",
       "</table>\n",
       "</div>"
      ],
      "text/plain": [
       "  edgar_country_iso3                 country  year       value\n",
       "0                AIR  International Aviation  1970  171.869542\n",
       "1                SEA  International Shipping  1970  375.595206\n",
       "2                AFG             Afghanistan  1970   17.142304\n",
       "3                ALB                 Albania  1970    8.117479\n",
       "4                DZA                 Algeria  1970   55.065044"
      ]
     },
     "execution_count": 126,
     "metadata": {},
     "output_type": "execute_result"
    }
   ],
   "source": [
    "csv_file_path = \"../../data/_raw/edgar/edgar_file_em_tot_co2eq.csv\"\n",
    "df_edgar_tot = pd.read_csv(csv_file_path)\n",
    "df_edgar_tot = process_df(df_edgar_tot)\n",
    "df_edgar_tot.head()"
   ]
  },
  {
   "cell_type": "code",
   "execution_count": 118,
   "id": "d3bac057",
   "metadata": {},
   "outputs": [
    {
     "data": {
      "text/html": [
       "<div>\n",
       "<style scoped>\n",
       "    .dataframe tbody tr th:only-of-type {\n",
       "        vertical-align: middle;\n",
       "    }\n",
       "\n",
       "    .dataframe tbody tr th {\n",
       "        vertical-align: top;\n",
       "    }\n",
       "\n",
       "    .dataframe thead th {\n",
       "        text-align: right;\n",
       "    }\n",
       "</style>\n",
       "<table border=\"1\" class=\"dataframe\">\n",
       "  <thead>\n",
       "    <tr style=\"text-align: right;\">\n",
       "      <th></th>\n",
       "      <th>country_iso3_a3</th>\n",
       "      <th>country_name</th>\n",
       "      <th>region_name</th>\n",
       "      <th>sector</th>\n",
       "      <th>gas</th>\n",
       "      <th>year</th>\n",
       "      <th>value_kt</th>\n",
       "      <th>value_mteqco2</th>\n",
       "      <th>source</th>\n",
       "    </tr>\n",
       "  </thead>\n",
       "  <tbody>\n",
       "    <tr>\n",
       "      <th>0</th>\n",
       "      <td>ABW</td>\n",
       "      <td>Aruba</td>\n",
       "      <td>Amériques</td>\n",
       "      <td>Energy</td>\n",
       "      <td>CO2</td>\n",
       "      <td>1970</td>\n",
       "      <td>0.022397</td>\n",
       "      <td>0.000022</td>\n",
       "      <td>EDGAR</td>\n",
       "    </tr>\n",
       "    <tr>\n",
       "      <th>1</th>\n",
       "      <td>ABW</td>\n",
       "      <td>Aruba</td>\n",
       "      <td>Amériques</td>\n",
       "      <td>Energy</td>\n",
       "      <td>CO2</td>\n",
       "      <td>1970</td>\n",
       "      <td>12.228673</td>\n",
       "      <td>0.012229</td>\n",
       "      <td>EDGAR</td>\n",
       "    </tr>\n",
       "    <tr>\n",
       "      <th>2</th>\n",
       "      <td>ABW</td>\n",
       "      <td>Aruba</td>\n",
       "      <td>Amériques</td>\n",
       "      <td>Energy</td>\n",
       "      <td>CO2</td>\n",
       "      <td>1970</td>\n",
       "      <td>0.879948</td>\n",
       "      <td>0.000880</td>\n",
       "      <td>EDGAR</td>\n",
       "    </tr>\n",
       "    <tr>\n",
       "      <th>3</th>\n",
       "      <td>ABW</td>\n",
       "      <td>Aruba</td>\n",
       "      <td>Amériques</td>\n",
       "      <td>Energy</td>\n",
       "      <td>CO2</td>\n",
       "      <td>1970</td>\n",
       "      <td>0.058367</td>\n",
       "      <td>0.000058</td>\n",
       "      <td>EDGAR</td>\n",
       "    </tr>\n",
       "    <tr>\n",
       "      <th>4</th>\n",
       "      <td>ABW</td>\n",
       "      <td>Aruba</td>\n",
       "      <td>Amériques</td>\n",
       "      <td>Energy</td>\n",
       "      <td>CO2</td>\n",
       "      <td>1970</td>\n",
       "      <td>NaN</td>\n",
       "      <td>NaN</td>\n",
       "      <td>EDGAR</td>\n",
       "    </tr>\n",
       "  </tbody>\n",
       "</table>\n",
       "</div>"
      ],
      "text/plain": [
       "  country_iso3_a3 country_name region_name  sector  gas  year   value_kt  \\\n",
       "0             ABW        Aruba   Amériques  Energy  CO2  1970   0.022397   \n",
       "1             ABW        Aruba   Amériques  Energy  CO2  1970  12.228673   \n",
       "2             ABW        Aruba   Amériques  Energy  CO2  1970   0.879948   \n",
       "3             ABW        Aruba   Amériques  Energy  CO2  1970   0.058367   \n",
       "4             ABW        Aruba   Amériques  Energy  CO2  1970        NaN   \n",
       "\n",
       "   value_mteqco2 source  \n",
       "0       0.000022  EDGAR  \n",
       "1       0.012229  EDGAR  \n",
       "2       0.000880  EDGAR  \n",
       "3       0.000058  EDGAR  \n",
       "4            NaN  EDGAR  "
      ]
     },
     "execution_count": 118,
     "metadata": {},
     "output_type": "execute_result"
    }
   ],
   "source": [
    "csv_file_path = \"../../data/_processed/edgar_processed_ch4_n2o_co2_fgases.csv\"\n",
    "df_edgar_gas = pd.read_csv(csv_file_path)\n",
    "df_edgar_gas = process_df(df_edgar_gas)\n",
    "df_edgar_gas.head()"
   ]
  },
  {
   "cell_type": "markdown",
   "id": "d5b65762",
   "metadata": {},
   "source": [
    "## Process data"
   ]
  },
  {
   "cell_type": "code",
   "execution_count": 124,
   "id": "6442c0ff",
   "metadata": {},
   "outputs": [
    {
     "data": {
      "text/html": [
       "<div>\n",
       "<style scoped>\n",
       "    .dataframe tbody tr th:only-of-type {\n",
       "        vertical-align: middle;\n",
       "    }\n",
       "\n",
       "    .dataframe tbody tr th {\n",
       "        vertical-align: top;\n",
       "    }\n",
       "\n",
       "    .dataframe thead th {\n",
       "        text-align: right;\n",
       "    }\n",
       "</style>\n",
       "<table border=\"1\" class=\"dataframe\">\n",
       "  <thead>\n",
       "    <tr style=\"text-align: right;\">\n",
       "      <th></th>\n",
       "      <th>year</th>\n",
       "      <th>country_iso3_a3</th>\n",
       "      <th>value_mteqco2</th>\n",
       "      <th>value_kt</th>\n",
       "    </tr>\n",
       "  </thead>\n",
       "  <tbody>\n",
       "    <tr>\n",
       "      <th>0</th>\n",
       "      <td>1970</td>\n",
       "      <td>ABW</td>\n",
       "      <td>0.113493</td>\n",
       "      <td>95.759401</td>\n",
       "    </tr>\n",
       "    <tr>\n",
       "      <th>1</th>\n",
       "      <td>1970</td>\n",
       "      <td>AFG</td>\n",
       "      <td>17.695872</td>\n",
       "      <td>3812.993972</td>\n",
       "    </tr>\n",
       "    <tr>\n",
       "      <th>2</th>\n",
       "      <td>1970</td>\n",
       "      <td>AGO</td>\n",
       "      <td>30.444113</td>\n",
       "      <td>20730.627902</td>\n",
       "    </tr>\n",
       "    <tr>\n",
       "      <th>3</th>\n",
       "      <td>1970</td>\n",
       "      <td>AIA</td>\n",
       "      <td>0.004410</td>\n",
       "      <td>2.256104</td>\n",
       "    </tr>\n",
       "    <tr>\n",
       "      <th>4</th>\n",
       "      <td>1970</td>\n",
       "      <td>AIR</td>\n",
       "      <td>172.200851</td>\n",
       "      <td>169311.748452</td>\n",
       "    </tr>\n",
       "  </tbody>\n",
       "</table>\n",
       "</div>"
      ],
      "text/plain": [
       "   year country_iso3_a3  value_mteqco2       value_kt\n",
       "0  1970             ABW       0.113493      95.759401\n",
       "1  1970             AFG      17.695872    3812.993972\n",
       "2  1970             AGO      30.444113   20730.627902\n",
       "3  1970             AIA       0.004410       2.256104\n",
       "4  1970             AIR     172.200851  169311.748452"
      ]
     },
     "execution_count": 124,
     "metadata": {},
     "output_type": "execute_result"
    }
   ],
   "source": [
    "df_edgar_gas_process = df_edgar_gas.groupby(['year', 'country_iso3_a3'])[['value_mteqco2','value_kt']].sum().reset_index()\n",
    "df_edgar_gas_process.head()"
   ]
  },
  {
   "cell_type": "markdown",
   "id": "59e746e3",
   "metadata": {},
   "source": [
    "## Analyse total CO2eq differences "
   ]
  },
  {
   "cell_type": "code",
   "execution_count": 159,
   "id": "5955c977",
   "metadata": {},
   "outputs": [
    {
     "data": {
      "text/html": [
       "<div>\n",
       "<style scoped>\n",
       "    .dataframe tbody tr th:only-of-type {\n",
       "        vertical-align: middle;\n",
       "    }\n",
       "\n",
       "    .dataframe tbody tr th {\n",
       "        vertical-align: top;\n",
       "    }\n",
       "\n",
       "    .dataframe thead th {\n",
       "        text-align: right;\n",
       "    }\n",
       "</style>\n",
       "<table border=\"1\" class=\"dataframe\">\n",
       "  <thead>\n",
       "    <tr style=\"text-align: right;\">\n",
       "      <th></th>\n",
       "      <th>year</th>\n",
       "      <th>country_iso3_a3</th>\n",
       "      <th>value_mteqco2</th>\n",
       "      <th>value_kt</th>\n",
       "      <th>edgar_country_iso3</th>\n",
       "      <th>country</th>\n",
       "      <th>value</th>\n",
       "      <th>diff</th>\n",
       "    </tr>\n",
       "  </thead>\n",
       "  <tbody>\n",
       "    <tr>\n",
       "      <th>0</th>\n",
       "      <td>1970</td>\n",
       "      <td>ABW</td>\n",
       "      <td>0.113493</td>\n",
       "      <td>95.759401</td>\n",
       "      <td>ABW</td>\n",
       "      <td>Aruba</td>\n",
       "      <td>0.102236</td>\n",
       "      <td>0.011256</td>\n",
       "    </tr>\n",
       "    <tr>\n",
       "      <th>1</th>\n",
       "      <td>1970</td>\n",
       "      <td>AFG</td>\n",
       "      <td>17.695872</td>\n",
       "      <td>3812.993972</td>\n",
       "      <td>AFG</td>\n",
       "      <td>Afghanistan</td>\n",
       "      <td>17.142304</td>\n",
       "      <td>0.553567</td>\n",
       "    </tr>\n",
       "    <tr>\n",
       "      <th>2</th>\n",
       "      <td>1970</td>\n",
       "      <td>AGO</td>\n",
       "      <td>30.444113</td>\n",
       "      <td>20730.627902</td>\n",
       "      <td>AGO</td>\n",
       "      <td>Angola</td>\n",
       "      <td>19.792031</td>\n",
       "      <td>10.652082</td>\n",
       "    </tr>\n",
       "    <tr>\n",
       "      <th>3</th>\n",
       "      <td>1970</td>\n",
       "      <td>AIA</td>\n",
       "      <td>0.004410</td>\n",
       "      <td>2.256104</td>\n",
       "      <td>AIA</td>\n",
       "      <td>Anguilla</td>\n",
       "      <td>0.004667</td>\n",
       "      <td>0.000257</td>\n",
       "    </tr>\n",
       "    <tr>\n",
       "      <th>4</th>\n",
       "      <td>1970</td>\n",
       "      <td>AIR</td>\n",
       "      <td>172.200851</td>\n",
       "      <td>169311.748452</td>\n",
       "      <td>AIR</td>\n",
       "      <td>International Aviation</td>\n",
       "      <td>171.869542</td>\n",
       "      <td>0.331309</td>\n",
       "    </tr>\n",
       "  </tbody>\n",
       "</table>\n",
       "</div>"
      ],
      "text/plain": [
       "   year country_iso3_a3  value_mteqco2       value_kt edgar_country_iso3  \\\n",
       "0  1970             ABW       0.113493      95.759401                ABW   \n",
       "1  1970             AFG      17.695872    3812.993972                AFG   \n",
       "2  1970             AGO      30.444113   20730.627902                AGO   \n",
       "3  1970             AIA       0.004410       2.256104                AIA   \n",
       "4  1970             AIR     172.200851  169311.748452                AIR   \n",
       "\n",
       "                  country       value       diff  \n",
       "0                   Aruba    0.102236   0.011256  \n",
       "1             Afghanistan   17.142304   0.553567  \n",
       "2                  Angola   19.792031  10.652082  \n",
       "3                Anguilla    0.004667   0.000257  \n",
       "4  International Aviation  171.869542   0.331309  "
      ]
     },
     "execution_count": 159,
     "metadata": {},
     "output_type": "execute_result"
    }
   ],
   "source": [
    "df_merged_reg = df_edgar_gas_process.merge(df_edgar_tot, left_on=['year','country_iso3_a3'], right_on=['year','edgar_country_iso3'], how='left')\n",
    "df_merged_reg[\"diff\"] = abs(df_merged_reg[\"value_mteqco2\"] - df_merged_reg[\"value\"])\n",
    "df_merged_reg.head()"
   ]
  },
  {
   "cell_type": "code",
   "execution_count": 160,
   "id": "6d45093b",
   "metadata": {},
   "outputs": [
    {
     "data": {
      "text/plain": [
       "3.5006069186282742"
      ]
     },
     "execution_count": 160,
     "metadata": {},
     "output_type": "execute_result"
    }
   ],
   "source": [
    "# calculate meadian of mean average error by country \n",
    "df_merged_reg.groupby(['country_iso3_a3'])[['diff']].mean().reset_index()['diff'].median()"
   ]
  },
  {
   "cell_type": "code",
   "execution_count": 162,
   "id": "733c2ca1",
   "metadata": {
    "scrolled": true
   },
   "outputs": [
    {
     "data": {
      "text/plain": [
       "22.244697211126763"
      ]
     },
     "execution_count": 162,
     "metadata": {},
     "output_type": "execute_result"
    }
   ],
   "source": [
    "# calculate meadian of mean average error by year \n",
    "df_merged_reg.groupby(['year'])[['diff']].mean().reset_index()['diff'].median()"
   ]
  },
  {
   "cell_type": "code",
   "execution_count": null,
   "id": "ed7c3e7f",
   "metadata": {},
   "outputs": [],
   "source": []
  },
  {
   "cell_type": "code",
   "execution_count": 75,
   "id": "df9b0f9b",
   "metadata": {
    "scrolled": true
   },
   "outputs": [
    {
     "name": "stderr",
     "output_type": "stream",
     "text": [
      "C:\\Users\\HP\\AppData\\Local\\Temp\\ipykernel_2868\\1025749077.py:4: FutureWarning: The default value of numeric_only in DataFrameGroupBy.sum is deprecated. In a future version, numeric_only will default to False. Either specify numeric_only or select only columns which should be valid for the function.\n",
      "  pik_KYOTOGHG = pik_KYOTOGHG.groupby('country').sum()\n"
     ]
    },
    {
     "data": {
      "text/html": [
       "<div>\n",
       "<style scoped>\n",
       "    .dataframe tbody tr th:only-of-type {\n",
       "        vertical-align: middle;\n",
       "    }\n",
       "\n",
       "    .dataframe tbody tr th {\n",
       "        vertical-align: top;\n",
       "    }\n",
       "\n",
       "    .dataframe thead th {\n",
       "        text-align: right;\n",
       "    }\n",
       "</style>\n",
       "<table border=\"1\" class=\"dataframe\">\n",
       "  <thead>\n",
       "    <tr style=\"text-align: right;\">\n",
       "      <th></th>\n",
       "      <th>pik_country_iso3</th>\n",
       "      <th>year</th>\n",
       "      <th>value</th>\n",
       "    </tr>\n",
       "  </thead>\n",
       "  <tbody>\n",
       "    <tr>\n",
       "      <th>0</th>\n",
       "      <td>ABW</td>\n",
       "      <td>1850</td>\n",
       "      <td>0.000758</td>\n",
       "    </tr>\n",
       "    <tr>\n",
       "      <th>1</th>\n",
       "      <td>ABW</td>\n",
       "      <td>1851</td>\n",
       "      <td>0.000767</td>\n",
       "    </tr>\n",
       "    <tr>\n",
       "      <th>2</th>\n",
       "      <td>ABW</td>\n",
       "      <td>1852</td>\n",
       "      <td>0.000776</td>\n",
       "    </tr>\n",
       "    <tr>\n",
       "      <th>3</th>\n",
       "      <td>ABW</td>\n",
       "      <td>1853</td>\n",
       "      <td>0.000789</td>\n",
       "    </tr>\n",
       "    <tr>\n",
       "      <th>4</th>\n",
       "      <td>ABW</td>\n",
       "      <td>1854</td>\n",
       "      <td>0.000803</td>\n",
       "    </tr>\n",
       "  </tbody>\n",
       "</table>\n",
       "</div>"
      ],
      "text/plain": [
       "  pik_country_iso3  year     value\n",
       "0              ABW  1850  0.000758\n",
       "1              ABW  1851  0.000767\n",
       "2              ABW  1852  0.000776\n",
       "3              ABW  1853  0.000789\n",
       "4              ABW  1854  0.000803"
      ]
     },
     "execution_count": 75,
     "metadata": {},
     "output_type": "execute_result"
    }
   ],
   "source": [
    "pik_KYOTOGHG = pik[pik['gas']=='KYOTOGHG']\n",
    "pik_KYOTOGHG = pik_KYOTOGHG[pik_KYOTOGHG['sector']=='Total excluding LULUCF']#pik_KYOTOGHG.groupby('country').sum()\n",
    "pik_KYOTOGHG.drop(columns=['gas', 'source'], inplace=True)\n",
    "pik_KYOTOGHG = pik_KYOTOGHG.groupby('country').sum()\n",
    "pik_KYOTOGHG = pik_KYOTOGHG.stack().reset_index()\n",
    "pik_KYOTOGHG.rename(columns={\"country\":\"pik_country_iso3\", \"level_1\": \"year\", 0: \"value\"}, errors=\"raise\", inplace=True)\n",
    "pik_KYOTOGHG = process_df(pik_KYOTOGHG)\n",
    "pik_KYOTOGHG.head()"
   ]
  },
  {
   "cell_type": "code",
   "execution_count": 76,
   "id": "21395086",
   "metadata": {},
   "outputs": [
    {
     "name": "stderr",
     "output_type": "stream",
     "text": [
      "C:\\Users\\HP\\AppData\\Local\\Temp\\ipykernel_2868\\1856824429.py:4: FutureWarning: The default value of numeric_only in DataFrameGroupBy.sum is deprecated. In a future version, numeric_only will default to False. Either specify numeric_only or select only columns which should be valid for the function.\n",
      "  pik_KYOTOGHG = pik_KYOTOGHG.groupby('country').sum()\n"
     ]
    },
    {
     "data": {
      "text/html": [
       "<div>\n",
       "<style scoped>\n",
       "    .dataframe tbody tr th:only-of-type {\n",
       "        vertical-align: middle;\n",
       "    }\n",
       "\n",
       "    .dataframe tbody tr th {\n",
       "        vertical-align: top;\n",
       "    }\n",
       "\n",
       "    .dataframe thead th {\n",
       "        text-align: right;\n",
       "    }\n",
       "</style>\n",
       "<table border=\"1\" class=\"dataframe\">\n",
       "  <thead>\n",
       "    <tr style=\"text-align: right;\">\n",
       "      <th></th>\n",
       "      <th>pik_country_iso3</th>\n",
       "      <th>year</th>\n",
       "      <th>value</th>\n",
       "    </tr>\n",
       "  </thead>\n",
       "  <tbody>\n",
       "    <tr>\n",
       "      <th>0</th>\n",
       "      <td>ABW</td>\n",
       "      <td>1850</td>\n",
       "      <td>0.000758</td>\n",
       "    </tr>\n",
       "    <tr>\n",
       "      <th>1</th>\n",
       "      <td>ABW</td>\n",
       "      <td>1851</td>\n",
       "      <td>0.000767</td>\n",
       "    </tr>\n",
       "    <tr>\n",
       "      <th>2</th>\n",
       "      <td>ABW</td>\n",
       "      <td>1852</td>\n",
       "      <td>0.000776</td>\n",
       "    </tr>\n",
       "    <tr>\n",
       "      <th>3</th>\n",
       "      <td>ABW</td>\n",
       "      <td>1853</td>\n",
       "      <td>0.000790</td>\n",
       "    </tr>\n",
       "    <tr>\n",
       "      <th>4</th>\n",
       "      <td>ABW</td>\n",
       "      <td>1854</td>\n",
       "      <td>0.000803</td>\n",
       "    </tr>\n",
       "  </tbody>\n",
       "</table>\n",
       "</div>"
      ],
      "text/plain": [
       "  pik_country_iso3  year     value\n",
       "0              ABW  1850  0.000758\n",
       "1              ABW  1851  0.000767\n",
       "2              ABW  1852  0.000776\n",
       "3              ABW  1853  0.000790\n",
       "4              ABW  1854  0.000803"
      ]
     },
     "execution_count": 76,
     "metadata": {},
     "output_type": "execute_result"
    }
   ],
   "source": [
    "pik_KYOTOGHG = pik[pik['gas']=='KYOTOGHG']\n",
    "pik_KYOTOGHG = pik_KYOTOGHG.drop(pik_KYOTOGHG[pik_KYOTOGHG['sector']=='Total excluding LULUCF'].index).reset_index(drop=True)#pik_KYOTOGHG[pik_KYOTOGHG['sector']=='Total excluding LULUCF']#pik_KYOTOGHG.groupby('country').sum()\n",
    "pik_KYOTOGHG.drop(columns=['gas', 'source'], inplace=True)\n",
    "pik_KYOTOGHG = pik_KYOTOGHG.groupby('country').sum()\n",
    "pik_KYOTOGHG = pik_KYOTOGHG.stack().reset_index()\n",
    "pik_KYOTOGHG.rename(columns={\"country\":\"pik_country_iso3\", \"level_1\": \"year\", 0: \"value\"}, errors=\"raise\", inplace=True)\n",
    "pik_KYOTOGHG = process_df(pik_KYOTOGHG)\n",
    "pik_KYOTOGHG.head()"
   ]
  },
  {
   "cell_type": "code",
   "execution_count": 77,
   "id": "81bc36c7",
   "metadata": {},
   "outputs": [
    {
     "data": {
      "text/plain": [
       "[<matplotlib.lines.Line2D at 0x1d9cba94820>]"
      ]
     },
     "execution_count": 77,
     "metadata": {},
     "output_type": "execute_result"
    },
    {
     "data": {
      "image/png": "[encoded data removed]",
      "text/plain": [
       "<Figure size 640x480 with 1 Axes>"
      ]
     },
     "metadata": {},
     "output_type": "display_data"
    }
   ],
   "source": [
    "plt.plot(pik_KYOTOGHG[(pik_KYOTOGHG[\"pik_country_iso3\"]==\"ABW\") & (pik_KYOTOGHG[\"year\"]>1970)][\"year\"], pik_KYOTOGHG[(pik_KYOTOGHG[\"pik_country_iso3\"]==\"ABW\") & (pik_KYOTOGHG[\"year\"]>1970)][\"value\"])"
   ]
  },
  {
   "cell_type": "code",
   "execution_count": 78,
   "id": "1a03e2e7",
   "metadata": {},
   "outputs": [
    {
     "data": {
      "text/plain": [
       "[<matplotlib.lines.Line2D at 0x1d9cbb05ca0>]"
      ]
     },
     "execution_count": 78,
     "metadata": {},
     "output_type": "execute_result"
    },
    {
     "data": {
      "image/png": "[encoded data removed]",
      "text/plain": [
       "<Figure size 640x480 with 1 Axes>"
      ]
     },
     "metadata": {},
     "output_type": "display_data"
    }
   ],
   "source": [
    "plt.plot(tot_co2eq[tot_co2eq[\"edgar_country_iso3\"]==\"ABW\"][\"year\"],tot_co2eq[tot_co2eq[\"edgar_country_iso3\"]==\"ABW\"][\"value\"])"
   ]
  },
  {
   "cell_type": "code",
   "execution_count": 92,
   "id": "b3017f4e",
   "metadata": {},
   "outputs": [
    {
     "data": {
      "text/html": [
       "<div>\n",
       "<style scoped>\n",
       "    .dataframe tbody tr th:only-of-type {\n",
       "        vertical-align: middle;\n",
       "    }\n",
       "\n",
       "    .dataframe tbody tr th {\n",
       "        vertical-align: top;\n",
       "    }\n",
       "\n",
       "    .dataframe thead th {\n",
       "        text-align: right;\n",
       "    }\n",
       "</style>\n",
       "<table border=\"1\" class=\"dataframe\">\n",
       "  <thead>\n",
       "    <tr style=\"text-align: right;\">\n",
       "      <th></th>\n",
       "      <th>edgar_country_iso3</th>\n",
       "      <th>country</th>\n",
       "      <th>year</th>\n",
       "      <th>value</th>\n",
       "    </tr>\n",
       "  </thead>\n",
       "  <tbody>\n",
       "    <tr>\n",
       "      <th>14310</th>\n",
       "      <td>FRA</td>\n",
       "      <td>France and Monaco</td>\n",
       "      <td>2010</td>\n",
       "      <td>514.559839</td>\n",
       "    </tr>\n",
       "  </tbody>\n",
       "</table>\n",
       "</div>"
      ],
      "text/plain": [
       "      edgar_country_iso3            country  year       value\n",
       "14310                FRA  France and Monaco  2010  514.559839"
      ]
     },
     "execution_count": 92,
     "metadata": {},
     "output_type": "execute_result"
    }
   ],
   "source": [
    "tot_co2eq[(tot_co2eq[\"edgar_country_iso3\"]==\"FRA\") & (tot_co2eq[\"year\"]==2010)]"
   ]
  },
  {
   "cell_type": "code",
   "execution_count": 91,
   "id": "c739b203",
   "metadata": {},
   "outputs": [
    {
     "data": {
      "text/html": [
       "<div>\n",
       "<style scoped>\n",
       "    .dataframe tbody tr th:only-of-type {\n",
       "        vertical-align: middle;\n",
       "    }\n",
       "\n",
       "    .dataframe tbody tr th {\n",
       "        vertical-align: top;\n",
       "    }\n",
       "\n",
       "    .dataframe thead th {\n",
       "        text-align: right;\n",
       "    }\n",
       "</style>\n",
       "<table border=\"1\" class=\"dataframe\">\n",
       "  <thead>\n",
       "    <tr style=\"text-align: right;\">\n",
       "      <th></th>\n",
       "      <th>pik_country_iso3</th>\n",
       "      <th>year</th>\n",
       "      <th>value</th>\n",
       "    </tr>\n",
       "  </thead>\n",
       "  <tbody>\n",
       "    <tr>\n",
       "      <th>11684</th>\n",
       "      <td>FRA</td>\n",
       "      <td>2010</td>\n",
       "      <td>514.17</td>\n",
       "    </tr>\n",
       "  </tbody>\n",
       "</table>\n",
       "</div>"
      ],
      "text/plain": [
       "      pik_country_iso3  year   value\n",
       "11684              FRA  2010  514.17"
      ]
     },
     "execution_count": 91,
     "metadata": {},
     "output_type": "execute_result"
    }
   ],
   "source": [
    "pik_KYOTOGHG[(pik_KYOTOGHG[\"pik_country_iso3\"]==\"FRA\") & (pik_KYOTOGHG[\"year\"]==2010)]"
   ]
  },
  {
   "cell_type": "code",
   "execution_count": null,
   "id": "b4063caa",
   "metadata": {},
   "outputs": [],
   "source": []
  },
  {
   "cell_type": "code",
   "execution_count": null,
   "id": "77110d66",
   "metadata": {},
   "outputs": [],
   "source": []
  },
  {
   "cell_type": "code",
   "execution_count": null,
   "id": "f09a136c",
   "metadata": {},
   "outputs": [],
   "source": []
  }
 ],
 "metadata": {
  "kernelspec": {
   "display_name": "Python 3 (ipykernel)",
   "language": "python",
   "name": "python3"
  },
  "language_info": {
   "codemirror_mode": {
    "name": "ipython",
    "version": 3
   },
   "file_extension": ".py",
   "mimetype": "text/x-python",
   "name": "python",
   "nbconvert_exporter": "python",
   "pygments_lexer": "ipython3",
   "version": "3.9.13"
  }
 },
 "nbformat": 4,
 "nbformat_minor": 5
}
