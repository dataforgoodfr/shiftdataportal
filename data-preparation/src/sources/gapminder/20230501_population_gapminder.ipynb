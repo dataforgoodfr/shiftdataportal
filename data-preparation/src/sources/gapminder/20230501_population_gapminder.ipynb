{
 "cells": [
  {
   "cell_type": "code",
   "execution_count": 2,
   "id": "6b1766db",
   "metadata": {},
   "outputs": [
    {
     "name": "stdout",
     "output_type": "stream",
     "text": [
      "Requirement already satisfied: gapminder in /home/nicog/_work/d4g/madada/dada-core/dada-obs/.venv/lib/python3.9/site-packages (0.1)\n",
      "Requirement already satisfied: pandas in /home/nicog/_work/d4g/madada/dada-core/dada-obs/.venv/lib/python3.9/site-packages (from gapminder) (1.5.3)\n",
      "Requirement already satisfied: pytz>=2020.1 in /home/nicog/_work/d4g/madada/dada-core/dada-obs/.venv/lib/python3.9/site-packages (from pandas->gapminder) (2023.3)\n",
      "Requirement already satisfied: python-dateutil>=2.8.1 in /home/nicog/_work/d4g/madada/dada-core/dada-obs/.venv/lib/python3.9/site-packages (from pandas->gapminder) (2.8.2)\n",
      "Requirement already satisfied: numpy>=1.20.3 in /home/nicog/_work/d4g/madada/dada-core/dada-obs/.venv/lib/python3.9/site-packages (from pandas->gapminder) (1.24.2)\n",
      "Requirement already satisfied: six>=1.5 in /home/nicog/_work/d4g/madada/dada-core/dada-obs/.venv/lib/python3.9/site-packages (from python-dateutil>=2.8.1->pandas->gapminder) (1.16.0)\n",
      "\n",
      "\u001b[1m[\u001b[0m\u001b[34;49mnotice\u001b[0m\u001b[1;39;49m]\u001b[0m\u001b[39;49m A new release of pip is available: \u001b[0m\u001b[31;49m23.0.1\u001b[0m\u001b[39;49m -> \u001b[0m\u001b[32;49m23.1.2\u001b[0m\n",
      "\u001b[1m[\u001b[0m\u001b[34;49mnotice\u001b[0m\u001b[1;39;49m]\u001b[0m\u001b[39;49m To update, run: \u001b[0m\u001b[32;49mpip install --upgrade pip\u001b[0m\n",
      "Collecting pycountry\n",
      "  Using cached pycountry-22.3.5-py2.py3-none-any.whl\n",
      "Requirement already satisfied: setuptools in /home/nicog/_work/d4g/madada/dada-core/dada-obs/.venv/lib/python3.9/site-packages (from pycountry) (67.6.1)\n",
      "Installing collected packages: pycountry\n",
      "Successfully installed pycountry-22.3.5\n",
      "\n",
      "\u001b[1m[\u001b[0m\u001b[34;49mnotice\u001b[0m\u001b[1;39;49m]\u001b[0m\u001b[39;49m A new release of pip is available: \u001b[0m\u001b[31;49m23.0.1\u001b[0m\u001b[39;49m -> \u001b[0m\u001b[32;49m23.1.2\u001b[0m\n",
      "\u001b[1m[\u001b[0m\u001b[34;49mnotice\u001b[0m\u001b[1;39;49m]\u001b[0m\u001b[39;49m To update, run: \u001b[0m\u001b[32;49mpip install --upgrade pip\u001b[0m\n"
     ]
    }
   ],
   "source": [
    "!pip install gapminder\n",
    "!pip install pycountry"
   ]
  },
  {
   "cell_type": "code",
   "execution_count": 20,
   "id": "c0040e63",
   "metadata": {},
   "outputs": [],
   "source": [
    "import pandas as pd\n",
    "import matplotlib.pyplot as plt\n",
    "import pycountry\n",
    "from gapminder import gapminder"
   ]
  },
  {
   "attachments": {},
   "cell_type": "markdown",
   "id": "a320b097",
   "metadata": {},
   "source": [
    "# Get data from Gapminder"
   ]
  },
  {
   "cell_type": "code",
   "execution_count": 6,
   "id": "ceb6a1cb",
   "metadata": {},
   "outputs": [
    {
     "data": {
      "text/html": [
       "<div>\n",
       "<style scoped>\n",
       "    .dataframe tbody tr th:only-of-type {\n",
       "        vertical-align: middle;\n",
       "    }\n",
       "\n",
       "    .dataframe tbody tr th {\n",
       "        vertical-align: top;\n",
       "    }\n",
       "\n",
       "    .dataframe thead th {\n",
       "        text-align: right;\n",
       "    }\n",
       "</style>\n",
       "<table border=\"1\" class=\"dataframe\">\n",
       "  <thead>\n",
       "    <tr style=\"text-align: right;\">\n",
       "      <th></th>\n",
       "      <th>year</th>\n",
       "      <th>country</th>\n",
       "      <th>pop</th>\n",
       "    </tr>\n",
       "  </thead>\n",
       "  <tbody>\n",
       "    <tr>\n",
       "      <th>0</th>\n",
       "      <td>1952</td>\n",
       "      <td>Afghanistan</td>\n",
       "      <td>8425333</td>\n",
       "    </tr>\n",
       "    <tr>\n",
       "      <th>1</th>\n",
       "      <td>1957</td>\n",
       "      <td>Afghanistan</td>\n",
       "      <td>9240934</td>\n",
       "    </tr>\n",
       "    <tr>\n",
       "      <th>2</th>\n",
       "      <td>1962</td>\n",
       "      <td>Afghanistan</td>\n",
       "      <td>10267083</td>\n",
       "    </tr>\n",
       "    <tr>\n",
       "      <th>3</th>\n",
       "      <td>1967</td>\n",
       "      <td>Afghanistan</td>\n",
       "      <td>11537966</td>\n",
       "    </tr>\n",
       "    <tr>\n",
       "      <th>4</th>\n",
       "      <td>1972</td>\n",
       "      <td>Afghanistan</td>\n",
       "      <td>13079460</td>\n",
       "    </tr>\n",
       "  </tbody>\n",
       "</table>\n",
       "</div>"
      ],
      "text/plain": [
       "   year      country       pop\n",
       "0  1952  Afghanistan   8425333\n",
       "1  1957  Afghanistan   9240934\n",
       "2  1962  Afghanistan  10267083\n",
       "3  1967  Afghanistan  11537966\n",
       "4  1972  Afghanistan  13079460"
      ]
     },
     "execution_count": 6,
     "metadata": {},
     "output_type": "execute_result"
    }
   ],
   "source": [
    "# Filter the data for population information\n",
    "population_data = gapminder[['year', 'country', 'pop']]\n",
    "\n",
    "# Display the population data\n",
    "population_data.head()"
   ]
  },
  {
   "attachments": {},
   "cell_type": "markdown",
   "id": "2c3053ea",
   "metadata": {},
   "source": [
    "# Add country codes"
   ]
  },
  {
   "attachments": {},
   "cell_type": "markdown",
   "id": "7fdd0f00",
   "metadata": {},
   "source": [
    "## Helper function to get country codes"
   ]
  },
  {
   "cell_type": "code",
   "execution_count": 4,
   "id": "0195eb56",
   "metadata": {},
   "outputs": [],
   "source": [
    "def get_country_code(country_name):\n",
    "    try:\n",
    "        country = pycountry.countries.search_fuzzy(country_name)\n",
    "        return country[0].alpha_3\n",
    "    except:\n",
    "        return None"
   ]
  },
  {
   "cell_type": "code",
   "execution_count": 5,
   "id": "f9ebb031",
   "metadata": {},
   "outputs": [
    {
     "data": {
      "text/plain": [
       "'FRA'"
      ]
     },
     "execution_count": 5,
     "metadata": {},
     "output_type": "execute_result"
    }
   ],
   "source": [
    "get_country_code(\"France\")"
   ]
  },
  {
   "attachments": {},
   "cell_type": "markdown",
   "id": "d18e22e8",
   "metadata": {},
   "source": [
    "## Create mapping table"
   ]
  },
  {
   "cell_type": "code",
   "execution_count": 1,
   "id": "b04ad26f",
   "metadata": {},
   "outputs": [
    {
     "ename": "NameError",
     "evalue": "name 'gapminder' is not defined",
     "output_type": "error",
     "traceback": [
      "\u001b[0;31m---------------------------------------------------------------------------\u001b[0m",
      "\u001b[0;31mNameError\u001b[0m                                 Traceback (most recent call last)",
      "Cell \u001b[0;32mIn[1], line 1\u001b[0m\n\u001b[0;32m----> 1\u001b[0m all_countries \u001b[39m=\u001b[39m \u001b[39mlist\u001b[39m(gapminder[\u001b[39m\"\u001b[39m\u001b[39mcountry\u001b[39m\u001b[39m\"\u001b[39m]\u001b[39m.\u001b[39munique())\n\u001b[1;32m      2\u001b[0m \u001b[39mlen\u001b[39m(all_countries)\n",
      "\u001b[0;31mNameError\u001b[0m: name 'gapminder' is not defined"
     ]
    }
   ],
   "source": [
    "all_countries = list(gapminder[\"country\"].unique())\n",
    "len(all_countries)"
   ]
  },
  {
   "cell_type": "code",
   "execution_count": 10,
   "id": "e726ef80",
   "metadata": {},
   "outputs": [
    {
     "data": {
      "text/html": [
       "<div>\n",
       "<style scoped>\n",
       "    .dataframe tbody tr th:only-of-type {\n",
       "        vertical-align: middle;\n",
       "    }\n",
       "\n",
       "    .dataframe tbody tr th {\n",
       "        vertical-align: top;\n",
       "    }\n",
       "\n",
       "    .dataframe thead th {\n",
       "        text-align: right;\n",
       "    }\n",
       "</style>\n",
       "<table border=\"1\" class=\"dataframe\">\n",
       "  <thead>\n",
       "    <tr style=\"text-align: right;\">\n",
       "      <th></th>\n",
       "      <th>country</th>\n",
       "      <th>country_code</th>\n",
       "    </tr>\n",
       "  </thead>\n",
       "  <tbody>\n",
       "    <tr>\n",
       "      <th>0</th>\n",
       "      <td>Afghanistan</td>\n",
       "      <td>AFG</td>\n",
       "    </tr>\n",
       "    <tr>\n",
       "      <th>1</th>\n",
       "      <td>Albania</td>\n",
       "      <td>ALB</td>\n",
       "    </tr>\n",
       "    <tr>\n",
       "      <th>2</th>\n",
       "      <td>Algeria</td>\n",
       "      <td>DZA</td>\n",
       "    </tr>\n",
       "    <tr>\n",
       "      <th>3</th>\n",
       "      <td>Angola</td>\n",
       "      <td>AGO</td>\n",
       "    </tr>\n",
       "    <tr>\n",
       "      <th>4</th>\n",
       "      <td>Argentina</td>\n",
       "      <td>ARG</td>\n",
       "    </tr>\n",
       "  </tbody>\n",
       "</table>\n",
       "</div>"
      ],
      "text/plain": [
       "       country country_code\n",
       "0  Afghanistan          AFG\n",
       "1      Albania          ALB\n",
       "2      Algeria          DZA\n",
       "3       Angola          AGO\n",
       "4    Argentina          ARG"
      ]
     },
     "execution_count": 10,
     "metadata": {},
     "output_type": "execute_result"
    }
   ],
   "source": [
    "country_mapping = []\n",
    "for country in all_countries:\n",
    "    country_mapping.append({\"country\":country,\"country_code\":get_country_code(country)})\n",
    "country_mapping = pd.DataFrame(country_mapping)\n",
    "country_mapping.head()"
   ]
  },
  {
   "attachments": {},
   "cell_type": "markdown",
   "id": "14553526",
   "metadata": {},
   "source": [
    "## Merge with gapminder dataset"
   ]
  },
  {
   "cell_type": "code",
   "execution_count": 11,
   "id": "49eb7cac",
   "metadata": {},
   "outputs": [
    {
     "data": {
      "text/html": [
       "<div>\n",
       "<style scoped>\n",
       "    .dataframe tbody tr th:only-of-type {\n",
       "        vertical-align: middle;\n",
       "    }\n",
       "\n",
       "    .dataframe tbody tr th {\n",
       "        vertical-align: top;\n",
       "    }\n",
       "\n",
       "    .dataframe thead th {\n",
       "        text-align: right;\n",
       "    }\n",
       "</style>\n",
       "<table border=\"1\" class=\"dataframe\">\n",
       "  <thead>\n",
       "    <tr style=\"text-align: right;\">\n",
       "      <th></th>\n",
       "      <th>year</th>\n",
       "      <th>country</th>\n",
       "      <th>pop</th>\n",
       "      <th>country_code</th>\n",
       "    </tr>\n",
       "  </thead>\n",
       "  <tbody>\n",
       "    <tr>\n",
       "      <th>0</th>\n",
       "      <td>1952</td>\n",
       "      <td>Afghanistan</td>\n",
       "      <td>8425333</td>\n",
       "      <td>AFG</td>\n",
       "    </tr>\n",
       "    <tr>\n",
       "      <th>1</th>\n",
       "      <td>1957</td>\n",
       "      <td>Afghanistan</td>\n",
       "      <td>9240934</td>\n",
       "      <td>AFG</td>\n",
       "    </tr>\n",
       "    <tr>\n",
       "      <th>2</th>\n",
       "      <td>1962</td>\n",
       "      <td>Afghanistan</td>\n",
       "      <td>10267083</td>\n",
       "      <td>AFG</td>\n",
       "    </tr>\n",
       "    <tr>\n",
       "      <th>3</th>\n",
       "      <td>1967</td>\n",
       "      <td>Afghanistan</td>\n",
       "      <td>11537966</td>\n",
       "      <td>AFG</td>\n",
       "    </tr>\n",
       "    <tr>\n",
       "      <th>4</th>\n",
       "      <td>1972</td>\n",
       "      <td>Afghanistan</td>\n",
       "      <td>13079460</td>\n",
       "      <td>AFG</td>\n",
       "    </tr>\n",
       "  </tbody>\n",
       "</table>\n",
       "</div>"
      ],
      "text/plain": [
       "   year      country       pop country_code\n",
       "0  1952  Afghanistan   8425333          AFG\n",
       "1  1957  Afghanistan   9240934          AFG\n",
       "2  1962  Afghanistan  10267083          AFG\n",
       "3  1967  Afghanistan  11537966          AFG\n",
       "4  1972  Afghanistan  13079460          AFG"
      ]
     },
     "execution_count": 11,
     "metadata": {},
     "output_type": "execute_result"
    }
   ],
   "source": [
    "population_data = population_data.merge(country_mapping,on = \"country\")\n",
    "population_data.head()"
   ]
  },
  {
   "attachments": {},
   "cell_type": "markdown",
   "id": "cba9eb7c",
   "metadata": {},
   "source": [
    "# CSV Export"
   ]
  },
  {
   "cell_type": "code",
   "execution_count": 17,
   "id": "66cada53",
   "metadata": {},
   "outputs": [],
   "source": [
    "population_data.to_csv(\"../../processed/population_gapminder.csv\",index = False)"
   ]
  },
  {
   "attachments": {},
   "cell_type": "markdown",
   "id": "49f8e011",
   "metadata": {},
   "source": [
    "# Visualisation"
   ]
  },
  {
   "cell_type": "code",
   "execution_count": 23,
   "id": "c7c7946c",
   "metadata": {},
   "outputs": [
    {
     "data": {
      "image/png": "[encoded data removed]",
      "text/plain": [
       "<Figure size 1000x300 with 1 Axes>"
      ]
     },
     "metadata": {},
     "output_type": "display_data"
    }
   ],
   "source": [
    "population_data.query(\"country_code=='FRA'\").set_index(\"year\")[\"pop\"].plot(kind = \"bar\",figsize = (10,3))\n",
    "plt.show()"
   ]
  },
  {
   "attachments": {},
   "cell_type": "markdown",
   "id": "55f5acb0",
   "metadata": {},
   "source": [
    "# Note"
   ]
  },
  {
   "attachments": {},
   "cell_type": "markdown",
   "id": "e9279f37",
   "metadata": {},
   "source": [
    "## Gapminder does not have all the year included"
   ]
  },
  {
   "attachments": {},
   "cell_type": "markdown",
   "id": "d81af136",
   "metadata": {},
   "source": [
    "## Gapminder includes GDP data as well"
   ]
  },
  {
   "cell_type": "code",
   "execution_count": 4,
   "id": "1d8623fa",
   "metadata": {},
   "outputs": [
    {
     "data": {
      "text/html": [
       "<div>\n",
       "<style scoped>\n",
       "    .dataframe tbody tr th:only-of-type {\n",
       "        vertical-align: middle;\n",
       "    }\n",
       "\n",
       "    .dataframe tbody tr th {\n",
       "        vertical-align: top;\n",
       "    }\n",
       "\n",
       "    .dataframe thead th {\n",
       "        text-align: right;\n",
       "    }\n",
       "</style>\n",
       "<table border=\"1\" class=\"dataframe\">\n",
       "  <thead>\n",
       "    <tr style=\"text-align: right;\">\n",
       "      <th></th>\n",
       "      <th>country</th>\n",
       "      <th>continent</th>\n",
       "      <th>year</th>\n",
       "      <th>lifeExp</th>\n",
       "      <th>pop</th>\n",
       "      <th>gdpPercap</th>\n",
       "    </tr>\n",
       "  </thead>\n",
       "  <tbody>\n",
       "    <tr>\n",
       "      <th>0</th>\n",
       "      <td>Afghanistan</td>\n",
       "      <td>Asia</td>\n",
       "      <td>1952</td>\n",
       "      <td>28.801</td>\n",
       "      <td>8425333</td>\n",
       "      <td>779.445314</td>\n",
       "    </tr>\n",
       "    <tr>\n",
       "      <th>1</th>\n",
       "      <td>Afghanistan</td>\n",
       "      <td>Asia</td>\n",
       "      <td>1957</td>\n",
       "      <td>30.332</td>\n",
       "      <td>9240934</td>\n",
       "      <td>820.853030</td>\n",
       "    </tr>\n",
       "    <tr>\n",
       "      <th>2</th>\n",
       "      <td>Afghanistan</td>\n",
       "      <td>Asia</td>\n",
       "      <td>1962</td>\n",
       "      <td>31.997</td>\n",
       "      <td>10267083</td>\n",
       "      <td>853.100710</td>\n",
       "    </tr>\n",
       "    <tr>\n",
       "      <th>3</th>\n",
       "      <td>Afghanistan</td>\n",
       "      <td>Asia</td>\n",
       "      <td>1967</td>\n",
       "      <td>34.020</td>\n",
       "      <td>11537966</td>\n",
       "      <td>836.197138</td>\n",
       "    </tr>\n",
       "    <tr>\n",
       "      <th>4</th>\n",
       "      <td>Afghanistan</td>\n",
       "      <td>Asia</td>\n",
       "      <td>1972</td>\n",
       "      <td>36.088</td>\n",
       "      <td>13079460</td>\n",
       "      <td>739.981106</td>\n",
       "    </tr>\n",
       "  </tbody>\n",
       "</table>\n",
       "</div>"
      ],
      "text/plain": [
       "       country continent  year  lifeExp       pop   gdpPercap\n",
       "0  Afghanistan      Asia  1952   28.801   8425333  779.445314\n",
       "1  Afghanistan      Asia  1957   30.332   9240934  820.853030\n",
       "2  Afghanistan      Asia  1962   31.997  10267083  853.100710\n",
       "3  Afghanistan      Asia  1967   34.020  11537966  836.197138\n",
       "4  Afghanistan      Asia  1972   36.088  13079460  739.981106"
      ]
     },
     "execution_count": 4,
     "metadata": {},
     "output_type": "execute_result"
    }
   ],
   "source": [
    "gapminder.head()"
   ]
  },
  {
   "attachments": {},
   "cell_type": "markdown",
   "id": "b9088859",
   "metadata": {},
   "source": [
    "## All the countries are not in Gapminder, total are not correct"
   ]
  },
  {
   "attachments": {},
   "cell_type": "markdown",
   "id": "76f3cf3c",
   "metadata": {},
   "source": [
    "> Gapminder dataset might not cover all countries, and the total population calculated using this dataset might not be equal to the actual world population."
   ]
  },
  {
   "cell_type": "code",
   "execution_count": null,
   "id": "46fe900f",
   "metadata": {},
   "outputs": [],
   "source": []
  }
 ],
 "metadata": {
  "kernelspec": {
   "display_name": "Python 3",
   "language": "python",
   "name": "python3"
  },
  "language_info": {
   "codemirror_mode": {
    "name": "ipython",
    "version": 3
   },
   "file_extension": ".py",
   "mimetype": "text/x-python",
   "name": "python",
   "nbconvert_exporter": "python",
   "pygments_lexer": "ipython3",
   "version": "3.9.2"
  }
 },
 "nbformat": 4,
 "nbformat_minor": 5
}
