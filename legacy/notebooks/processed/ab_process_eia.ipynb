{
 "cells": [
  {
   "cell_type": "code",
   "execution_count": 1,
   "metadata": {},
   "outputs": [],
   "source": [
    "import pandas as pd"
   ]
  },
  {
   "attachments": {},
   "cell_type": "markdown",
   "metadata": {},
   "source": [
    "## Creation of the EIA dataframe"
   ]
  },
  {
   "cell_type": "code",
   "execution_count": 2,
   "metadata": {},
   "outputs": [],
   "source": [
    "path = \"../../data/_raw/eia/eia_api_intl_2020_2021.csv\"\n",
    "df_eia = pd.read_csv(path)\n",
    "\n",
    "\n",
    "\n",
    "#add the name of the source\n",
    "df_eia[\"data_source\"] = \"eia\"\n",
    "\n",
    "#column selection\n",
    "df_eia = df_eia[[\"data_source\", \"period\", \"productName\", \"activityName\", \"countryRegionId\", \"countryRegionName\", \"unitName\", \"value\", \"unit\"]]\n",
    "\n",
    "#delete duplicates\n",
    "\"\"\"\n",
    "Duplicates have been found:\n",
    "    - different idProduct for identical rows\n",
    "    - 1 duplicate for USA, 2020, Coal Prod with values that are almost exactly the same\n",
    "    - same data but different units\n",
    "\"\"\"\n",
    "df_eia = df_eia.drop_duplicates([\"period\", \"productName\", \"activityName\", \"countryRegionId\"])\n",
    "\n",
    "#colums renaming\n",
    "df_eia.rename(columns={\n",
    "    'period': 'year',\n",
    "    'productName': 'product_name',\n",
    "    'activityName': 'activity_name',\n",
    "    'countryRegionId': 'country_iso3',\n",
    "    'countryRegionName': 'country_name',\n",
    "    'unitName': 'unit_name'\n",
    "}, inplace=True)"
   ]
  },
  {
   "attachments": {},
   "cell_type": "markdown",
   "metadata": {},
   "source": [
    "## Creation of the Coal dataframe"
   ]
  },
  {
   "cell_type": "code",
   "execution_count": 3,
   "metadata": {},
   "outputs": [],
   "source": [
    "#Coal dataframe creation\n",
    "df_eia_coal = df_eia[\n",
    "    df_eia[\"product_name\"]=='Coal'\n",
    "    ]\n",
    "\n",
    "# currently, the SDP does not have \"Reserves\" indicator for Coal. Reserves indicator is present in this dataset, but only in MST unit\n",
    "# for now, we'll delete \"Reserves\" indicator to update SDP with the same scope of values.\n",
    "df_eia_coal = df_eia_coal[df_eia_coal[\"activity_name\"] != \"Reserves\"]\n",
    "\n"
   ]
  },
  {
   "attachments": {},
   "cell_type": "markdown",
   "metadata": {},
   "source": [
    "## Conversion of energy units into Mtoe"
   ]
  },
  {
   "cell_type": "code",
   "execution_count": 5,
   "metadata": {},
   "outputs": [],
   "source": [
    "#creation of energy unit conversion dataframe\n",
    "data = {\n",
    "    'unit' : [\"MTOE\", \"MT\", 'QBTU', \"TJ\", \"TST\"],\n",
    "    'to_Mtoe_divider' : [1, 1568.08988833186, 0.0396832072107753, 41868.0000184606, 1728.52322045437]\n",
    "}\n",
    "df_conversion = pd.DataFrame(data)\n",
    "\n",
    "#clean value column\n",
    "values_to_replace = [\"--\", \"ie\"]\n",
    "df_eia_coal[\"value\"] = df_eia_coal[\"value\"].replace(values_to_replace, 0)\n",
    "\n",
    "#conversion of value into float data type\n",
    "df_eia_coal[\"value\"] = df_eia_coal[\"value\"].astype(float)\n",
    "\n",
    "#conversion of all units in Mtoe\n",
    "#left join with df_conversion dataframe \n",
    "df = df_eia_coal.merge(df_conversion, left_on=\"unit\", right_on=\"unit\", how=\"left\")\n",
    "df[\"value_MTOE\"] = df[\"value\"] / df[\"to_Mtoe_divider\"]\n",
    "df_eia_coal = df.drop([\"value\", \"to_Mtoe_divider\", 'unit', 'unit_name'], axis=1)\n",
    "\n",
    "\n",
    "#df_eia_coal.head()"
   ]
  },
  {
   "attachments": {},
   "cell_type": "markdown",
   "metadata": {},
   "source": [
    "## Pivot activity_name columns"
   ]
  },
  {
   "cell_type": "code",
   "execution_count": 34,
   "metadata": {},
   "outputs": [
    {
     "data": {
      "text/html": [
       "<div>\n",
       "<style scoped>\n",
       "    .dataframe tbody tr th:only-of-type {\n",
       "        vertical-align: middle;\n",
       "    }\n",
       "\n",
       "    .dataframe tbody tr th {\n",
       "        vertical-align: top;\n",
       "    }\n",
       "\n",
       "    .dataframe thead th {\n",
       "        text-align: right;\n",
       "    }\n",
       "</style>\n",
       "<table border=\"1\" class=\"dataframe\">\n",
       "  <thead>\n",
       "    <tr style=\"text-align: right;\">\n",
       "      <th>activity_name</th>\n",
       "      <th>data_source</th>\n",
       "      <th>year</th>\n",
       "      <th>product_name</th>\n",
       "      <th>country_iso3</th>\n",
       "      <th>country_name</th>\n",
       "      <th>consumption_Mtoe</th>\n",
       "      <th>export_Mtoe</th>\n",
       "      <th>import_Mtoe</th>\n",
       "      <th>production_Mtoe</th>\n",
       "    </tr>\n",
       "  </thead>\n",
       "  <tbody>\n",
       "    <tr>\n",
       "      <th>0</th>\n",
       "      <td>eia</td>\n",
       "      <td>2020</td>\n",
       "      <td>Coal</td>\n",
       "      <td>AFG</td>\n",
       "      <td>Afghanistan</td>\n",
       "      <td>0.0</td>\n",
       "      <td>0.329046</td>\n",
       "      <td>0.0</td>\n",
       "      <td>0.036350</td>\n",
       "    </tr>\n",
       "    <tr>\n",
       "      <th>1</th>\n",
       "      <td>eia</td>\n",
       "      <td>2020</td>\n",
       "      <td>Coal</td>\n",
       "      <td>AGO</td>\n",
       "      <td>Angola</td>\n",
       "      <td>0.0</td>\n",
       "      <td>0.000000</td>\n",
       "      <td>0.0</td>\n",
       "      <td>0.000000</td>\n",
       "    </tr>\n",
       "    <tr>\n",
       "      <th>2</th>\n",
       "      <td>eia</td>\n",
       "      <td>2020</td>\n",
       "      <td>Coal</td>\n",
       "      <td>ARE</td>\n",
       "      <td>United Arab Emirates</td>\n",
       "      <td>0.0</td>\n",
       "      <td>0.000983</td>\n",
       "      <td>0.0</td>\n",
       "      <td>0.000000</td>\n",
       "    </tr>\n",
       "    <tr>\n",
       "      <th>3</th>\n",
       "      <td>eia</td>\n",
       "      <td>2020</td>\n",
       "      <td>Coal</td>\n",
       "      <td>ARG</td>\n",
       "      <td>Argentina</td>\n",
       "      <td>0.0</td>\n",
       "      <td>0.000754</td>\n",
       "      <td>0.0</td>\n",
       "      <td>0.011188</td>\n",
       "    </tr>\n",
       "    <tr>\n",
       "      <th>4</th>\n",
       "      <td>eia</td>\n",
       "      <td>2020</td>\n",
       "      <td>Coal</td>\n",
       "      <td>ARM</td>\n",
       "      <td>Armenia</td>\n",
       "      <td>0.0</td>\n",
       "      <td>0.000000</td>\n",
       "      <td>0.0</td>\n",
       "      <td>0.000000</td>\n",
       "    </tr>\n",
       "  </tbody>\n",
       "</table>\n",
       "</div>"
      ],
      "text/plain": [
       "activity_name data_source  year product_name country_iso3  \\\n",
       "0                     eia  2020         Coal          AFG   \n",
       "1                     eia  2020         Coal          AGO   \n",
       "2                     eia  2020         Coal          ARE   \n",
       "3                     eia  2020         Coal          ARG   \n",
       "4                     eia  2020         Coal          ARM   \n",
       "\n",
       "activity_name          country_name  consumption_Mtoe  export_Mtoe  \\\n",
       "0                       Afghanistan               0.0     0.329046   \n",
       "1                            Angola               0.0     0.000000   \n",
       "2              United Arab Emirates               0.0     0.000983   \n",
       "3                         Argentina               0.0     0.000754   \n",
       "4                           Armenia               0.0     0.000000   \n",
       "\n",
       "activity_name  import_Mtoe  production_Mtoe  \n",
       "0                      0.0         0.036350  \n",
       "1                      0.0         0.000000  \n",
       "2                      0.0         0.000000  \n",
       "3                      0.0         0.011188  \n",
       "4                      0.0         0.000000  "
      ]
     },
     "execution_count": 34,
     "metadata": {},
     "output_type": "execute_result"
    }
   ],
   "source": [
    "#pivot activity_name columns to fit data structure\n",
    "pivot_df = pd.pivot_table(df_eia_coal, values= 'value_MTOE', index=['data_source', 'year', 'product_name', 'country_iso3', 'country_name'], columns='activity_name', fill_value=0)\n",
    "\n",
    "# reinitialize indexes\n",
    "pivot_df = pivot_df.reset_index()\n",
    "\n",
    "#colums renaming\n",
    "pivot_df.rename(columns={\n",
    "    'Consumption': 'consumption_Mtoe',\n",
    "    'Exports': 'export_Mtoe',\n",
    "    'Imports': 'import_Mtoe',\n",
    "    'Production': 'production_Mtoe'\n",
    "}, inplace=True)\n",
    "\n",
    "# pd.DataFrame() -> to create a new df and not just a pointer to pivot_df\n",
    "df_eia_coal = pd.DataFrame(pivot_df)\n",
    "\n",
    "#df_eia_coal.head()"
   ]
  },
  {
   "cell_type": "code",
   "execution_count": null,
   "metadata": {},
   "outputs": [],
   "source": [
    "#store Coal df into a csv file\n",
    "csv_name = 'eia_primary_energy_coal.csv'\n",
    "df_eia_coal.to_csv('../../data/_processed/' + csv_name, index=False)"
   ]
  }
 ],
 "metadata": {
  "kernelspec": {
   "display_name": ".venv",
   "language": "python",
   "name": "python3"
  },
  "language_info": {
   "codemirror_mode": {
    "name": "ipython",
    "version": 3
   },
   "file_extension": ".py",
   "mimetype": "text/x-python",
   "name": "python",
   "nbconvert_exporter": "python",
   "pygments_lexer": "ipython3",
   "version": "3.11.3"
  },
  "orig_nbformat": 4
 },
 "nbformat": 4,
 "nbformat_minor": 2
}
